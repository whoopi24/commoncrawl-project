{
 "cells": [
  {
   "cell_type": "markdown",
   "source": [
    "# Interdisciplinary Project\n",
    "by Marina Sommer | 11778902"
   ],
   "metadata": {
    "collapsed": false
   },
   "id": "66af32a14aeb3ff3"
  },
  {
   "cell_type": "markdown",
   "source": [
    "Workflow is as follows:"
   ],
   "metadata": {
    "collapsed": false
   },
   "id": "6a34fa94bc89a283"
  },
  {
   "cell_type": "code",
   "outputs": [],
   "source": [
    "# import packages\n",
    "from urllib.request import urlretrieve\n",
    "import os\n",
    "import re \n",
    "import random\n",
    "import pandas as pd\n",
    "import numpy as np\n",
    "import matplotlib.pyplot as plt"
   ],
   "metadata": {
    "collapsed": false,
    "ExecuteTime": {
     "end_time": "2024-02-13T22:34:44.711608800Z",
     "start_time": "2024-02-13T22:34:44.683926500Z"
    }
   },
   "id": "417a92092b5e6dab",
   "execution_count": 64
  },
  {
   "cell_type": "code",
   "outputs": [
    {
     "name": "stdout",
     "output_type": "stream",
     "text": [
      "https://data.commoncrawl.org/cc-index/collections/CC-MAIN-2023-40/indexes/cluster.idx\n"
     ]
    }
   ],
   "source": [
    "# 1) select crawl: CC-MAIN-2023-40 and download cluster.idx\n",
    "crawl_name = \"CC-MAIN-2023-40\"\n",
    "path1 = 'https://data.commoncrawl.org/cc-index/collections/'\n",
    "path2 = '/indexes/cluster.idx'\n",
    "url = path1 + crawl_name + path2\n",
    "print(url)"
   ],
   "metadata": {
    "collapsed": false,
    "ExecuteTime": {
     "end_time": "2024-02-13T21:07:53.728337700Z",
     "start_time": "2024-02-13T21:07:53.697191600Z"
    }
   },
   "id": "50a8e33896a1aa4f",
   "execution_count": 5
  },
  {
   "cell_type": "code",
   "outputs": [
    {
     "data": {
      "text/plain": "('S:msommer\\\\CC-MAIN-2023-40\\\\cluster.tsv',\n <http.client.HTTPMessage at 0x22ee79c1750>)"
     },
     "execution_count": 27,
     "metadata": {},
     "output_type": "execute_result"
    }
   ],
   "source": [
    "crawl_dir = os.path.join(\"S:\", \"msommer\", crawl_name)\n",
    "if not os.path.exists(crawl_dir):\n",
    "   os.makedirs(crawl_dir)\n",
    "filename = os.path.join(crawl_dir, \"cluster.txt\")\n",
    "urlretrieve(url, filename)"
   ],
   "metadata": {
    "collapsed": false,
    "ExecuteTime": {
     "end_time": "2024-02-13T21:48:21.119618200Z",
     "start_time": "2024-02-13T21:48:05.581796800Z"
    }
   },
   "id": "9b26717aeaca600e",
   "execution_count": 27
  },
  {
   "cell_type": "code",
   "outputs": [
    {
     "name": "stdout",
     "output_type": "stream",
     "text": [
      "['cdx-00165.gz', 'cdx-00166.gz', 'cdx-00167.gz', 'cdx-00168.gz', 'cdx-00169.gz', 'cdx-00170.gz', 'cdx-00171.gz', 'cdx-00172.gz', 'cdx-00173.gz', 'cdx-00174.gz', 'cdx-00175.gz', 'cdx-00176.gz', 'cdx-00177.gz']\n"
     ]
    }
   ],
   "source": [
    "# 2) filter cdx files with tld at / de\n",
    "regex = '^de,' # '^at,' or '^de,'\n",
    "with open(filename, \"rt\") as file:     \n",
    "    cdx_files = []\n",
    "    for line in file:\n",
    "        tld = line.split(\"\\t\")\n",
    "        match = re.search(regex, tld[0])  # ^at,\n",
    "        if match: \n",
    "            if not tld[1] in cdx_files:\n",
    "                cdx_files.append(tld[1])\n",
    "print(cdx_files)      "
   ],
   "metadata": {
    "collapsed": false,
    "ExecuteTime": {
     "end_time": "2024-02-13T22:42:48.865531300Z",
     "start_time": "2024-02-13T22:42:42.309297200Z"
    }
   },
   "id": "e7a1b3aa7f997d10",
   "execution_count": 96
  },
  {
   "cell_type": "code",
   "outputs": [
    {
     "name": "stdout",
     "output_type": "stream",
     "text": [
      "[6, 1, 0]\n",
      "['cdx-00171.gz', 'cdx-00166.gz', 'cdx-00165.gz']\n"
     ]
    }
   ],
   "source": [
    "# 3) choose and download cdx files, e.g. cdx-00003.gz -> way too much for de\n",
    "if len(cdx_files) > 3:\n",
    "    idx = random.sample(range(0, len(cdx_files)), 3)\n",
    "    print(idx)\n",
    "    cdx_files = [cdx_files[i] for i in idx]\n",
    "    print(cdx_files)"
   ],
   "metadata": {
    "collapsed": false,
    "ExecuteTime": {
     "end_time": "2024-02-13T22:42:51.630426400Z",
     "start_time": "2024-02-13T22:42:51.577796Z"
    }
   },
   "id": "78dfbdb5cdf72da2",
   "execution_count": 97
  },
  {
   "cell_type": "code",
   "outputs": [
    {
     "name": "stdout",
     "output_type": "stream",
     "text": [
      "<class 'list'>\n"
     ]
    },
    {
     "ename": "TypeError",
     "evalue": "can only concatenate str (not \"list\") to str",
     "output_type": "error",
     "traceback": [
      "\u001B[1;31m---------------------------------------------------------------------------\u001B[0m",
      "\u001B[1;31mTypeError\u001B[0m                                 Traceback (most recent call last)",
      "Cell \u001B[1;32mIn[49], line 6\u001B[0m\n\u001B[0;32m      4\u001B[0m cdx_files \u001B[38;5;241m=\u001B[39m \u001B[38;5;28mlist\u001B[39m(\u001B[38;5;28mset\u001B[39m([\u001B[38;5;124m\"\u001B[39m\u001B[38;5;124ma\u001B[39m\u001B[38;5;124m\"\u001B[39m, \u001B[38;5;124m\"\u001B[39m\u001B[38;5;124mbb\u001B[39m\u001B[38;5;124m\"\u001B[39m, \u001B[38;5;124m\"\u001B[39m\u001B[38;5;124mccc\u001B[39m\u001B[38;5;124m\"\u001B[39m]))\n\u001B[0;32m      5\u001B[0m \u001B[38;5;28mprint\u001B[39m(\u001B[38;5;28mtype\u001B[39m(cdx_files))\n\u001B[1;32m----> 6\u001B[0m url_list \u001B[38;5;241m=\u001B[39m \u001B[43mpath1\u001B[49m\u001B[43m \u001B[49m\u001B[38;5;241;43m+\u001B[39;49m\u001B[43m \u001B[49m\u001B[43mcrawl_name\u001B[49m\u001B[43m \u001B[49m\u001B[38;5;241;43m+\u001B[39;49m\u001B[43m \u001B[49m\u001B[43mpath2\u001B[49m\u001B[43m \u001B[49m\u001B[38;5;241;43m+\u001B[39;49m\u001B[43m \u001B[49m\u001B[43mcdx_files\u001B[49m\n\u001B[0;32m      7\u001B[0m \u001B[38;5;28mprint\u001B[39m(url_list)\n",
      "\u001B[1;31mTypeError\u001B[0m: can only concatenate str (not \"list\") to str"
     ]
    }
   ],
   "source": [
    "# wget “https://data.commoncrawl.org/cc-index/collections/CC-MAIN-2022-05/indexes/$i.gz\"\n",
    "path1 = 'https://data.commoncrawl.org/cc-index/collections/'\n",
    "path2 = '/indexes/'\n",
    "cdx_files = [\"a\", \"bb\", \"ccc\"]\n",
    "url_list = path1 + crawl_name + path2 + cdx_files\n",
    "print(url_list)"
   ],
   "metadata": {
    "collapsed": false,
    "ExecuteTime": {
     "end_time": "2024-02-13T22:01:17.339148900Z",
     "start_time": "2024-02-13T22:01:17.288093500Z"
    }
   },
   "id": "3217dcf181187af0",
   "execution_count": 49
  }
 ],
 "metadata": {
  "kernelspec": {
   "display_name": "Python 3",
   "language": "python",
   "name": "python3"
  },
  "language_info": {
   "codemirror_mode": {
    "name": "ipython",
    "version": 2
   },
   "file_extension": ".py",
   "mimetype": "text/x-python",
   "name": "python",
   "nbconvert_exporter": "python",
   "pygments_lexer": "ipython2",
   "version": "2.7.6"
  }
 },
 "nbformat": 4,
 "nbformat_minor": 5
}
