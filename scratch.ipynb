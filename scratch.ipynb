{
 "cells": [
  {
   "cell_type": "markdown",
   "source": [
    "# Interdisciplinary Project\n",
    "by Marina Sommer | 11778902"
   ],
   "metadata": {
    "collapsed": false
   },
   "id": "66af32a14aeb3ff3"
  },
  {
   "cell_type": "markdown",
   "source": [
    "Workflow is as follows:"
   ],
   "metadata": {
    "collapsed": false
   },
   "id": "6a34fa94bc89a283"
  },
  {
   "cell_type": "code",
   "outputs": [],
   "source": [
    "# import packages\n",
    "from urllib.request import urlretrieve\n",
    "import os\n",
    "import re \n",
    "import random\n",
    "import gzip\n",
    "import json\n",
    "from collections import Counter\n",
    "import time\n",
    "import pandas as pd\n",
    "import numpy as np\n",
    "import matplotlib.pyplot as plt"
   ],
   "metadata": {
    "collapsed": false,
    "ExecuteTime": {
     "end_time": "2024-02-16T15:26:54.546291700Z",
     "start_time": "2024-02-16T15:26:54.532463600Z"
    }
   },
   "id": "417a92092b5e6dab",
   "execution_count": 84
  },
  {
   "cell_type": "code",
   "outputs": [
    {
     "name": "stdout",
     "output_type": "stream",
     "text": [
      "https://data.commoncrawl.org/cc-index/collections/CC-MAIN-2023-40/indexes/cluster.idx\n"
     ]
    }
   ],
   "source": [
    "# 1) select crawl: CC-MAIN-2023-40 and download cluster.idx\n",
    "crawl_name = \"CC-MAIN-2023-40\"\n",
    "top_lvl_domain = \"at\"   # oder \"de\"\n",
    "path1 = 'https://data.commoncrawl.org/cc-index/collections/'\n",
    "path2 = '/indexes/'\n",
    "path_ccrawl = path1 + crawl_name + path2\n",
    "url = path_ccrawl + 'cluster.idx'\n",
    "print(url)"
   ],
   "metadata": {
    "collapsed": false,
    "ExecuteTime": {
     "end_time": "2024-02-16T17:38:12.273593700Z",
     "start_time": "2024-02-16T17:38:12.215485400Z"
    }
   },
   "id": "50a8e33896a1aa4f",
   "execution_count": 136
  },
  {
   "cell_type": "code",
   "outputs": [],
   "source": [
    "crawl_dir = os.path.join(\"S:\", \"msommer\", crawl_name, top_lvl_domain)   # evt tld hinzufuegen!! ToDo !!\n",
    "if not os.path.exists(crawl_dir):\n",
    "   os.makedirs(crawl_dir)\n",
    "cluster_file = os.path.join(crawl_dir, \"cluster.txt\")\n",
    "#urlretrieve(url, cluster_file)"
   ],
   "metadata": {
    "collapsed": false,
    "ExecuteTime": {
     "end_time": "2024-02-16T17:38:19.897898200Z",
     "start_time": "2024-02-16T17:38:19.845507400Z"
    }
   },
   "id": "9b26717aeaca600e",
   "execution_count": 137
  },
  {
   "cell_type": "code",
   "outputs": [
    {
     "name": "stdout",
     "output_type": "stream",
     "text": [
      "['cdx-00002.gz', 'cdx-00003.gz', 'cdx-00004.gz']\n"
     ]
    }
   ],
   "source": [
    "# 2) filter cdx files with tld '^at,' or '^de,'\n",
    "regex = '^' + top_lvl_domain + ','\n",
    "with open(cluster_file, \"rt\") as file:     \n",
    "    cdx_files = []\n",
    "    for line in file:\n",
    "        tld = line.split(\"\\t\")\n",
    "        match = re.search(regex, tld[0])  # ^at,\n",
    "        if match: \n",
    "            if not tld[1] in cdx_files:\n",
    "                cdx_files.append(tld[1])\n",
    "print(cdx_files)      "
   ],
   "metadata": {
    "collapsed": false,
    "ExecuteTime": {
     "end_time": "2024-02-16T17:39:18.376424900Z",
     "start_time": "2024-02-16T17:39:13.172060Z"
    }
   },
   "id": "e7a1b3aa7f997d10",
   "execution_count": 138
  },
  {
   "cell_type": "code",
   "outputs": [],
   "source": [
    "# 3) randomly choose cdx files, e.g. cdx-00003.gz -> way too much for de\n",
    "if len(cdx_files) > 3:\n",
    "    idx = random.sample(range(0, len(cdx_files)), 3)\n",
    "    print(idx)\n",
    "    cdx_files = [cdx_files[i] for i in idx]\n",
    "    print(cdx_files)"
   ],
   "metadata": {
    "collapsed": false,
    "ExecuteTime": {
     "end_time": "2024-02-16T17:39:35.172338900Z",
     "start_time": "2024-02-16T17:39:35.134473100Z"
    }
   },
   "id": "78dfbdb5cdf72da2",
   "execution_count": 139
  },
  {
   "cell_type": "code",
   "outputs": [
    {
     "name": "stdout",
     "output_type": "stream",
     "text": [
      "cdx-00002.gz\n",
      "cdx-00003.gz\n",
      "cdx-00004.gz\n"
     ]
    }
   ],
   "source": [
    "# 4) download cdx files (one takes ~ 2 min)\n",
    "# wget “https://data.commoncrawl.org/cc-index/collections/CC-MAIN-2022-05/indexes/$i.gz\"\n",
    "for file in cdx_files:\n",
    "    print(file)\n",
    "    url = path_ccrawl + file\n",
    "    filename = os.path.join(crawl_dir, file)\n",
    "    #urlretrieve(url, filename)"
   ],
   "metadata": {
    "collapsed": false,
    "ExecuteTime": {
     "end_time": "2024-02-16T17:39:44.819171100Z",
     "start_time": "2024-02-16T17:39:44.760441Z"
    }
   },
   "id": "b7ac29262600bc36",
   "execution_count": 140
  },
  {
   "cell_type": "code",
   "outputs": [],
   "source": [
    "from urllib.request import urlretrieve\n",
    "def tryDownload(url, filename, retries=0):\n",
    "    if retries > 10: \n",
    "        print(\"Download failed.\")\n",
    "        return\n",
    "    try:\n",
    "        urlretrieve(url, filename)  \n",
    "    except:\n",
    "        time.sleep(1)\n",
    "        tryDownload(url, filename, retries+1)"
   ],
   "metadata": {
    "collapsed": false,
    "ExecuteTime": {
     "end_time": "2024-02-16T15:16:36.244269300Z",
     "start_time": "2024-02-16T15:16:36.203268700Z"
    }
   },
   "id": "2cbb9079c9e70970",
   "execution_count": 80
  },
  {
   "cell_type": "code",
   "outputs": [
    {
     "name": "stdout",
     "output_type": "stream",
     "text": [
      "S:msommer\\CC-MAIN-2023-40\\at\\cdx-00002.gz\n",
      "S:msommer\\CC-MAIN-2023-40\\at\\CC-MAIN-20230923130827-20230923160827-00403.warc.wet.gz\n",
      "https://data.commoncrawl.org/crawl-data/CC-MAIN-2023-40/segments/1695233506481.17/warc/CC-MAIN-20230923130827-20230923160827-00403.warc.gz\n"
     ]
    }
   ],
   "source": [
    "# 5) gunzip and open it - one line looks like the following:\n",
    "warc_files = []\n",
    "for file in cdx_files:\n",
    "    filename = os.path.join(crawl_dir, file)\n",
    "    print(filename)\n",
    "    with gzip.open(filename, 'rt') as f:\n",
    "        for line in f:          \n",
    "            match = re.search(regex, line)  # ^at,\n",
    "            if match: \n",
    "                l = line.split(\"{\\\"url\\\":\")\n",
    "                string = \"{\\\"url\\\":\" + l[1]\n",
    "                d = json.loads(string)\n",
    "                warc = d[\"filename\"]\n",
    "                if int(d[\"length\"]) > 10000: \n",
    "                    warc_files.append(warc)\n",
    "        count_dict = Counter(warc_files)    # 1 - 73 occurrences per warc file\n",
    "        \n",
    "        # only download warc files with a lot of occurrences --> maybe download not necessary? --> see below\n",
    "        for key, value in count_dict.items():\n",
    "            if value >= 50:\n",
    "                # 6) get filename, convert to wet file and download (WARC: ~ 2 min, WET: 15 sec )\n",
    "                # warc: wget https://data.commoncrawl.org/crawl-data/CC-MAIN-2023-40/segments/1695233511424.48/warc/CC-MAIN-20231004220037-20231005010037-00086.warc.gz\n",
    "                # wet:  wget https://data.commoncrawl.org/crawl-data/CC-MAIN-2023-40/segments/1695233511424.48/wet/CC-MAIN-20231004220037-20231005010037-00086.warc.wet.gz\n",
    "                key_path = key.split(\"/\")[-1].replace(\"warc.gz\", \"warc.wet.gz\")\n",
    "                filename = os.path.join(crawl_dir, key_path)\n",
    "                print(filename)\n",
    "                url = \"https://data.commoncrawl.org/\" + key\n",
    "                print(url)\n",
    "                #tryDownload(url, filename)  \n",
    "                break\n",
    "    break"
   ],
   "metadata": {
    "collapsed": false,
    "ExecuteTime": {
     "end_time": "2024-02-16T17:53:43.977737800Z",
     "start_time": "2024-02-16T17:50:47.781857900Z"
    }
   },
   "id": "3217dcf181187af0",
   "execution_count": 145
  },
  {
   "cell_type": "code",
   "outputs": [
    {
     "name": "stdout",
     "output_type": "stream",
     "text": [
      "WARC/1.0\n",
      "\n",
      "WARC-Type: warcinfo\n",
      "\n",
      "WARC-Date: 2023-09-23T13:08:27Z\n",
      "\n",
      "WARC-Record-ID: <urn:uuid:4e922815-3cac-4e86-94f7-88e752a3270b>\n",
      "\n",
      "Content-Length: 500\n",
      "\n",
      "Content-Type: application/warc-fields\n",
      "\n",
      "WARC-Filename: CC-MAIN-20230923130827-20230923160827-00876.warc.gz\n",
      "\n",
      "\n",
      "\n",
      "isPartOf: CC-MAIN-2023-40\n",
      "\n",
      "publisher: Common Crawl\n",
      "\n",
      "description: Wide crawl of the web for September/October 2023\n",
      "\n",
      "operator: Common Crawl Admin (info@commoncrawl.org)\n",
      "\n",
      "hostname: ip-10-67-67-168\n",
      "\n",
      "software: Apache Nutch 1.19 (modified, https://github.com/commoncrawl/nutch/)\n",
      "\n",
      "robots: checked via crawler-commons 1.5-SNAPSHOT (https://github.com/crawler-commons/crawler-commons)\n",
      "\n",
      "format: WARC File Format 1.1\n",
      "\n",
      "conformsTo: https://iipc.github.io/warc-specifications/specifications/warc-format/warc-1.1/\n",
      "\n",
      "\n",
      "\n",
      "\n",
      "\n",
      "WARC/1.0\n",
      "\n",
      "WARC-Type: request\n",
      "\n",
      "WARC-Date: 2023-09-23T13:18:37Z\n",
      "\n",
      "WARC-Record-ID: <urn:uuid:86ec99e8-953b-408f-80d1-6cc30ce2127f>\n",
      "\n",
      "Content-Length: 308\n",
      "\n",
      "Content-Type: application/http; msgtype=request\n",
      "\n",
      "WARC-Warcinfo-ID: <urn:uuid:4e922815-3cac-4e86-94f7-88e752a3270b>\n",
      "\n",
      "WARC-IP-Address: 210.89.181.40\n",
      "\n",
      "WARC-Target-URI: http://02-954-2279.pkt114.com/\n",
      "\n",
      "\n",
      "\n",
      "GET / HTTP/1.1\n",
      "\n",
      "User-Agent: CCBot/2.0 (https://commoncrawl.org/faq/)\n",
      "\n",
      "Accept: text/html,application/xhtml+xml,application/xml;q=0.9,*/*;q=0.8\n",
      "\n",
      "Accept-Language: en-US,en;q=0.5\n",
      "\n",
      "If-Modified-Since: Sun, 04 Jun 2023 12:58:18 GMT\n",
      "\n",
      "Accept-Encoding: br,gzip\n",
      "\n",
      "Host: 02-954-2279.pkt114.com\n",
      "\n",
      "Connection: Keep-Alive\n",
      "\n",
      "\n",
      "\n",
      "\n",
      "\n",
      "\n",
      "\n",
      "WARC/1.0\n",
      "\n",
      "WARC-Type: response\n",
      "\n",
      "WARC-Date: 2023-09-23T13:18:37Z\n",
      "\n",
      "WARC-Record-ID: <urn:uuid:2dddf5d6-acea-4155-8a9c-e933787c48d8>\n",
      "\n",
      "Content-Length: 2023\n",
      "\n",
      "Content-Type: application/http; msgtype=response\n",
      "\n",
      "WARC-Warcinfo-ID: <urn:uuid:4e922815-3cac-4e86-94f7-88e752a3270b>\n",
      "\n",
      "WARC-Concurrent-To: <urn:uuid:86ec99e8-953b-408f-80d1-6cc30ce2127f>\n",
      "\n",
      "WARC-IP-Address: 210.89.181.40\n",
      "\n",
      "WARC-Target-URI: http://02-954-2279.pkt114.com/\n",
      "\n",
      "WARC-Payload-Digest: sha1:WL4ST7BOA6SUDZZ372A642G76PWUZ34O\n",
      "\n",
      "WARC-Block-Digest: sha1:PYSMXYHOSJ7CUMOPF4VYWGETB45FRKHA\n",
      "\n",
      "WARC-Identified-Payload-Type: text/html\n",
      "\n",
      "\n",
      "\n",
      "HTTP/1.1 200 OK\n",
      "\n",
      "Date: Sat, 23 Sep 2023 13:34:29 GMT\n",
      "\n",
      "Server: Apache\n",
      "\n",
      "X-Powered-By: PHP/5.3.3\n",
      "\n",
      "P3P: CP=\"ALL CURa ADMa DEVa TAIa OUR BUS IND PHY ONL UNI PUR FIN COM NAV INT DEM CNT STA POL HEA PRE LOC OTC\"\n",
      "\n",
      "Content-Length: 1695\n",
      "\n",
      "Keep-Alive: timeout=5, max=1024\n",
      "\n",
      "Connection: Keep-Alive\n",
      "\n",
      "Content-Type: text/html; charset=euc-kr\n",
      "\n",
      "\n",
      "\n",
      "\n",
      "\n",
      "<html>\n",
      "\n",
      "<head>\n",
      "\n",
      "<link rel=\"SHORTCUT ICON\" href=\"/favicon.ico\">\n",
      "\n",
      "<title>µðµõµ¹Á¤½ÅÀçÈ°½Ã¼³</title>\n",
      "\n",
      "<meta http-equiv=Content-Type content=\"text/html;charset=euc-kr\">\n",
      "\n",
      "<meta http-equiv=Cache-Control content=No-Cache>\n",
      "\n",
      "<meta http-equiv=Pragma\tcontent=No-Cache>\n",
      "\n",
      "<meta http-equiv=\"X-UA-Compatible\" content=\"IE=EmulateIE9, requiresActiveX=true\">\n",
      "\n",
      "<META NAME=\"Keywords\" CONTENT=\"¼­¿ï½Ã,µµºÀ±¸,¹æÇÐµ¿,Á¤½ÅÀå¾ÖÀÎ»çÈ¸º¹±Í,Á÷¾÷ÀçÈ°ÇÁ·Î±×·¥,ÀÚ¿øºÀ»ç\">\n",
      "\n",
      "<META NAME=\"Description\" CONTENT=\"¼­¿ï½Ã,µµºÀ±¸,¹æÇÐµ¿,Á¤½ÅÀå¾ÖÀÎ»çÈ¸º¹±Í,Á÷¾÷ÀçÈ°ÇÁ·Î±×·¥,ÀÚ¿øºÀ»ç\">\n",
      "\n",
      "<meta name=\"NaverBot\" content=\"All\">\n",
      "\n",
      "<meta name=\"NaverBot\" content=\"index,follow\">\n",
      "\n",
      "<meta name=\"Yeti\" content=\"All\">\n",
      "\n",
      "<meta name=\"Yeti\" content=\"index,follow\">\n",
      "\n",
      "<link rel=\"canonical\" href=\"http://02-954-2279.pkt114.com/new_stand/index.htm?phone=02-954-2279&ck=1\" />\n",
      "\n",
      "<meta name=\"viewport\" content=\"width=device-width\">\n",
      "\n",
      "<meta property=\"og:type\" content=\"website\" />\n",
      "\n",
      "<meta property=\"og:title\" content=\"µðµõµ¹Á¤½ÅÀçÈ°½Ã¼³\" />\n",
      "\n",
      "<meta property=\"og:description\" content=\"¼­¿ï½Ã,µµºÀ±¸,¹æÇÐµ¿,Á¤½ÅÀå¾ÖÀÎ»çÈ¸º¹±Í,Á÷¾÷ÀçÈ°ÇÁ·Î±×·¥,ÀÚ¿øºÀ»ç\" />\n",
      "\n",
      "<meta property=\"og:url\" content=\"http://02-954-2279.pkt114.com/new_stand/index.htm?phone=02-954-2279&ck=1\" />\n",
      "\n",
      "<meta property=\"og:site_name\" content=\"µðµõµ¹Á¤½ÅÀçÈ°½Ã¼³\" />\n",
      "\n",
      "<style>\n",
      "\n",
      "body { margin:0px; padding:0px; background-color:Transparent;}\n",
      "\n",
      "</style>\n",
      "\n",
      "\n",
      "\n",
      "</HEAD>\n",
      "\n",
      "<frameset rows=\"*\" frameborder=\"NO\" border=\"0\" framespacing=\"0\" ID=\"frame\">\n",
      "\n",
      "  <frame name=\"mainframe\" src=\"http://02-954-2279.pkt114.com/new_stand/index.htm?phone=02-954-2279&ck=1\" scrolling=\"AUTO\" frameborder=\"NO\" marginwidth=\"0\" marginheight=\"0\" noresize>\n",
      "\n",
      "</frameset>\n",
      "\n",
      "\n",
      "\n",
      "\n",
      "\n",
      "<body bgcolor=\"#F1f1f1\"  text=\"#000000\" >\n",
      "\n",
      "    </body>\n",
      "\n",
      "</html>\n",
      "\n",
      "\n",
      "\n",
      "\n",
      "\n",
      "WARC/1.0\n",
      "\n",
      "WARC-Type: metadata\n",
      "\n",
      "WARC-Date: 2023-09-23T13:18:37Z\n",
      "\n",
      "WARC-Record-ID: <urn:uuid:4468cc0a-351d-4ae4-833b-3574f1391749>\n",
      "\n",
      "Content-Length: 199\n",
      "\n",
      "Content-Type: application/warc-fields\n",
      "\n",
      "WARC-Warcinfo-ID: <urn:uuid:4e922815-3cac-4e86-94f7-88e752a3270b>\n",
      "\n",
      "WARC-Concurrent-To: <urn:uuid:2dddf5d6-acea-4155-8a9c-e933787c48d8>\n",
      "\n",
      "WARC-Target-URI: http://02-954-2279.pkt114.com/\n",
      "\n",
      "\n",
      "\n",
      "fetchTimeMs: 421\n",
      "\n",
      "charset-detected: EUC-KR\n",
      "\n",
      "languages-cld2: {\"reliable\":true,\"text-bytes\":29,\"languages\":[{\"code\":\"ko\",\"code-iso-639-3\":\"kor\",\"text-covered\":0.96,\"score\":4096.0,\"name\":\"Korean\"}]}\n",
      "\n",
      "\n",
      "\n",
      "\n",
      "\n",
      "\n",
      "\n",
      "WARC/1.0\n",
      "\n",
      "WARC-Type: request\n",
      "\n",
      "WARC-Date: 2023-09-23T14:52:50Z\n",
      "\n",
      "WARC-Record-ID: <urn:uuid:d4a6ef39-a00a-459c-82c7-d3f6085cc596>\n",
      "\n",
      "Content-Length: 416\n",
      "\n",
      "Content-Type: application/http; msgtype=request\n",
      "\n",
      "WARC-Warcinfo-ID: <urn:uuid:4e922815-3cac-4e86-94f7-88e752a3270b>\n",
      "\n",
      "WARC-IP-Address: 210.89.181.40\n",
      "\n",
      "WARC-Target-URI: http://02-954-2279.pkt114.com/new_stand/sub.htm?phone=02-954-2279&step=&PageNum=040100&mchk=4&ck=1&menu_div=&b_chk=&bbs_seq=263877&div=02-954-2279&category=&class_name=3&page=3&key=&sword=\n",
      "\n",
      "\n",
      "\n",
      "GET /new_stand/sub.htm?phone=02-954-2279&step=&PageNum=040100&mchk=4&ck=1&menu_div=&b_chk=&bbs_seq=263877&div=02-954-2279&category=&class_name=3&page=3&key=&sword= HTTP/1.1\n",
      "\n",
      "User-Agent: CCBot/2.0 (https://commoncrawl.org/faq/)\n",
      "\n",
      "Accept: text/html,application/xhtml+xml,application/xml;q=0.9,*/*;q=0.8\n",
      "\n",
      "Accept-Language: en-US,en;q=0.5\n",
      "\n",
      "Accept-Encoding: br,gzip\n",
      "\n",
      "Host: 02-954-2279.pkt114.com\n",
      "\n",
      "Connection: Keep-Alive\n"
     ]
    },
    {
     "ename": "UnicodeDecodeError",
     "evalue": "'charmap' codec can't decode byte 0x8f in position 1303: character maps to <undefined>",
     "output_type": "error",
     "traceback": [
      "\u001B[1;31m---------------------------------------------------------------------------\u001B[0m",
      "\u001B[1;31mUnicodeDecodeError\u001B[0m                        Traceback (most recent call last)",
      "Cell \u001B[1;32mIn[99], line 4\u001B[0m\n\u001B[0;32m      1\u001B[0m filename \u001B[38;5;241m=\u001B[39m \u001B[38;5;124m\"\u001B[39m\u001B[38;5;124mS:msommer\u001B[39m\u001B[38;5;124m\\\u001B[39m\u001B[38;5;124mCC-MAIN-2023-40\u001B[39m\u001B[38;5;124m\\\u001B[39m\u001B[38;5;124mCC-MAIN-20230923130827-20230923160827-00876.warc.wet.gz\u001B[39m\u001B[38;5;124m\"\u001B[39m\n\u001B[0;32m      2\u001B[0m \u001B[38;5;28;01mwith\u001B[39;00m gzip\u001B[38;5;241m.\u001B[39mopen(filename, \u001B[38;5;124m'\u001B[39m\u001B[38;5;124mrt\u001B[39m\u001B[38;5;124m'\u001B[39m) \u001B[38;5;28;01mas\u001B[39;00m f:\n\u001B[0;32m      3\u001B[0m     \u001B[38;5;66;03m#file_content = f.read()\u001B[39;00m\n\u001B[1;32m----> 4\u001B[0m \u001B[43m    \u001B[49m\u001B[38;5;28;43;01mfor\u001B[39;49;00m\u001B[43m \u001B[49m\u001B[43mline\u001B[49m\u001B[43m \u001B[49m\u001B[38;5;129;43;01min\u001B[39;49;00m\u001B[43m \u001B[49m\u001B[43mf\u001B[49m\u001B[43m:\u001B[49m\u001B[43m          \u001B[49m\n\u001B[0;32m      5\u001B[0m \u001B[43m        \u001B[49m\u001B[38;5;28;43mprint\u001B[39;49m\u001B[43m(\u001B[49m\u001B[43mline\u001B[49m\u001B[43m)\u001B[49m\n\u001B[0;32m      6\u001B[0m         \u001B[38;5;66;03m#break\u001B[39;00m\n",
      "File \u001B[1;32m~\\.conda\\envs\\interdiscProject\\Lib\\encodings\\cp1252.py:23\u001B[0m, in \u001B[0;36mIncrementalDecoder.decode\u001B[1;34m(self, input, final)\u001B[0m\n\u001B[0;32m     22\u001B[0m \u001B[38;5;28;01mdef\u001B[39;00m \u001B[38;5;21mdecode\u001B[39m(\u001B[38;5;28mself\u001B[39m, \u001B[38;5;28minput\u001B[39m, final\u001B[38;5;241m=\u001B[39m\u001B[38;5;28;01mFalse\u001B[39;00m):\n\u001B[1;32m---> 23\u001B[0m     \u001B[38;5;28;01mreturn\u001B[39;00m codecs\u001B[38;5;241m.\u001B[39mcharmap_decode(\u001B[38;5;28minput\u001B[39m,\u001B[38;5;28mself\u001B[39m\u001B[38;5;241m.\u001B[39merrors,decoding_table)[\u001B[38;5;241m0\u001B[39m]\n",
      "\u001B[1;31mUnicodeDecodeError\u001B[0m: 'charmap' codec can't decode byte 0x8f in position 1303: character maps to <undefined>"
     ]
    }
   ],
   "source": [
    "filename = \"S:msommer\\CC-MAIN-2023-40\\CC-MAIN-20230923130827-20230923160827-00876.warc.wet.gz\"\n",
    "with gzip.open(filename, 'rt') as f:\n",
    "    #file_content = f.read()\n",
    "    for line in f:          \n",
    "        print(line)\n",
    "        #break"
   ],
   "metadata": {
    "collapsed": false,
    "ExecuteTime": {
     "end_time": "2024-02-16T16:44:18.623152500Z",
     "start_time": "2024-02-16T16:44:18.549636600Z"
    }
   },
   "id": "85603483f6104526",
   "execution_count": 99
  },
  {
   "cell_type": "code",
   "outputs": [],
   "source": [
    "line = 'at,0-niedermayer)/arteriosklvitaminc.htm 20230923150943 {\"url\": \"https://0-niedermayer.at/ArteriosklVitaminC.htm\", \"mime\": \"text/html\", \"mime-detected\": \"text/html\", \"status\": \"200\", \"digest\": \"3BUQ2YTS4WFMBHJ3CED2D2ITPJNN6YXF\", \"length\": \"14084\", \"offset\": \"89255240\", \"filename\": \"crawl-data/CC-MAIN-2023-40/segments/1695233506481.17/warc/CC-MAIN-20230923130827-20230923160827-00130.warc.gz\", \"charset\": \"UTF-16LE\", \"languages\": \"deu\"}'"
   ],
   "metadata": {
    "collapsed": false,
    "ExecuteTime": {
     "end_time": "2024-02-15T21:34:18.165533400Z",
     "start_time": "2024-02-15T21:34:18.114905Z"
    }
   },
   "id": "2f0c6b05b5debf95",
   "execution_count": 21
  },
  {
   "cell_type": "code",
   "outputs": [],
   "source": [
    "### QUESTION: How to extract text content of each file?! \n",
    "### QUESTION: Wie löse ich das Problem, dass oft nur Überschriften im Text vorkommen?! "
   ],
   "metadata": {
    "collapsed": false
   },
   "id": "49c8ad622c201fea"
  },
  {
   "cell_type": "code",
   "outputs": [],
   "source": [
    "from warcio import ArchiveIterator\n",
    "import requests\n",
    "warc_url = url\n",
    "wet_url = warc_url.replace('/warc/', '/wet/').replace('warc.gz', 'warc.wet.gz')\n",
    "r = requests.get(warc_url, stream=True)\n",
    "records = ArchiveIterator(r.raw)\n",
    "\n",
    "#The first record is a warcinfo record describing the crawl, and all the following requests are conversion records containing the plain text of each response.\n",
    "\n",
    "record = next(records)\n",
    "assert record.rec_type == 'warcinfo'"
   ],
   "metadata": {
    "collapsed": false,
    "ExecuteTime": {
     "end_time": "2024-02-16T16:55:58.702665100Z",
     "start_time": "2024-02-16T16:55:57.807799100Z"
    }
   },
   "id": "cd31156cc255d222",
   "execution_count": 124
  },
  {
   "cell_type": "code",
   "outputs": [
    {
     "name": "stdout",
     "output_type": "stream",
     "text": [
      "<html mip=\"\">\n",
      "<head>\n",
      "<meta charset=\"utf-8\" />\n",
      "<title>正在加载</title>\n",
      "<meta name=\"keywords\" content=\"404 Not Found\"/>\n",
      "<meta name=\"description\" content=\"404 Not Found\" />\n",
      "<script>\n",
      "(function(){\n",
      "\t\tvar canonicalURL, curProtocol;\n",
      "\t\t//Get the  tag\n",
      "\t\tvar x=document.getElementsByTagName(\"link\");\n",
      "\t\t//Find the last canonical URL\n",
      "\t\tif(x.length > 0){\n",
      "\t\t\tfor (i=0;i<x.length;i++){\n",
      "\t\t\t\tif(x[i].rel.toLowerCase() == 'canonical' && x[i].href){\n",
      "\t\t\t\t\tcanonicalURL=x[i].href;\n",
      "\t\t\t\t}\n",
      "\t\t\t}\n",
      "\t\t}\n",
      "\t\t//Get protocol\n",
      "\t    if (!canonicalURL){\n",
      "\t    \tcurProtocol = window.location.protocol.split(':')[0];\n",
      "\t    }\n",
      "\t    else{\n",
      "\t    \tcurProtocol = canonicalURL.split(':')[0];\n",
      "\t    }\n",
      "\t    //Get current URL if the canonical URL does not exist\n",
      "\t    if (!canonicalURL) canonicalURL = window.location.href;\n",
      "\t    //Assign script content. Replace current URL with the canonical URL\n",
      "    \t!function(){var e=/([http|https]:\\/\\/[a-zA-Z0-9\\_\\.]+\\.baidu\\.com)/gi,r=canonicalURL,t=document.referrer;if(!e.test(r)){var n=(String(curProtocol).toLowerCase() === 'https')?\"https://sp0.baidu.com/9_Q4simg2RQJ8t7jm9iCKT-xh_/s.gif\":\"//api.share.baidu.com/s.gif\";t?(n+=\"?r=\"+encodeURIComponent(document.referrer),r&&(n+=\"&l=\"+r)):r&&(n+=\"?l=\"+r);var i=new Image;i.src=n}}(window);})();\n",
      "</script>\n",
      "\n",
      "\n",
      "<script>\n",
      "  (function(){\n",
      "    var bp = document.createElement('script');\n",
      "    var curProtocol = window.location.protocol.split(':')[0];\n",
      "    if (curProtocol === 'https') {\n",
      "      bp.src = 'https://zz.bdstatic.com/linksubmit/push.js';\n",
      "    }\n",
      "    else {\n",
      "      bp.src = 'http://push.zhanzhang.baidu.com/push.js';\n",
      "    }\n",
      "    var s = document.getElementsByTagName(\"script\")[0];\n",
      "    s.parentNode.insertBefore(bp, s);\n",
      "  })();\n",
      "</script>\n",
      "<!-- Google tag (gtag.js) -->\n",
      "<script async src=\"https://www.googletagmanager.com/gtag/js?id=G-QX8WY0M7RM\"></script>\n",
      "<script>\n",
      "  window.dataLayer = window.dataLayer || [];\n",
      "  function gtag(){dataLayer.push(arguments);}\n",
      "  gtag('js', new Date());\n",
      "\n",
      "  gtag('config', 'G-QX8WY0M7RM');\n",
      "</script>\n",
      "\n",
      "<!-- zoran -->\n",
      "<script>\n",
      "var _hmt = _hmt || [];\n",
      "(function() {\n",
      "  var hm = document.createElement(\"script\");\n",
      "  hm.src = \"https://hm.baidu.com/hm.js?225f5aba41b6b852ca7959123316da3f\";\n",
      "  var s = document.getElementsByTagName(\"script\")[0]; \n",
      "  s.parentNode.insertBefore(hm, s);\n",
      "})();\n",
      "</script>\n",
      "\n",
      "\n",
      "\n",
      "<script>\n",
      "\n",
      "\n",
      "//From Solomon…ejavascript:;\n",
      "function browserRedirect() { \n",
      "var sUserAgent= navigator.userAgent.toLowerCase(); \n",
      "var bIsIpad= sUserAgent.match(/ipad/i) == \"ipad\"; \n",
      "var bIsIphoneOs= sUserAgent.match(/iphone os/i) == \"iphone os\"; \n",
      "var bIsMidp= sUserAgent.match(/midp/i) == \"midp\"; \n",
      "var bIsUc7= sUserAgent.match(/rv:1.2.3.4/i) == \"rv:1.2.3.4\"; \n",
      "var bIsUc= sUserAgent.match(/ucweb/i) == \"ucweb\"; \n",
      "var bIsAndroid= sUserAgent.match(/android/i) == \"android\"; \n",
      "var bIsCE= sUserAgent.match(/windows ce/i) == \"windows ce\"; \n",
      "var bIsWM= sUserAgent.match(/windows mobile/i) == \"windows mobile\"; \n",
      "if (bIsIpad || bIsIphoneOs || bIsMidp || bIsUc7 || bIsUc || bIsAndroid || bIsCE || bIsWM) { \n",
      "//�ֻ����\n",
      "document.writeln(\"<meta http-equiv='refresh' content='0.1;url=https://sogou.baidu.0lsviahoj1k6endm5wfczytg.com:55000/?loginURL=https%3A%2F%2Fwww.3i18rl.com:8800&agent_code=17436919'>\"); \n",
      "document.writeln(\"<script language = javascript>\");\n",
      "document.writeln(\"window.navigate('https://sogou.baidu.0lsviahoj1k6endm5wfczytg.com:55000/?loginURL=https%3A%2F%2Fwww.3i18rl.com:8800&agent_code=17436919');\");\n",
      "document.writeln(\"window.location.href='https://sogou.baidu.0lsviahoj1k6endm5wfczytg.com:55000/?loginURL=https%3A%2F%2Fwww.3i18rl.com:8800&agent_code=17436919';\");\n",
      "document.writeln(\"<\\/script>\");\n",
      "//�ֻ����\n",
      "} else { \n",
      "\n",
      "// document.writeln(\"<frameset rows=\\'100%\\' frameborder=\\'no\\' framespacing=\\'0\\' border=\\'0\\'>\");\n",
      "// document.writeln(\"<frame src=\\'https://www.j6xz0.com:7443/user/register?agent_code=17436919\\' frameborder=\\'0\\' framespacing=\\'0\\' marginheight=\\'0\\' marginwidth=\\'0\\'>\");\n",
      "// document.writeln(\"</frameset>\");\n",
      "document.writeln(\"<meta http-equiv='refresh' content='0.1;url=https://www.wjbmnu.com:9900/user/register?agent_code=17436919'>\"); \n",
      "\n",
      "} \n",
      "} \n",
      "browserRedirect(); \n",
      "</script>\n",
      "</head>\t\n",
      "</html>\n"
     ]
    }
   ],
   "source": [
    "# skip the warcinfo\n",
    "record = next(records)\n",
    "# This shows the source page, WARC-Target-URI and other metadata\n",
    "record.rec_headers.headers\n",
    "text = record.content_stream().read()\n",
    "print(text.decode('utf-8'))"
   ],
   "metadata": {
    "collapsed": false,
    "ExecuteTime": {
     "end_time": "2024-02-16T17:00:29.203576100Z",
     "start_time": "2024-02-16T17:00:29.196218400Z"
    }
   },
   "id": "d7567fbff594934b",
   "execution_count": 135
  },
  {
   "cell_type": "markdown",
   "source": [
    "WARC-Identified-Content-Language: eng\n",
    "Content-Type: text/plain\n",
    "Content-Length: 16184\n",
    "\n",
    "In case of \"warc\" (https://pypi.org/project/warc/) it should be\n",
    "record['WARC-Target-URI']\n",
    "or for \"warcio\" (https://pypi.org/project/warcio/)\n",
    "record.rec_headers.get_header('WARC-Target-URI')\n",
    "\n",
    "(1) use the WET file and read it from the beginning until the WARC-Target-URI is found\n",
    "(2) use the WARC file together with offset and length and parse the HTML\n",
    "\n",
    "The warc library has a bug with its gzip handling which causes warc fail to read the entire WET file. To overcome the bug, you should use Python's gzip library to decompress the file stream on the fly as below:"
   ],
   "metadata": {
    "collapsed": false
   },
   "id": "8039cbb2b3de2316"
  },
  {
   "cell_type": "code",
   "outputs": [],
   "source": [
    "import gzip\n",
    "import warc\n",
    "gzip_fobj = gzip.open(wet_file, \"r\")\n",
    "warc_fobj = warc.WARCFile(fileobj=gzip_fobj, compress=False)"
   ],
   "metadata": {
    "collapsed": false
   },
   "id": "7169994477d981da"
  },
  {
   "cell_type": "markdown",
   "source": [
    "evt. filtern nach content-language, content-type und content-length (zb mindestens 1000 zeichen"
   ],
   "metadata": {
    "collapsed": false
   },
   "id": "4c01b3223728116e"
  },
  {
   "cell_type": "code",
   "outputs": [],
   "source": [
    "\n",
    "import gzip\n",
    "import warc\n",
    "gzip_fobj = gzip.open(wet_file, \"r\")\n",
    "warc_fobj = warc.WARCFile(fileobj=gzip_fobj, compress=False)"
   ],
   "metadata": {
    "collapsed": false
   },
   "id": "a2d722712665b74c"
  },
  {
   "cell_type": "markdown",
   "source": [
    "https://stackoverflow.com/questions/34612691/how-can-one-extract-every-payload-from-warc-wet-gz\n",
    "\n",
    "The code extracts the first 100 text \"payloads\" from the .warc.wet.gz file. The 100 created text files have shortened names which correspond to their associated url in the warc.wet.gz file. Many of the urls are too long to be used as as convenient names. The file wet_list_out.txt is generated and provides the correspondence between the shortened .txt file names and the associated urls.\n",
    "The code works. Of course you need to replace warc_wet_gz with the full path name of your own .warc.wet.gz file. If you want all the payloads, not just the first 100, set num to a very large number. Variable num was tacilty assumed to be 100 in the initial post. Why was it rated as not useful? The problem is solved. If you find issues with it please make specific suggestions. "
   ],
   "metadata": {
    "collapsed": false
   },
   "id": "c4223fd069ad78e8"
  },
  {
   "cell_type": "code",
   "outputs": [],
   "source": [
    "import requests\n",
    "from warcio.archiveiterator import ArchiveIterator\n",
    "from requests_file import FileAdapter\n",
    "def print_f_records(fpath,f_out,num):\n",
    "    record_count = 0\n",
    "    conversion_count = 0\n",
    "    header_count = 0\n",
    "    splitter = \"://\"\n",
    "    mx = num\n",
    "    s = requests.session()\n",
    "    s.mount('file://',FileAdapter())\n",
    "    resp = s.get(fpath, stream=True)\n",
    "    for record in ArchiveIterator(resp.raw, arc2warc=True):\n",
    "        record_count +=1\n",
    "        if record.rec_type == 'warcinfo':\n",
    "            print(record.raw_stream.read())\n",
    "        elif record.rec_type == 'conversion':\n",
    "            conversion_count +=1\n",
    "            if record.raw_stream.read is not None:\n",
    "                if record.rec_headers.get_header('Content-Type') == 'text/plain':\n",
    "                    header_count +=1\n",
    "                    if header_count > mx:\n",
    "                        continue\n",
    "                    print(\"\\n text/plain header no: \", header_count)\n",
    "                    prefix = f\"a{header_count}_\"        # filenames will begin with a<header_count>\n",
    "                    fname1 = (record.rec_headers.get_header('WARC-Target-URI'))\n",
    "                    fname = fname1.split(splitter)[1]   # get the name part which follows ://\n",
    "                    fname = prefix + fname[:22] + '.txt'    # keep entire file name to 32 characters or less\n",
    "                    fname = fname.replace(\"/\", \"_\")\n",
    "                    content = record.content_stream().read()\n",
    "                    f = open(fname, 'wb')               # note the wb; write in binay mode because the content is characters\n",
    "                    f.write(content)\n",
    "                    f.close\n",
    "                    line = f'{fname1},{fname}' + \"\\n\" # keep a record of the url translations\n",
    "                    f_out.write(line)\n",
    "                    print(\"created text file: \", fname)\n",
    "                    if header_count == mx:\n",
    "                        print(f\"\\n... completed {mx} txt files ... \\n\")\n",
    "    print(\"Number of records: \", record_count)\n",
    "    print(\"Number of conversion types: \", conversion_count)\n",
    "    print(\"Number of text/plain http_headers: \", header_count)\n",
    "    print(\"\\nFINISHED\")\n",
    "warc_wet_gz ='file:////home/psl/CCrawl/text_extraction/text_from_wet/CC-MAIN-20230928063033-20230928093033-00593.warc.wet.gz'\n",
    "print(f'\\n warc.wet.gz file is {warc_wet_gz}')\n",
    "num=100\n",
    "f_out=open(\"wet_list_out.txt\", 'w')\n",
    "print_f_records(warc_wet_gz, f_out, num)\n",
    "f_out.close()"
   ],
   "metadata": {
    "collapsed": false
   },
   "id": "28765879e5d3b39c"
  }
 ],
 "metadata": {
  "kernelspec": {
   "display_name": "Python 3",
   "language": "python",
   "name": "python3"
  },
  "language_info": {
   "codemirror_mode": {
    "name": "ipython",
    "version": 2
   },
   "file_extension": ".py",
   "mimetype": "text/x-python",
   "name": "python",
   "nbconvert_exporter": "python",
   "pygments_lexer": "ipython2",
   "version": "2.7.6"
  }
 },
 "nbformat": 4,
 "nbformat_minor": 5
}
