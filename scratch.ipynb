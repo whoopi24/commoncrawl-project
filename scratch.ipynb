{
 "cells": [
  {
   "cell_type": "markdown",
   "source": [
    "# Interdisciplinary Project\n",
    "by Marina Sommer | 11778902"
   ],
   "metadata": {
    "collapsed": false
   },
   "id": "66af32a14aeb3ff3"
  },
  {
   "cell_type": "code",
   "outputs": [
    {
     "name": "stdout",
     "output_type": "stream",
     "text": [
      "CC-MAIN-2013-20 de\n",
      "CC-MAIN-2013-20 at\n"
     ]
    }
   ],
   "source": [
    "from itertools import product\n",
    "crawl_names=['CC-MAIN-2013-20']\n",
    "top_lvl_domains=['de', 'at']\n",
    "target_words=['angreifen', 'anfassen', 'anlangen']\n",
    "year_tld = list(product(crawl_names, top_lvl_domains))\n",
    "for year, tld in year_tld:\n",
    "    print(year, tld)"
   ],
   "metadata": {
    "collapsed": false,
    "ExecuteTime": {
     "end_time": "2024-09-19T18:50:36.926213100Z",
     "start_time": "2024-09-19T18:50:36.868631300Z"
    }
   },
   "id": "355d7199cc5165d6",
   "execution_count": 17
  },
  {
   "cell_type": "code",
   "outputs": [],
   "source": [
    "def jaccard_similarity(list1, list2):\n",
    "    set1, set2 = set(list1), set(list2)  # Convert to sets if they are lists\n",
    "    intersection = len(set1 & set2)\n",
    "    union = len(set1 | set2)\n",
    "    return intersection / union if union != 0 else 0"
   ],
   "metadata": {
    "collapsed": false,
    "ExecuteTime": {
     "end_time": "2024-09-19T18:15:10.116096700Z",
     "start_time": "2024-09-19T18:15:10.062060700Z"
    }
   },
   "id": "308d7370e2bc2d5e",
   "execution_count": 15
  },
  {
   "cell_type": "code",
   "outputs": [],
   "source": [
    "def jaccard_similarity(list1, list2):\n",
    "    intersection = len(list(set(list1).intersection(list2)))\n",
    "    union = (len(list1) + len(list2)) - intersection\n",
    "    return float(intersection) / union if union != 0 else 0"
   ],
   "metadata": {
    "collapsed": false,
    "ExecuteTime": {
     "end_time": "2024-09-19T18:15:00.476897400Z",
     "start_time": "2024-09-19T18:15:00.435905Z"
    }
   },
   "id": "27d72bb019b77ea2",
   "execution_count": 13
  },
  {
   "cell_type": "code",
   "outputs": [
    {
     "data": {
      "text/plain": "0.3333333333333333"
     },
     "execution_count": 16,
     "metadata": {},
     "output_type": "execute_result"
    }
   ],
   "source": [
    "list1 = ['IOM', 'Angriff', 'tätlich', 'niederschießen', 'beziehen', 'angriffen']\n",
    "list2 = ['IOM', 'Angriff', 'fliehen', 'abschießen', 'beziehen', 'beschießen',]\n",
    "# JI = intersection over union (IoU)\n",
    "# intersection = 3\n",
    "# union = 6 + 6 - 3 = 9\n",
    "# JI = 3/9 = 1/3 = 0.33333\n",
    "jaccard_similarity(list1, list2)"
   ],
   "metadata": {
    "collapsed": false,
    "ExecuteTime": {
     "end_time": "2024-09-19T18:15:13.682425600Z",
     "start_time": "2024-09-19T18:15:13.640355800Z"
    }
   },
   "id": "69357964958fa569",
   "execution_count": 16
  },
  {
   "cell_type": "markdown",
   "source": [
    "Workflow is as follows:"
   ],
   "metadata": {
    "collapsed": false
   },
   "id": "6a34fa94bc89a283"
  },
  {
   "cell_type": "code",
   "outputs": [],
   "source": [
    "# import packages\n",
    "from urllib.request import urlretrieve\n",
    "import os\n",
    "import re \n",
    "import random\n",
    "import gzip\n",
    "import json\n",
    "from collections import Counter\n",
    "import time\n",
    "from warcio import ArchiveIterator\n",
    "import requests\n",
    "import pandas as pd\n",
    "import numpy as np\n",
    "import gensim\n",
    "import spacy"
   ],
   "metadata": {
    "collapsed": false,
    "ExecuteTime": {
     "end_time": "2024-03-25T12:12:05.345858400Z",
     "start_time": "2024-03-25T12:11:44.944055400Z"
    }
   },
   "id": "417a92092b5e6dab",
   "execution_count": 1
  },
  {
   "cell_type": "code",
   "outputs": [
    {
     "data": {
      "text/plain": "['CC-MAIN-20130516121618-00013-ip-10-60-113-184.ec2.internal.warc.wet.gz',\n 'CC-MAIN-20130516101433-00040-ip-10-60-113-184.ec2.internal.warc.wet.gz',\n 'CC-MAIN-20130516103603-00068-ip-10-60-113-184.ec2.internal.warc.wet.gz',\n 'CC-MAIN-20130516105732-00041-ip-10-60-113-184.ec2.internal.warc.wet.gz',\n 'CC-MAIN-20130516110654-00064-ip-10-60-113-184.ec2.internal.warc.wet.gz',\n 'CC-MAIN-20130516112133-00074-ip-10-60-113-184.ec2.internal.warc.wet.gz',\n 'CC-MAIN-20130516130024-00038-ip-10-60-113-184.ec2.internal.warc.wet.gz',\n 'CC-MAIN-20130516123613-00087-ip-10-60-113-184.ec2.internal.warc.wet.gz',\n 'CC-MAIN-20130516092622-00047-ip-10-60-113-184.ec2.internal.warc.wet.gz',\n 'CC-MAIN-20130516095809-00080-ip-10-60-113-184.ec2.internal.warc.wet.gz',\n 'CC-MAIN-20130516131926-00033-ip-10-60-113-184.ec2.internal.warc.wet.gz',\n 'CC-MAIN-20130516095504-00038-ip-10-60-113-184.ec2.internal.warc.wet.gz',\n 'CC-MAIN-20130516101218-00034-ip-10-60-113-184.ec2.internal.warc.wet.gz',\n 'CC-MAIN-20130516112715-00051-ip-10-60-113-184.ec2.internal.warc.wet.gz',\n 'CC-MAIN-20130516120539-00073-ip-10-60-113-184.ec2.internal.warc.wet.gz',\n 'CC-MAIN-20130516125328-00048-ip-10-60-113-184.ec2.internal.warc.wet.gz',\n 'CC-MAIN-20130516092622-00041-ip-10-60-113-184.ec2.internal.warc.wet.gz',\n 'CC-MAIN-20130516095550-00099-ip-10-60-113-184.ec2.internal.warc.wet.gz',\n 'CC-MAIN-20130516104801-00059-ip-10-60-113-184.ec2.internal.warc.wet.gz',\n 'CC-MAIN-20130516125355-00085-ip-10-60-113-184.ec2.internal.warc.wet.gz',\n 'CC-MAIN-20130516112133-00041-ip-10-60-113-184.ec2.internal.warc.wet.gz',\n 'CC-MAIN-20130516113435-00041-ip-10-60-113-184.ec2.internal.warc.wet.gz',\n 'CC-MAIN-20130516110207-00004-ip-10-60-113-184.ec2.internal.warc.wet.gz',\n 'CC-MAIN-20130516130259-00018-ip-10-60-113-184.ec2.internal.warc.wet.gz',\n 'CC-MAIN-20130516092622-00013-ip-10-60-113-184.ec2.internal.warc.wet.gz',\n 'CC-MAIN-20130516092623-00029-ip-10-60-113-184.ec2.internal.warc.wet.gz',\n 'CC-MAIN-20130516092623-00009-ip-10-60-113-184.ec2.internal.warc.wet.gz',\n 'CC-MAIN-20130516102332-00047-ip-10-60-113-184.ec2.internal.warc.wet.gz',\n 'CC-MAIN-20130516100234-00041-ip-10-60-113-184.ec2.internal.warc.wet.gz',\n 'CC-MAIN-20130516130259-00091-ip-10-60-113-184.ec2.internal.warc.wet.gz',\n 'CC-MAIN-20130516092623-00074-ip-10-60-113-184.ec2.internal.warc.wet.gz',\n 'CC-MAIN-20130516114426-00034-ip-10-60-113-184.ec2.internal.warc.wet.gz',\n 'CC-MAIN-20130516092623-00071-ip-10-60-113-184.ec2.internal.warc.wet.gz',\n 'CC-MAIN-20130516125546-00000-ip-10-60-113-184.ec2.internal.warc.wet.gz',\n 'CC-MAIN-20130516131515-00046-ip-10-60-113-184.ec2.internal.warc.wet.gz',\n 'CC-MAIN-20130516114424-00004-ip-10-60-113-184.ec2.internal.warc.wet.gz',\n 'CC-MAIN-20130516112742-00077-ip-10-60-113-184.ec2.internal.warc.wet.gz',\n 'CC-MAIN-20130516092622-00029-ip-10-60-113-184.ec2.internal.warc.wet.gz',\n 'CC-MAIN-20130516112214-00056-ip-10-60-113-184.ec2.internal.warc.wet.gz',\n 'CC-MAIN-20130516123039-00057-ip-10-60-113-184.ec2.internal.warc.wet.gz',\n 'CC-MAIN-20130516112715-00089-ip-10-60-113-184.ec2.internal.warc.wet.gz',\n 'CC-MAIN-20130516100011-00015-ip-10-60-113-184.ec2.internal.warc.wet.gz',\n 'CC-MAIN-20130516121704-00033-ip-10-60-113-184.ec2.internal.warc.wet.gz',\n 'CC-MAIN-20130516092623-00096-ip-10-60-113-184.ec2.internal.warc.wet.gz',\n 'CC-MAIN-20130516133400-00085-ip-10-60-113-184.ec2.internal.warc.wet.gz',\n 'CC-MAIN-20130516103358-00025-ip-10-60-113-184.ec2.internal.warc.wet.gz',\n 'CC-MAIN-20130516121430-00025-ip-10-60-113-184.ec2.internal.warc.wet.gz',\n 'CC-MAIN-20130516113534-00015-ip-10-60-113-184.ec2.internal.warc.wet.gz',\n 'CC-MAIN-20130516111210-00080-ip-10-60-113-184.ec2.internal.warc.wet.gz',\n 'CC-MAIN-20130516112449-00051-ip-10-60-113-184.ec2.internal.warc.wet.gz',\n 'CC-MAIN-20130516110458-00044-ip-10-60-113-184.ec2.internal.warc.wet.gz',\n 'CC-MAIN-20130516120526-00071-ip-10-60-113-184.ec2.internal.warc.wet.gz',\n 'CC-MAIN-20130516115552-00001-ip-10-60-113-184.ec2.internal.warc.wet.gz',\n 'CC-MAIN-20130516095254-00054-ip-10-60-113-184.ec2.internal.warc.wet.gz',\n 'CC-MAIN-20130516112802-00088-ip-10-60-113-184.ec2.internal.warc.wet.gz',\n 'CC-MAIN-20130516100844-00094-ip-10-60-113-184.ec2.internal.warc.wet.gz',\n 'CC-MAIN-20130516095636-00081-ip-10-60-113-184.ec2.internal.warc.wet.gz',\n 'CC-MAIN-20130516102852-00067-ip-10-60-113-184.ec2.internal.warc.wet.gz',\n 'CC-MAIN-20130516110654-00013-ip-10-60-113-184.ec2.internal.warc.wet.gz',\n 'CC-MAIN-20130516121715-00031-ip-10-60-113-184.ec2.internal.warc.wet.gz',\n 'CC-MAIN-20130516120558-00056-ip-10-60-113-184.ec2.internal.warc.wet.gz',\n 'CC-MAIN-20130516114033-00034-ip-10-60-113-184.ec2.internal.warc.wet.gz',\n 'CC-MAIN-20130516092623-00046-ip-10-60-113-184.ec2.internal.warc.wet.gz',\n 'CC-MAIN-20130516121430-00087-ip-10-60-113-184.ec2.internal.warc.wet.gz',\n 'CC-MAIN-20130516122627-00006-ip-10-60-113-184.ec2.internal.warc.wet.gz',\n 'CC-MAIN-20130516131819-00080-ip-10-60-113-184.ec2.internal.warc.wet.gz',\n 'CC-MAIN-20130516121715-00089-ip-10-60-113-184.ec2.internal.warc.wet.gz',\n 'CC-MAIN-20130516125328-00044-ip-10-60-113-184.ec2.internal.warc.wet.gz',\n 'CC-MAIN-20130516092623-00064-ip-10-60-113-184.ec2.internal.warc.wet.gz',\n 'CC-MAIN-20130516095504-00066-ip-10-60-113-184.ec2.internal.warc.wet.gz',\n 'CC-MAIN-20130516112214-00017-ip-10-60-113-184.ec2.internal.warc.wet.gz',\n 'CC-MAIN-20130516095550-00031-ip-10-60-113-184.ec2.internal.warc.wet.gz',\n 'CC-MAIN-20130516111229-00045-ip-10-60-113-184.ec2.internal.warc.wet.gz',\n 'CC-MAIN-20130516092622-00065-ip-10-60-113-184.ec2.internal.warc.wet.gz',\n 'CC-MAIN-20130516110728-00058-ip-10-60-113-184.ec2.internal.warc.wet.gz',\n 'CC-MAIN-20130516113030-00004-ip-10-60-113-184.ec2.internal.warc.wet.gz',\n 'CC-MAIN-20130516133005-00021-ip-10-60-113-184.ec2.internal.warc.wet.gz',\n 'CC-MAIN-20130516120444-00011-ip-10-60-113-184.ec2.internal.warc.wet.gz',\n 'CC-MAIN-20130516123039-00025-ip-10-60-113-184.ec2.internal.warc.wet.gz',\n 'CC-MAIN-20130516133005-00030-ip-10-60-113-184.ec2.internal.warc.wet.gz',\n 'CC-MAIN-20130516121430-00006-ip-10-60-113-184.ec2.internal.warc.wet.gz',\n 'CC-MAIN-20130516102210-00081-ip-10-60-113-184.ec2.internal.warc.wet.gz',\n 'CC-MAIN-20130516113714-00033-ip-10-60-113-184.ec2.internal.warc.wet.gz',\n 'CC-MAIN-20130516122627-00058-ip-10-60-113-184.ec2.internal.warc.wet.gz',\n 'CC-MAIN-20130516095157-00057-ip-10-60-113-184.ec2.internal.warc.wet.gz',\n 'CC-MAIN-20130516112715-00067-ip-10-60-113-184.ec2.internal.warc.wet.gz',\n 'CC-MAIN-20130516123037-00096-ip-10-60-113-184.ec2.internal.warc.wet.gz',\n 'CC-MAIN-20130516123035-00049-ip-10-60-113-184.ec2.internal.warc.wet.gz',\n 'CC-MAIN-20130516111330-00063-ip-10-60-113-184.ec2.internal.warc.wet.gz',\n 'CC-MAIN-20130516092622-00025-ip-10-60-113-184.ec2.internal.warc.wet.gz',\n 'CC-MAIN-20130516103706-00059-ip-10-60-113-184.ec2.internal.warc.wet.gz',\n 'CC-MAIN-20130516122628-00085-ip-10-60-113-184.ec2.internal.warc.wet.gz',\n 'CC-MAIN-20130516120616-00043-ip-10-60-113-184.ec2.internal.warc.wet.gz',\n 'CC-MAIN-20130516092621-00079-ip-10-60-113-184.ec2.internal.warc.wet.gz',\n 'CC-MAIN-20130516115935-00097-ip-10-60-113-184.ec2.internal.warc.wet.gz',\n 'CC-MAIN-20130516123039-00014-ip-10-60-113-184.ec2.internal.warc.wet.gz',\n 'CC-MAIN-20130516133005-00028-ip-10-60-113-184.ec2.internal.warc.wet.gz',\n 'CC-MAIN-20130516131926-00038-ip-10-60-113-184.ec2.internal.warc.wet.gz',\n 'CC-MAIN-20130516125717-00002-ip-10-60-113-184.ec2.internal.warc.wet.gz',\n 'CC-MAIN-20130516092622-00096-ip-10-60-113-184.ec2.internal.warc.wet.gz',\n 'CC-MAIN-20130516112146-00079-ip-10-60-113-184.ec2.internal.warc.wet.gz',\n 'CC-MAIN-20130516122213-00063-ip-10-60-113-184.ec2.internal.warc.wet.gz',\n 'CC-MAIN-20130516092624-00066-ip-10-60-113-184.ec2.internal.warc.wet.gz',\n 'CC-MAIN-20130516121711-00054-ip-10-60-113-184.ec2.internal.warc.wet.gz',\n 'CC-MAIN-20130516120553-00028-ip-10-60-113-184.ec2.internal.warc.wet.gz',\n 'CC-MAIN-20130516124223-00055-ip-10-60-113-184.ec2.internal.warc.wet.gz',\n 'CC-MAIN-20130516110845-00075-ip-10-60-113-184.ec2.internal.warc.wet.gz',\n 'CC-MAIN-20130516133005-00095-ip-10-60-113-184.ec2.internal.warc.wet.gz',\n 'CC-MAIN-20130516120649-00082-ip-10-60-113-184.ec2.internal.warc.wet.gz',\n 'CC-MAIN-20130516125546-00043-ip-10-60-113-184.ec2.internal.warc.wet.gz',\n 'CC-MAIN-20130516100844-00067-ip-10-60-113-184.ec2.internal.warc.wet.gz',\n 'CC-MAIN-20130516112133-00032-ip-10-60-113-184.ec2.internal.warc.wet.gz',\n 'CC-MAIN-20130516110727-00083-ip-10-60-113-184.ec2.internal.warc.wet.gz',\n 'CC-MAIN-20130516122624-00062-ip-10-60-113-184.ec2.internal.warc.wet.gz',\n 'CC-MAIN-20130516100011-00047-ip-10-60-113-184.ec2.internal.warc.wet.gz',\n 'CC-MAIN-20130516124225-00069-ip-10-60-113-184.ec2.internal.warc.wet.gz',\n 'CC-MAIN-20130516114418-00059-ip-10-60-113-184.ec2.internal.warc.wet.gz',\n 'CC-MAIN-20130516113658-00046-ip-10-60-113-184.ec2.internal.warc.wet.gz',\n 'CC-MAIN-20130516102235-00088-ip-10-60-113-184.ec2.internal.warc.wet.gz',\n 'CC-MAIN-20130516095914-00095-ip-10-60-113-184.ec2.internal.warc.wet.gz',\n 'CC-MAIN-20130516112138-00043-ip-10-60-113-184.ec2.internal.warc.wet.gz',\n 'CC-MAIN-20130516131833-00001-ip-10-60-113-184.ec2.internal.warc.wet.gz',\n 'CC-MAIN-20130516112133-00086-ip-10-60-113-184.ec2.internal.warc.wet.gz',\n 'CC-MAIN-20130516112449-00081-ip-10-60-113-184.ec2.internal.warc.wet.gz',\n 'CC-MAIN-20130516102256-00023-ip-10-60-113-184.ec2.internal.warc.wet.gz',\n 'CC-MAIN-20130516113808-00007-ip-10-60-113-184.ec2.internal.warc.wet.gz',\n 'CC-MAIN-20130516113534-00014-ip-10-60-113-184.ec2.internal.warc.wet.gz',\n 'CC-MAIN-20130516092623-00007-ip-10-60-113-184.ec2.internal.warc.wet.gz',\n 'CC-MAIN-20130516113435-00014-ip-10-60-113-184.ec2.internal.warc.wet.gz',\n 'CC-MAIN-20130516102654-00077-ip-10-60-113-184.ec2.internal.warc.wet.gz',\n 'CC-MAIN-20130516101056-00059-ip-10-60-113-184.ec2.internal.warc.wet.gz',\n 'CC-MAIN-20130516092623-00068-ip-10-60-113-184.ec2.internal.warc.wet.gz',\n 'CC-MAIN-20130516125821-00096-ip-10-60-113-184.ec2.internal.warc.wet.gz',\n 'CC-MAIN-20130516101321-00096-ip-10-60-113-184.ec2.internal.warc.wet.gz',\n 'CC-MAIN-20130516092622-00004-ip-10-60-113-184.ec2.internal.warc.wet.gz',\n 'CC-MAIN-20130516132923-00030-ip-10-60-113-184.ec2.internal.warc.wet.gz',\n 'CC-MAIN-20130516131926-00015-ip-10-60-113-184.ec2.internal.warc.wet.gz',\n 'CC-MAIN-20130516112715-00032-ip-10-60-113-184.ec2.internal.warc.wet.gz',\n 'CC-MAIN-20130516130217-00001-ip-10-60-113-184.ec2.internal.warc.wet.gz',\n 'CC-MAIN-20130516095647-00077-ip-10-60-113-184.ec2.internal.warc.wet.gz',\n 'CC-MAIN-20130516095702-00010-ip-10-60-113-184.ec2.internal.warc.wet.gz',\n 'CC-MAIN-20130516111257-00063-ip-10-60-113-184.ec2.internal.warc.wet.gz',\n 'CC-MAIN-20130516125442-00039-ip-10-60-113-184.ec2.internal.warc.wet.gz',\n 'CC-MAIN-20130516101306-00096-ip-10-60-113-184.ec2.internal.warc.wet.gz',\n 'CC-MAIN-20130516094932-00036-ip-10-60-113-184.ec2.internal.warc.wet.gz',\n 'CC-MAIN-20130516122628-00044-ip-10-60-113-184.ec2.internal.warc.wet.gz',\n 'CC-MAIN-20130516100133-00008-ip-10-60-113-184.ec2.internal.warc.wet.gz',\n 'CC-MAIN-20130516110207-00080-ip-10-60-113-184.ec2.internal.warc.wet.gz',\n 'CC-MAIN-20130516102235-00056-ip-10-60-113-184.ec2.internal.warc.wet.gz',\n 'CC-MAIN-20130516134005-00077-ip-10-60-113-184.ec2.internal.warc.wet.gz',\n 'CC-MAIN-20130516104304-00026-ip-10-60-113-184.ec2.internal.warc.wet.gz',\n 'CC-MAIN-20130516105646-00088-ip-10-60-113-184.ec2.internal.warc.wet.gz',\n 'CC-MAIN-20130516125219-00043-ip-10-60-113-184.ec2.internal.warc.wet.gz',\n 'CC-MAIN-20130516095504-00000-ip-10-60-113-184.ec2.internal.warc.wet.gz',\n 'CC-MAIN-20130516114422-00059-ip-10-60-113-184.ec2.internal.warc.wet.gz',\n 'CC-MAIN-20130516115109-00018-ip-10-60-113-184.ec2.internal.warc.wet.gz',\n 'CC-MAIN-20130516122628-00075-ip-10-60-113-184.ec2.internal.warc.wet.gz',\n 'CC-MAIN-20130516094300-00018-ip-10-60-113-184.ec2.internal.warc.wet.gz',\n 'CC-MAIN-20130516131833-00013-ip-10-60-113-184.ec2.internal.warc.wet.gz',\n 'CC-MAIN-20130516101358-00098-ip-10-60-113-184.ec2.internal.warc.wet.gz',\n 'CC-MAIN-20130516094340-00022-ip-10-60-113-184.ec2.internal.warc.wet.gz',\n 'CC-MAIN-20130516121430-00001-ip-10-60-113-184.ec2.internal.warc.wet.gz',\n 'CC-MAIN-20130516120536-00043-ip-10-60-113-184.ec2.internal.warc.wet.gz',\n 'CC-MAIN-20130516112133-00094-ip-10-60-113-184.ec2.internal.warc.wet.gz',\n 'CC-MAIN-20130516092622-00081-ip-10-60-113-184.ec2.internal.warc.wet.gz',\n 'CC-MAIN-20130516102124-00016-ip-10-60-113-184.ec2.internal.warc.wet.gz',\n 'CC-MAIN-20130516092640-00010-ip-10-60-113-184.ec2.internal.warc.wet.gz',\n 'CC-MAIN-20130516131515-00083-ip-10-60-113-184.ec2.internal.warc.wet.gz',\n 'CC-MAIN-20130516115137-00045-ip-10-60-113-184.ec2.internal.warc.wet.gz',\n 'CC-MAIN-20130516120913-00049-ip-10-60-113-184.ec2.internal.warc.wet.gz',\n 'CC-MAIN-20130516122213-00083-ip-10-60-113-184.ec2.internal.warc.wet.gz',\n 'CC-MAIN-20130516092622-00051-ip-10-60-113-184.ec2.internal.warc.wet.gz',\n 'CC-MAIN-20130516125309-00037-ip-10-60-113-184.ec2.internal.warc.wet.gz',\n 'CC-MAIN-20130516103955-00030-ip-10-60-113-184.ec2.internal.warc.wet.gz',\n 'CC-MAIN-20130516092623-00000-ip-10-60-113-184.ec2.internal.warc.wet.gz',\n 'CC-MAIN-20130516120444-00074-ip-10-60-113-184.ec2.internal.warc.wet.gz',\n 'CC-MAIN-20130516095423-00044-ip-10-60-113-184.ec2.internal.warc.wet.gz',\n 'CC-MAIN-20130516095337-00093-ip-10-60-113-184.ec2.internal.warc.wet.gz',\n 'CC-MAIN-20130516131326-00099-ip-10-60-113-184.ec2.internal.warc.wet.gz',\n 'CC-MAIN-20130516110724-00020-ip-10-60-113-184.ec2.internal.warc.wet.gz',\n 'CC-MAIN-20130516112802-00061-ip-10-60-113-184.ec2.internal.warc.wet.gz',\n 'CC-MAIN-20130516112027-00054-ip-10-60-113-184.ec2.internal.warc.wet.gz',\n 'CC-MAIN-20130516114310-00080-ip-10-60-113-184.ec2.internal.warc.wet.gz',\n 'CC-MAIN-20130516131754-00029-ip-10-60-113-184.ec2.internal.warc.wet.gz',\n 'CC-MAIN-20130516094032-00076-ip-10-60-113-184.ec2.internal.warc.wet.gz',\n 'CC-MAIN-20130516105334-00045-ip-10-60-113-184.ec2.internal.warc.wet.gz',\n 'CC-MAIN-20130516092640-00025-ip-10-60-113-184.ec2.internal.warc.wet.gz',\n 'CC-MAIN-20130516120229-00054-ip-10-60-113-184.ec2.internal.warc.wet.gz',\n 'CC-MAIN-20130516113531-00098-ip-10-60-113-184.ec2.internal.warc.wet.gz',\n 'CC-MAIN-20130516101108-00059-ip-10-60-113-184.ec2.internal.warc.wet.gz',\n 'CC-MAIN-20130516110019-00033-ip-10-60-113-184.ec2.internal.warc.wet.gz',\n 'CC-MAIN-20130516123040-00044-ip-10-60-113-184.ec2.internal.warc.wet.gz',\n 'CC-MAIN-20130516100011-00080-ip-10-60-113-184.ec2.internal.warc.wet.gz',\n 'CC-MAIN-20130516121704-00031-ip-10-60-113-184.ec2.internal.warc.wet.gz',\n 'CC-MAIN-20130516095541-00051-ip-10-60-113-184.ec2.internal.warc.wet.gz',\n 'CC-MAIN-20130516120649-00043-ip-10-60-113-184.ec2.internal.warc.wet.gz',\n 'CC-MAIN-20130516123040-00054-ip-10-60-113-184.ec2.internal.warc.wet.gz',\n 'CC-MAIN-20130516103012-00011-ip-10-60-113-184.ec2.internal.warc.wet.gz',\n 'CC-MAIN-20130516104042-00079-ip-10-60-113-184.ec2.internal.warc.wet.gz',\n 'CC-MAIN-20130516102852-00081-ip-10-60-113-184.ec2.internal.warc.wet.gz',\n 'CC-MAIN-20130516113435-00081-ip-10-60-113-184.ec2.internal.warc.wet.gz',\n 'CC-MAIN-20130516112742-00008-ip-10-60-113-184.ec2.internal.warc.wet.gz',\n 'CC-MAIN-20130516103706-00003-ip-10-60-113-184.ec2.internal.warc.wet.gz',\n 'CC-MAIN-20130516092624-00007-ip-10-60-113-184.ec2.internal.warc.wet.gz',\n 'CC-MAIN-20130516125717-00073-ip-10-60-113-184.ec2.internal.warc.wet.gz',\n 'CC-MAIN-20130516114658-00055-ip-10-60-113-184.ec2.internal.warc.wet.gz',\n 'CC-MAIN-20130516112449-00020-ip-10-60-113-184.ec2.internal.warc.wet.gz',\n 'CC-MAIN-20130516110019-00029-ip-10-60-113-184.ec2.internal.warc.wet.gz',\n 'CC-MAIN-20130516110019-00034-ip-10-60-113-184.ec2.internal.warc.wet.gz',\n 'CC-MAIN-20130516101056-00092-ip-10-60-113-184.ec2.internal.warc.wet.gz',\n 'CC-MAIN-20130516092623-00012-ip-10-60-113-184.ec2.internal.warc.wet.gz',\n 'CC-MAIN-20130516103012-00091-ip-10-60-113-184.ec2.internal.warc.wet.gz',\n 'CC-MAIN-20130516120553-00088-ip-10-60-113-184.ec2.internal.warc.wet.gz',\n 'CC-MAIN-20130516102654-00043-ip-10-60-113-184.ec2.internal.warc.wet.gz',\n 'CC-MAIN-20130516112948-00076-ip-10-60-113-184.ec2.internal.warc.wet.gz',\n 'CC-MAIN-20130516114903-00093-ip-10-60-113-184.ec2.internal.warc.wet.gz',\n 'CC-MAIN-20130516114418-00036-ip-10-60-113-184.ec2.internal.warc.wet.gz',\n 'CC-MAIN-20130516102416-00067-ip-10-60-113-184.ec2.internal.warc.wet.gz',\n 'CC-MAIN-20130516112206-00024-ip-10-60-113-184.ec2.internal.warc.wet.gz',\n 'CC-MAIN-20130516101218-00040-ip-10-60-113-184.ec2.internal.warc.wet.gz',\n 'CC-MAIN-20130516120018-00071-ip-10-60-113-184.ec2.internal.warc.wet.gz',\n 'CC-MAIN-20130516101321-00047-ip-10-60-113-184.ec2.internal.warc.wet.gz',\n 'CC-MAIN-20130516113952-00001-ip-10-60-113-184.ec2.internal.warc.wet.gz',\n 'CC-MAIN-20130516115500-00012-ip-10-60-113-184.ec2.internal.warc.wet.gz',\n 'CC-MAIN-20130516113808-00079-ip-10-60-113-184.ec2.internal.warc.wet.gz',\n 'CC-MAIN-20130516125246-00057-ip-10-60-113-184.ec2.internal.warc.wet.gz',\n 'CC-MAIN-20130516102524-00016-ip-10-60-113-184.ec2.internal.warc.wet.gz',\n 'CC-MAIN-20130516103437-00054-ip-10-60-113-184.ec2.internal.warc.wet.gz',\n 'CC-MAIN-20130516124223-00001-ip-10-60-113-184.ec2.internal.warc.wet.gz',\n 'CC-MAIN-20130516092623-00015-ip-10-60-113-184.ec2.internal.warc.wet.gz',\n 'CC-MAIN-20130516125151-00078-ip-10-60-113-184.ec2.internal.warc.wet.gz',\n 'CC-MAIN-20130516101108-00088-ip-10-60-113-184.ec2.internal.warc.wet.gz',\n 'CC-MAIN-20130516133835-00074-ip-10-60-113-184.ec2.internal.warc.wet.gz',\n 'CC-MAIN-20130516121922-00024-ip-10-60-113-184.ec2.internal.warc.wet.gz',\n 'CC-MAIN-20130516124225-00001-ip-10-60-113-184.ec2.internal.warc.wet.gz',\n 'CC-MAIN-20130516095440-00025-ip-10-60-113-184.ec2.internal.warc.wet.gz',\n 'CC-MAIN-20130516101433-00061-ip-10-60-113-184.ec2.internal.warc.wet.gz',\n 'CC-MAIN-20130516112948-00078-ip-10-60-113-184.ec2.internal.warc.wet.gz',\n 'CC-MAIN-20130516120526-00063-ip-10-60-113-184.ec2.internal.warc.wet.gz',\n 'CC-MAIN-20130516092622-00060-ip-10-60-113-184.ec2.internal.warc.wet.gz',\n 'CC-MAIN-20130516103955-00072-ip-10-60-113-184.ec2.internal.warc.wet.gz',\n 'CC-MAIN-20130516113532-00067-ip-10-60-113-184.ec2.internal.warc.wet.gz',\n 'CC-MAIN-20130516125303-00003-ip-10-60-113-184.ec2.internal.warc.wet.gz',\n 'CC-MAIN-20130516120536-00008-ip-10-60-113-184.ec2.internal.warc.wet.gz',\n 'CC-MAIN-20130516125640-00031-ip-10-60-113-184.ec2.internal.warc.wet.gz',\n 'CC-MAIN-20130516092640-00018-ip-10-60-113-184.ec2.internal.warc.wet.gz',\n 'CC-MAIN-20130516125717-00038-ip-10-60-113-184.ec2.internal.warc.wet.gz',\n 'CC-MAIN-20130516092622-00049-ip-10-60-113-184.ec2.internal.warc.wet.gz',\n 'CC-MAIN-20130516124224-00031-ip-10-60-113-184.ec2.internal.warc.wet.gz',\n 'CC-MAIN-20130516112632-00025-ip-10-60-113-184.ec2.internal.warc.wet.gz',\n 'CC-MAIN-20130516121434-00086-ip-10-60-113-184.ec2.internal.warc.wet.gz',\n 'CC-MAIN-20130516112532-00081-ip-10-60-113-184.ec2.internal.warc.wet.gz',\n 'CC-MAIN-20130516124222-00011-ip-10-60-113-184.ec2.internal.warc.wet.gz',\n 'CC-MAIN-20130516133646-00030-ip-10-60-113-184.ec2.internal.warc.wet.gz',\n 'CC-MAIN-20130516114418-00099-ip-10-60-113-184.ec2.internal.warc.wet.gz',\n 'CC-MAIN-20130516111409-00068-ip-10-60-113-184.ec2.internal.warc.wet.gz',\n 'CC-MAIN-20130516105148-00004-ip-10-60-113-184.ec2.internal.warc.wet.gz',\n 'CC-MAIN-20130516094801-00049-ip-10-60-113-184.ec2.internal.warc.wet.gz',\n 'CC-MAIN-20130516112532-00042-ip-10-60-113-184.ec2.internal.warc.wet.gz',\n 'CC-MAIN-20130516094801-00080-ip-10-60-113-184.ec2.internal.warc.wet.gz',\n 'CC-MAIN-20130516112138-00081-ip-10-60-113-184.ec2.internal.warc.wet.gz',\n 'CC-MAIN-20130516112449-00060-ip-10-60-113-184.ec2.internal.warc.wet.gz',\n 'CC-MAIN-20130516121717-00031-ip-10-60-113-184.ec2.internal.warc.wet.gz',\n 'CC-MAIN-20130516092624-00055-ip-10-60-113-184.ec2.internal.warc.wet.gz',\n 'CC-MAIN-20130516105600-00074-ip-10-60-113-184.ec2.internal.warc.wet.gz',\n 'CC-MAIN-20130516092622-00097-ip-10-60-113-184.ec2.internal.warc.wet.gz',\n 'CC-MAIN-20130516115510-00002-ip-10-60-113-184.ec2.internal.warc.wet.gz',\n 'CC-MAIN-20130516112742-00073-ip-10-60-113-184.ec2.internal.warc.wet.gz',\n 'CC-MAIN-20130516113534-00066-ip-10-60-113-184.ec2.internal.warc.wet.gz',\n 'CC-MAIN-20130516104111-00061-ip-10-60-113-184.ec2.internal.warc.wet.gz',\n 'CC-MAIN-20130516121711-00061-ip-10-60-113-184.ec2.internal.warc.wet.gz',\n 'CC-MAIN-20130516131754-00061-ip-10-60-113-184.ec2.internal.warc.wet.gz',\n 'CC-MAIN-20130516115903-00087-ip-10-60-113-184.ec2.internal.warc.wet.gz',\n 'CC-MAIN-20130516114424-00082-ip-10-60-113-184.ec2.internal.warc.wet.gz',\n 'CC-MAIN-20130516095643-00049-ip-10-60-113-184.ec2.internal.warc.wet.gz',\n 'CC-MAIN-20130516092623-00013-ip-10-60-113-184.ec2.internal.warc.wet.gz',\n 'CC-MAIN-20130516100011-00013-ip-10-60-113-184.ec2.internal.warc.wet.gz',\n 'CC-MAIN-20130516113733-00013-ip-10-60-113-184.ec2.internal.warc.wet.gz',\n 'CC-MAIN-20130516102441-00043-ip-10-60-113-184.ec2.internal.warc.wet.gz',\n 'CC-MAIN-20130516095643-00059-ip-10-60-113-184.ec2.internal.warc.wet.gz',\n 'CC-MAIN-20130516094552-00006-ip-10-60-113-184.ec2.internal.warc.wet.gz',\n 'CC-MAIN-20130516125130-00089-ip-10-60-113-184.ec2.internal.warc.wet.gz',\n 'CC-MAIN-20130516121430-00035-ip-10-60-113-184.ec2.internal.warc.wet.gz',\n 'CC-MAIN-20130516102459-00010-ip-10-60-113-184.ec2.internal.warc.wet.gz',\n 'CC-MAIN-20130516102032-00018-ip-10-60-113-184.ec2.internal.warc.wet.gz',\n 'CC-MAIN-20130516104930-00067-ip-10-60-113-184.ec2.internal.warc.wet.gz',\n 'CC-MAIN-20130516095809-00050-ip-10-60-113-184.ec2.internal.warc.wet.gz',\n 'CC-MAIN-20130516125355-00083-ip-10-60-113-184.ec2.internal.warc.wet.gz',\n 'CC-MAIN-20130516101153-00096-ip-10-60-113-184.ec2.internal.warc.wet.gz',\n 'CC-MAIN-20130516125355-00001-ip-10-60-113-184.ec2.internal.warc.wet.gz',\n 'CC-MAIN-20130516101108-00089-ip-10-60-113-184.ec2.internal.warc.wet.gz',\n 'CC-MAIN-20130516131227-00043-ip-10-60-113-184.ec2.internal.warc.wet.gz',\n 'CC-MAIN-20130516102459-00030-ip-10-60-113-184.ec2.internal.warc.wet.gz',\n 'CC-MAIN-20130516101036-00024-ip-10-60-113-184.ec2.internal.warc.wet.gz',\n 'CC-MAIN-20130516101036-00077-ip-10-60-113-184.ec2.internal.warc.wet.gz',\n 'CC-MAIN-20130516092623-00047-ip-10-60-113-184.ec2.internal.warc.wet.gz',\n 'CC-MAIN-20130516113030-00076-ip-10-60-113-184.ec2.internal.warc.wet.gz',\n 'CC-MAIN-20130516112157-00029-ip-10-60-113-184.ec2.internal.warc.wet.gz',\n 'CC-MAIN-20130516115552-00018-ip-10-60-113-184.ec2.internal.warc.wet.gz',\n 'CC-MAIN-20130516105600-00078-ip-10-60-113-184.ec2.internal.warc.wet.gz',\n 'CC-MAIN-20130516123037-00001-ip-10-60-113-184.ec2.internal.warc.wet.gz',\n 'CC-MAIN-20130516112715-00090-ip-10-60-113-184.ec2.internal.warc.wet.gz',\n 'CC-MAIN-20130516112157-00074-ip-10-60-113-184.ec2.internal.warc.wet.gz',\n 'CC-MAIN-20130516115822-00018-ip-10-60-113-184.ec2.internal.warc.wet.gz',\n 'CC-MAIN-20130516092623-00038-ip-10-60-113-184.ec2.internal.warc.wet.gz',\n 'CC-MAIN-20130516110724-00057-ip-10-60-113-184.ec2.internal.warc.wet.gz',\n 'CC-MAIN-20130516132325-00047-ip-10-60-113-184.ec2.internal.warc.wet.gz',\n 'CC-MAIN-20130516101056-00051-ip-10-60-113-184.ec2.internal.warc.wet.gz',\n 'CC-MAIN-20130516095914-00041-ip-10-60-113-184.ec2.internal.warc.wet.gz',\n 'CC-MAIN-20130516102654-00067-ip-10-60-113-184.ec2.internal.warc.wet.gz',\n 'CC-MAIN-20130516110732-00047-ip-10-60-113-184.ec2.internal.warc.wet.gz',\n 'CC-MAIN-20130516130024-00053-ip-10-60-113-184.ec2.internal.warc.wet.gz',\n 'CC-MAIN-20130516130259-00017-ip-10-60-113-184.ec2.internal.warc.wet.gz',\n 'CC-MAIN-20130516121922-00085-ip-10-60-113-184.ec2.internal.warc.wet.gz',\n 'CC-MAIN-20130516095809-00038-ip-10-60-113-184.ec2.internal.warc.wet.gz',\n 'CC-MAIN-20130516095702-00031-ip-10-60-113-184.ec2.internal.warc.wet.gz',\n 'CC-MAIN-20130516104553-00054-ip-10-60-113-184.ec2.internal.warc.wet.gz',\n 'CC-MAIN-20130516133005-00099-ip-10-60-113-184.ec2.internal.warc.wet.gz',\n 'CC-MAIN-20130516110845-00025-ip-10-60-113-184.ec2.internal.warc.wet.gz',\n 'CC-MAIN-20130516092622-00067-ip-10-60-113-184.ec2.internal.warc.wet.gz']"
     },
     "execution_count": 9,
     "metadata": {},
     "output_type": "execute_result"
    }
   ],
   "source": [
    "# test path\n",
    "import os\n",
    "import glob\n",
    "crawl_name = 'CC-MAIN-2013-20'  # take a small crawl for testing\n",
    "top_lvl_domain = 'at'\n",
    "crawl_dir = os.path.join(\"S:\", \"msommer\", crawl_name, top_lvl_domain)\n",
    "#os.chdir(crawl_dir)\n",
    "key = \"crawl-data/CC-MAIN-2013-20/segments/1368708808767/wet/CC-MAIN-20130516125328-00057-ip-10-60-113-184.ec2.internal.warc.wet.gz\"\n",
    "key_path = \"CC-MAIN-20130516121618-00013-ip-10-60-113-184.ec2.internal.warc.wet\"\n",
    "files = glob.glob(\"*.warc.wet.gz\")\n",
    "files"
   ],
   "metadata": {
    "collapsed": false,
    "ExecuteTime": {
     "end_time": "2024-03-22T19:36:59.463580500Z",
     "start_time": "2024-03-22T19:36:59.338733Z"
    }
   },
   "id": "34edadce58c5bacc",
   "execution_count": 9
  },
  {
   "cell_type": "code",
   "outputs": [
    {
     "name": "stdout",
     "output_type": "stream",
     "text": [
      "[('schimpfen', 0.4794471263885498), ('Papa', 0.46053141355514526), ('verzeihen', 0.45761623978614807), ('Sagen', 0.44254419207572937), ('abstempeln', 0.4383883476257324), ('entgegnen', 0.43529683351516724), ('Putin,', 0.4345760643482208), ('aufhören', 0.426441490650177), ('Dummheit', 0.419924259185791), ('nachdenken', 0.41940540075302124)]\n",
      "[('ausdrücken', 0.5550252795219421), ('umbringen', 0.5167557001113892), ('rassistisch', 0.5018532872200012), ('abstempeln', 0.5010532140731812), ('verzeihen', 0.49874329566955566), ('irren', 0.4904670715332031), ('Putin,', 0.4881359338760376), ('mitmachen', 0.48637640476226807), ('Marionette', 0.48224660754203796), ('beleidigt', 0.48221421241760254)]\n"
     ]
    }
   ],
   "source": [
    "from gensim.models import Word2Vec\n",
    "crawl_name = 'CC-MAIN-2013-20'  # take a small crawl for testing\n",
    "top_lvl_domain = 'at'\n",
    "crawl_dir = os.path.join(\"S:\", \"msommer\", crawl_name, top_lvl_domain)\n",
    "# load model\n",
    "model_fname = os.path.join(crawl_dir, \"word2vec.model\")\n",
    "model = Word2Vec.load(model_fname)\n",
    "\n",
    "# save word sets of target words\n",
    "target = 'angreifen'\n",
    "w1 = model.wv.most_similar(target, 10)\n",
    "w2 = model.wv.similar_by_word(target, 10)\n",
    "print(w1)\n",
    "print(w2)"
   ],
   "metadata": {
    "collapsed": false,
    "ExecuteTime": {
     "end_time": "2024-03-18T18:49:17.458808300Z",
     "start_time": "2024-03-18T18:49:16.227926300Z"
    }
   },
   "id": "b3824acefa44b173",
   "execution_count": 11
  },
  {
   "cell_type": "code",
   "outputs": [
    {
     "data": {
      "text/plain": "[['human', 'interface', 'computer'],\n ['survey', 'user', 'computer', 'system', 'response', 'time'],\n ['eps', 'user', 'interface', 'system'],\n ['system', 'human', 'system', 'eps'],\n ['user', 'response', 'time'],\n ['trees'],\n ['graph', 'trees'],\n ['graph', 'minors', 'trees'],\n ['graph', 'minors', 'survey']]"
     },
     "execution_count": 1,
     "metadata": {},
     "output_type": "execute_result"
    }
   ],
   "source": [
    "from gensim.test.utils import common_texts\n",
    "common_texts"
   ],
   "metadata": {
    "collapsed": false,
    "ExecuteTime": {
     "end_time": "2024-03-17T18:12:15.746696900Z",
     "start_time": "2024-03-17T18:12:12.963187400Z"
    }
   },
   "id": "26b7025f44e0179a",
   "execution_count": 1
  },
  {
   "cell_type": "code",
   "outputs": [
    {
     "name": "stdout",
     "output_type": "stream",
     "text": [
      "['Hallo.', 'Ich', 'spielte', 'am', 'frühen', 'Morgen', 'und', 'ging', 'dann', 'zu', 'einem', 'Freund.', 'Auf', 'Wiedersehen']\n",
      "['hallo.', 'ich', 'spielen', 'an', 'früh', 'Morgen', 'und', 'gehen', 'dann', 'zu', 'ein', 'Freund.', 'auf', 'Wiedersehen']\n",
      "['hallo. ich spielen an früh Morgen und gehen dann zu ein Freund. auf Wiedersehen']\n"
     ]
    }
   ],
   "source": [
    "from HanTa import HanoverTagger as ht\n",
    "tagger = ht.HanoverTagger('morphmodel_ger.pgz')\n",
    "mails=['Hallo. Ich spielte am frühen Morgen und ging dann zu einem Freund. Auf Wiedersehen',\n",
    "       'Guten Tag Ich mochte Bälle und will etwas kaufen. Tschüss']\n",
    "mails_lemma = []\n",
    "for mail in mails:\n",
    "    print(mail.split())\n",
    "    lemma = [lemma for (word,lemma,pos) in tagger.tag_sent(mail.split())]\n",
    "    print(lemma)\n",
    "    mails_lemma.append(' '.join(lemma))\n",
    "    print(mails_lemma)\n",
    "    break"
   ],
   "metadata": {
    "collapsed": false,
    "ExecuteTime": {
     "end_time": "2024-03-17T20:16:50.321594600Z",
     "start_time": "2024-03-17T20:16:49.946834500Z"
    }
   },
   "id": "78a6108519dd4ed8",
   "execution_count": 7
  },
  {
   "cell_type": "code",
   "outputs": [
    {
     "name": "stdout",
     "output_type": "stream",
     "text": [
      "Execution ran for 0.02 minutes.\n"
     ]
    }
   ],
   "source": [
    "import time\n",
    "t = time.time()\n",
    "time.sleep(1)\n",
    "print(\"Execution ran for\", round((time.time() - t) / 60, 2), \"minutes.\")"
   ],
   "metadata": {
    "collapsed": false,
    "ExecuteTime": {
     "end_time": "2024-03-17T18:31:12.569178400Z",
     "start_time": "2024-03-17T18:31:11.559611900Z"
    }
   },
   "id": "877eb91b0c43426a",
   "execution_count": 5
  },
  {
   "cell_type": "code",
   "outputs": [
    {
     "name": "stdout",
     "output_type": "stream",
     "text": [
      "https://data.commoncrawl.org/cc-index/collections/CC-MAIN-2023-40/indexes/cluster.idx\n"
     ]
    }
   ],
   "source": [
    "# 1) select crawl: CC-MAIN-2023-40 and download cluster.idx\n",
    "crawl_name = \"CC-MAIN-2023-40\"\n",
    "top_lvl_domain = \"at\"   # oder \"de\"\n",
    "path1 = 'https://data.commoncrawl.org/cc-index/collections/'\n",
    "path2 = '/indexes/'\n",
    "path_ccrawl = path1 + crawl_name + path2\n",
    "url = path_ccrawl + 'cluster.idx'\n",
    "print(url)"
   ],
   "metadata": {
    "collapsed": false,
    "ExecuteTime": {
     "end_time": "2024-03-25T12:13:52.798776400Z",
     "start_time": "2024-03-25T12:13:52.661058800Z"
    }
   },
   "id": "50a8e33896a1aa4f",
   "execution_count": 2
  },
  {
   "cell_type": "code",
   "outputs": [],
   "source": [
    "crawl_dir = os.path.join(\"S:\", \"msommer\", crawl_name, top_lvl_domain)\n",
    "if not os.path.exists(crawl_dir):\n",
    "   os.makedirs(crawl_dir)\n",
    "cluster_file = os.path.join(crawl_dir, \"cluster.txt\")\n",
    "#urlretrieve(url, cluster_file)"
   ],
   "metadata": {
    "collapsed": false,
    "ExecuteTime": {
     "end_time": "2024-03-25T12:13:55.477458100Z",
     "start_time": "2024-03-25T12:13:55.429441800Z"
    }
   },
   "id": "9b26717aeaca600e",
   "execution_count": 3
  },
  {
   "cell_type": "code",
   "outputs": [
    {
     "name": "stdout",
     "output_type": "stream",
     "text": [
      "['cdx-00002.gz', 'cdx-00003.gz', 'cdx-00004.gz']\n"
     ]
    }
   ],
   "source": [
    "# 2) filter cdx files with tld '^at,' or '^de,'\n",
    "regex = '^' + top_lvl_domain + ','\n",
    "with open(cluster_file, \"rt\") as file:     \n",
    "    cdx_files = []\n",
    "    for line in file:\n",
    "        tld = line.split(\"\\t\")\n",
    "        match = re.search(regex, tld[0])  # ^at,\n",
    "        if match: \n",
    "            if not tld[1] in cdx_files:\n",
    "                cdx_files.append(tld[1])\n",
    "print(cdx_files)      "
   ],
   "metadata": {
    "collapsed": false,
    "ExecuteTime": {
     "end_time": "2024-03-25T12:14:03.551565600Z",
     "start_time": "2024-03-25T12:13:58.126802300Z"
    }
   },
   "id": "e7a1b3aa7f997d10",
   "execution_count": 4
  },
  {
   "cell_type": "code",
   "outputs": [
    {
     "name": "stdout",
     "output_type": "stream",
     "text": [
      "[1]\n",
      "['cdx-00003.gz']\n"
     ]
    }
   ],
   "source": [
    "# 3) randomly choose cdx files, e.g. cdx-00003.gz -> way too much for de\n",
    "if len(cdx_files) > 1:\n",
    "    idx = random.sample(range(0, len(cdx_files)), 1)\n",
    "    print(idx)\n",
    "    cdx_files = [cdx_files[i] for i in idx]\n",
    "    print(cdx_files)"
   ],
   "metadata": {
    "collapsed": false,
    "ExecuteTime": {
     "end_time": "2024-03-25T12:14:13.896276Z",
     "start_time": "2024-03-25T12:14:13.828733800Z"
    }
   },
   "id": "78dfbdb5cdf72da2",
   "execution_count": 5
  },
  {
   "cell_type": "code",
   "outputs": [
    {
     "name": "stdout",
     "output_type": "stream",
     "text": [
      "cdx-00002.gz\n",
      "cdx-00003.gz\n",
      "cdx-00004.gz\n"
     ]
    }
   ],
   "source": [
    "# 4) download cdx files (one takes ~ 2 min)\n",
    "# wget “https://data.commoncrawl.org/cc-index/collections/CC-MAIN-2022-05/indexes/$i.gz\"\n",
    "for file in cdx_files:\n",
    "    print(file)\n",
    "    url = path_ccrawl + file\n",
    "    filename = os.path.join(crawl_dir, file)\n",
    "    #urlretrieve(url, filename)"
   ],
   "metadata": {
    "collapsed": false,
    "ExecuteTime": {
     "end_time": "2024-03-11T20:09:39.890817900Z",
     "start_time": "2024-03-11T20:09:39.822736500Z"
    }
   },
   "id": "b7ac29262600bc36",
   "execution_count": 6
  },
  {
   "cell_type": "code",
   "outputs": [],
   "source": [
    "from urllib.request import urlretrieve\n",
    "def tryDownload(url, filename, retries=0):\n",
    "    if retries > 10: \n",
    "        print(\"Download failed.\")\n",
    "        return\n",
    "    try:\n",
    "        urlretrieve(url, filename)  \n",
    "    except:\n",
    "        time.sleep(1)\n",
    "        tryDownload(url, filename, retries+1)"
   ],
   "metadata": {
    "collapsed": false,
    "ExecuteTime": {
     "end_time": "2024-03-11T19:36:53.666139500Z",
     "start_time": "2024-03-11T19:36:53.638515300Z"
    }
   },
   "id": "2cbb9079c9e70970",
   "execution_count": 5
  },
  {
   "cell_type": "code",
   "outputs": [
    {
     "name": "stdout",
     "output_type": "stream",
     "text": [
      "S:msommer\\CC-MAIN-2023-40\\at\\cdx-00003.gz\n"
     ]
    },
    {
     "name": "stderr",
     "output_type": "stream",
     "text": [
      "IOPub data rate exceeded.\n",
      "The Jupyter server will temporarily stop sending output\n",
      "to the client in order to avoid crashing it.\n",
      "To change this limit, set the config variable\n",
      "`--ServerApp.iopub_data_rate_limit`.\n",
      "\n",
      "Current values:\n",
      "ServerApp.iopub_data_rate_limit=1000000.0 (bytes/sec)\n",
      "ServerApp.rate_limit_window=3.0 (secs)\n",
      "\n"
     ]
    },
    {
     "ename": "AttributeError",
     "evalue": "'list' object has no attribute 'items'",
     "output_type": "error",
     "traceback": [
      "\u001B[1;31m---------------------------------------------------------------------------\u001B[0m",
      "\u001B[1;31mAttributeError\u001B[0m                            Traceback (most recent call last)",
      "Cell \u001B[1;32mIn[6], line 21\u001B[0m\n\u001B[0;32m     19\u001B[0m \u001B[38;5;66;03m# only download warc files with a lot of occurrences --> maybe download not necessary? --> see below\u001B[39;00m\n\u001B[0;32m     20\u001B[0m wet_files \u001B[38;5;241m=\u001B[39m []\n\u001B[1;32m---> 21\u001B[0m \u001B[38;5;28;01mfor\u001B[39;00m key, value \u001B[38;5;129;01min\u001B[39;00m \u001B[43mcount_dict\u001B[49m\u001B[38;5;241;43m.\u001B[39;49m\u001B[43mitems\u001B[49m():\n\u001B[0;32m     22\u001B[0m     \u001B[38;5;28mprint\u001B[39m(key,value)\n\u001B[0;32m     23\u001B[0m     \u001B[38;5;28;01mbreak\u001B[39;00m\n",
      "\u001B[1;31mAttributeError\u001B[0m: 'list' object has no attribute 'items'"
     ]
    }
   ],
   "source": [
    "# 5) gunzip and open it - one line looks like the following:\n",
    "warc_files = []\n",
    "for file in cdx_files:\n",
    "    filename = os.path.join(crawl_dir, file)\n",
    "    print(filename)\n",
    "    with gzip.open(filename, 'rt') as f:\n",
    "        for line in f:          \n",
    "            match = re.search(regex, line)  # ^at,\n",
    "            if match: \n",
    "                l = line.split(\"{\\\"url\\\":\")\n",
    "                string = \"{\\\"url\\\":\" + l[1]\n",
    "                d = json.loads(string)\n",
    "                warc = d[\"filename\"]\n",
    "                if int(d[\"length\"]) > 10000: \n",
    "                    warc_files.append(warc)\n",
    "        count_dict = Counter(warc_files).most_common()    # 1 - 73 occurrences per warc file\n",
    "        \n",
    "        # only download warc files with a lot of occurrences --> maybe download not necessary? --> see below\n",
    "        wet_files = []\n",
    "        for key, value in count_dict.items():\n",
    "            if value >= 50:\n",
    "                # 6) get filename, convert to wet file and download (WARC: ~ 2 min, WET: 15 sec )\n",
    "                key = key.replace(\"/warc/\", \"/wet/\").replace(\"warc.gz\", \"warc.wet.gz\")\n",
    "                key_path = key.split(\"/\")[-1]\n",
    "                filename = os.path.join(crawl_dir, key_path)\n",
    "                wet_files.append(filename)\n",
    "                print(filename)\n",
    "                url = \"https://data.commoncrawl.org/\" + key\n",
    "                print(url)\n",
    "                #tryDownload(url, filename)  \n",
    "                break\n",
    "                \n",
    "    \n",
    "            \n",
    "    break"
   ],
   "metadata": {
    "collapsed": false,
    "ExecuteTime": {
     "end_time": "2024-03-25T12:19:46.337154800Z",
     "start_time": "2024-03-25T12:14:40.986472600Z"
    }
   },
   "id": "3217dcf181187af0",
   "execution_count": 6
  },
  {
   "cell_type": "markdown",
   "source": [
    "warcinfo\n",
    "request\n",
    "response\n",
    "metadata\n",
    "\n",
    "WARC/1.0\n",
    "WARC-Type: conversion\n",
    "WARC-Target-URI: http://ah.zzjiahe.net/news949196.html\n",
    "WARC-Date: 2023-10-01T04:54:41Z\n",
    "WARC-Record-ID: <urn:uuid:02e7a2be-bcf6-47d6-ae05-30660a907a1f>\n",
    "WARC-Refers-To: <urn:uuid:de36273e-b04b-4de1-b759-0d74586b1ec9>\n",
    "WARC-Block-Digest: sha1:JBRJCLDEN7QUUHDWBNQ746KQ4VJGVAJ6\n",
    "WARC-Identified-Content-Language: zho\n",
    "Content-Type: text/plain\n",
    "Content-Length: 3173"
   ],
   "metadata": {
    "collapsed": false
   },
   "id": "f729021b4c03f96d"
  },
  {
   "cell_type": "code",
   "outputs": [],
   "source": [
    "import string\n",
    "import nltk\n",
    "#nltk.download('stopwords')\n",
    "#nltk.download('punkt')\n",
    "stop_words = nltk.corpus.stopwords.words('german')\n",
    "def count_pct_and_stopwords(text, stopwords):\n",
    "    pct_count = 0\n",
    "    sw_count = 0\n",
    "    line_tok = nltk.word_tokenize(text)\n",
    "\n",
    "    for tok in line_tok:\n",
    "        if tok in string.punctuation or tok == '\\n':\n",
    "            pct_count += 1\n",
    "        if tok in stopwords:\n",
    "            sw_count += 1\n",
    "            \n",
    "    lb_count = text.count('\\n')\n",
    "\n",
    "    return pct_count, sw_count, lb_count"
   ],
   "metadata": {
    "collapsed": false,
    "ExecuteTime": {
     "end_time": "2024-03-12T12:13:07.862633400Z",
     "start_time": "2024-03-12T12:13:07.814576700Z"
    }
   },
   "id": "21c30740efb529d3",
   "execution_count": 35
  },
  {
   "cell_type": "code",
   "outputs": [
    {
     "name": "stdout",
     "output_type": "stream",
     "text": [
      "http://derstandard.at/1216917895853/Obamania--Alles-nur-ein-Hype\n",
      "426 830 6\n",
      "http://derstandard.at/1334796665270/Mageres-Paszek-Comeback\n",
      "190 439 15\n",
      "http://derstandard.at/1350259722629/Pflaster-Abloesen-ohne-Schmerz\n",
      "268 536 4\n",
      "http://derstandard.at/plink/1358304904279?_pid=29953867\n",
      "448 1068 10\n",
      "http://www.bmeia.gv.at/aussenministerium/aussenpolitik/auslandskultur/veranstaltungsliste-weltweit.html?so=1&sb=2&pgpt=13&dd=18&dm=11&dy=2012&sp=1&act=1&no_cache=1\n",
      "1172 93 466\n",
      "http://www.groupon.at/deals/online-deal/isimax/4985812?jGroupSelector=true&STUVWX=true\n",
      "210 348 213\n",
      "http://www.kleinezeitung.at/steiermark/graz/graz/1569542/index.do\n",
      "149 292 418\n",
      "http://www.ornauer.at/lebensfreude-blog/category/metaphern/\n",
      "963 1022 360\n",
      "http://www.thalia.at/shop/kundenempfehlungen-musik/rezartikel/der_alte_koenig_in_seinem_exil/arno_geiger/ISBN3-446-23690-2/ID25998269.html\n",
      "476 1275 609\n",
      "http://www.wienmuseum.at/de/besucherinformationen/kataloge.html?L=1&fsize=0&tx_wxcatalogue_pi1[catalogue_id]=149\n",
      "2231 1225 1582\n",
      "http://www.zalando.at/alle/\n",
      "507 50 227\n"
     ]
    }
   ],
   "source": [
    "wet_file = \"S:msommer\\CC-MAIN-2013-20\\\\at\\CC-MAIN-20130516112802-00088-ip-10-60-113-184.ec2.internal.warc.wet.gz\"\n",
    "fname = wet_file.replace(\".warc.wet.gz\", \"-text.txt\")\n",
    "with open(wet_file, 'rb') as stream, open(fname, 'wt', encoding='utf-8') as f:\n",
    "    x = 0\n",
    "    for record in ArchiveIterator(stream):\n",
    "        if record.rec_type == 'conversion':\n",
    "            regex = '\\.' + top_lvl_domain + '/'\n",
    "            match = re.search(regex, record.rec_headers.get_header('WARC-Target-URI'))\n",
    "            length = int(record.rec_headers.get_header('Content-Length'))\n",
    "            rec_type = record.rec_headers.get_header('Content-Type')\n",
    "            #lang = record.rec_headers.get_header('WARC-Identified-Content-Language') # not available\n",
    "\n",
    "            if match and length > 10000 and rec_type == \"text/plain\":\n",
    "                print(record.rec_headers.get_header('WARC-Target-URI'))\n",
    "                content = record.content_stream().read().decode('utf-8', errors='replace') # errors='surrogateescape' \n",
    "                pct_cnt, sw_cnt, lb_cnt = count_pct_and_stopwords(content, stop_words)\n",
    "                print(pct_cnt, sw_cnt, lb_cnt)\n",
    "                if sw_cnt == 0:\n",
    "                    continue\n",
    "                elif pct_cnt / sw_cnt > 1 or lb_cnt / sw_cnt > 0.5:\n",
    "                    continue\n",
    "                f.write(content)\n",
    "                x += 1\n",
    "        if x > 10:\n",
    "            break\n"
   ],
   "metadata": {
    "collapsed": false,
    "ExecuteTime": {
     "end_time": "2024-03-12T13:07:52.426542700Z",
     "start_time": "2024-03-12T13:07:37.956002600Z"
    }
   },
   "id": "85603483f6104526",
   "execution_count": 46
  },
  {
   "cell_type": "code",
   "outputs": [],
   "source": [
    "### QUESTION: Wie löse ich das Problem, dass oft nur Überschriften im Text vorkommen?! \n",
    "# -> vlt beim einlesen von text file line per line die mit wenigen zeichen vernachlässigen\n",
    "### QUESTION: Wie stelle ich sicher, dass nur deutsche Webinhalte verwendet werden??\n",
    "# -> line per line language detection ?? -> sehr zeitaufwendig"
   ],
   "metadata": {
    "collapsed": false
   },
   "id": "49c8ad622c201fea"
  },
  {
   "cell_type": "code",
   "outputs": [],
   "source": [],
   "metadata": {
    "collapsed": false
   },
   "id": "fb13f11f700da69e"
  },
  {
   "cell_type": "markdown",
   "source": [
    "Ausgezeichnet mit dem H�lderlin-Preis 2011�Arno Geiger hat ein tief ber�hrendes Buch �ber seinen Vater geschrieben, der trotz seiner Alzheimerkrankheit mit Vitalit�t, Witz und Klugheit beeindruckt. Die Krankheit l�st langsam seine Erinnerung und seine Orientierung in der Gegenwart auf, l�sst sein Leben abhandenkommen. Arno Geiger erz�hlt, wie er nochmals Freundschaft mit seinem Vater schlie�t und ihn viele Jahre begleitet. In nur scheinbar sinnlosen und oft so wunderbar poetischen S�tzen entdeckt er, dass es auch im Alter in der Person des Vaters noch alles gibt: Charme, Witz, Selbstbewusstsein und W�rde. Arno Geigers Buch ist lebendig, oft komisch. In seiner tief ber�hrenden Geschichte erz�hlt er von einem Leben, das es immer noch zutiefst wert ist, gelebt zu werden.\n",
    "\n",
    "-> Umlautfehler leider schon in der Quellendatei vorhanden (siehe oben)!"
   ],
   "metadata": {
    "collapsed": false
   },
   "id": "bd8e8c7bf96624d8"
  },
  {
   "cell_type": "code",
   "outputs": [],
   "source": [
    "from langdetect import detect\n",
    "            if line.count('.') < 3 or len(line) < 100:\n",
    "                continue\n",
    "            try:\n",
    "                lang = detect(line)\n",
    "            except:\n",
    "                lang = \"none\"\n",
    "            if lang != \"de\":\n",
    "                continue"
   ],
   "metadata": {
    "collapsed": false
   },
   "id": "15f29a2a1297f45b"
  },
  {
   "cell_type": "code",
   "outputs": [
    {
     "name": "stderr",
     "output_type": "stream",
     "text": [
      "[nltk_data] Downloading package stopwords to\n",
      "[nltk_data]     C:\\Users\\e11778902\\AppData\\Roaming\\nltk_data...\n",
      "[nltk_data]   Package stopwords is already up-to-date!\n"
     ]
    }
   ],
   "source": [],
   "metadata": {
    "collapsed": false,
    "ExecuteTime": {
     "end_time": "2024-03-11T21:15:51.631556500Z",
     "start_time": "2024-03-11T21:15:51.492912800Z"
    }
   },
   "id": "f1de89eea53e5232",
   "execution_count": 14
  },
  {
   "cell_type": "code",
   "outputs": [
    {
     "name": "stdout",
     "output_type": "stream",
     "text": [
      "Obamania - Alles nur ein Hype? - FS-Misik - derStandard.at › MeinungderStandard.at›Meinung›Blogs›Politik›FS-MisikSeite1InternationalInlandWirtschaftWebSportPanoramaEtatKulturWissenschaftGesundheitBildungReisenLifestyleFamilieMeinungKommentareKolumnenKommentare der anderenGastkommentareLeserkommentareBlogsPolitikWirtschaftGesellschaftdieStandard.atdaStandard.atZuZweitPartnersucheGebrauchtwagenAutoMobilAutoMotorradRadGebrauchtwagenAutopreiseMeine InserateSuchagentenImmobilienImmobilien suchenGewerbeimmobilienMeine InserateSuchagentenMerklisteEinstellungenHilfeKarriereJob & KarriereManagementJobsuche & StellenmarktKarrierepoolSuchagentKundencenterFirmen A - ZsuchenWetter Wienanmeldenabmelden PostingsMitposterInnen, die ich lese:Alle meine PostingsaktualisierenExpressNachrichten in aller KürzeCommunityAlles zur CommunityNewsletterNachrichten, die zu Ihnen kommen: Newsletter, Feeds und SMSMobilAlles zu unseren mobilen Angeboten: Apps, Mobilversion und SMSTV/RadioUnsere Radio- und TV-AngeboteZeitungDie Zeitung im Internet: Abo, E-Paper, Anzeigen und mehrÜber unsAlles über die Redaktion von derStandard.atSalesAlles über Onlinewerbung, Stellenanzeigen und ImmobilieninserateObamania - Alles nur ein Hype? 27. Juli 2008, 15:38FS Misik Folge 35: Wider das miesepetrige Gesudere, dass eine Obama-Präsidentschaft ohnehin nichts ändern würde FS-Misik sendet diesmal aus Berlin, wo eine viertelmillion Menschen dem designierten demokratischen Präsidentschaftskandidaten zujubelte. Aber in die Begeisterung mischen sich auch schon skeptische Stimmen. Obama würde doch eh nichts ändern - die USA bleiben, was sie sind. Der schwarze Senator werde sich schon arrangieren mit den \"herrschenden Kräften\". Klingt realistisch, aber warum ist dieser Realismus von Mieselsucht so verdammt schwer zu unterscheiden. Möglich, dass uns Obama enttäuschen wird.\n",
      "\n",
      "Ebenso möglich aber, dass er uns nicht enttäuschen wird. Depressive Keppler jedenfalls haben die Welt noch nie verändert. Und übrigens: Haben die Keppler nicht auch ganz sicher gewusst, dass Obama nie die demokratische Nominierung schaffen wird? In dem Hype um Obama steckt mehr Weisheit als im abgeklärten Realismus derer, die vielleicht Wirklichkeitssinn haben, aber nicht eine Prise Möglichkeitssinn. Hat jemand eine Antidepressivum für die ewigen Schwarzseher?\n",
      "\n",
      "Robert Misik im Juli 2004 über Obama \"The Phenomenon\" New York Review Of Books \"The Machinery Of Hope\" Rolling Stone Magazine Obamas Webpage Aktuelles Wetter in den USAderStandard.at auf FacebookMeinung Newsletter abonnierenTwitterFeedbackArtikel mailenArtikel druckenVideocast von Robert Misik, Folge 286Cohn-Bendit und der Päderasten-Vorwurf [358]Kein Anlass ist zu dumm für die Abrechnung mit den 68ernVideocast von Robert Misik, Folge 285:Könnten die \"Grünen\" auch stärkste Partei werden? [115]Die Wähler - die Überraschung des FrühjahrsVideocast von Robert Misik - Folge 284Wie halten Sie es mit der Gleichheit? [63]Misiks Lesekreis: Alle sind für Gleichheit, und alle auch für Vielfalt. Muss daraus Ungleichheit werden? Videocast von Robert Misik - Folge 283Sind die Reichen heute unmoralischer als früher? [157]Der \"Fall Hoeneß\" als ZeitsymptomVideocast von Robert Misik, Folge 282Die Wettbewerbsideologie - das größte Übel unserer Zeit [235]Warum der EU-Wettbewerbspakt verhindert werden mussVideocast von Robert Misik, Folge 281Die Krise des Parteienstaats [45]Zum Demokratie-Begehren: Ich bin so Politik-Verdruss-verdrossen. Videocast von Robert Misik - Folge 280Zeit für eine neue Sozialdemokratie [149]Wir haben nichts zu fürchten als die Furcht selbstVideocast von Robert Misik - Folge 279Eine Reise ins Innere der Wörterwelt [89]Eine Verentwirrung. Videocast von Robert Misik - Folge 278Zypernkrise - Dilettanten am Werk [50]Und: Warum glaubt der Papst, mich beleidigen zu müssen? Videocast von Robert Misik - Folge 277Kann der Kapitalismus überleben? [169]Euer Zynismus kotzt mich an. Und meiner auch. FS Misik heute in leicht renoviertem Gewand!Videocast von Robert Misik - Folge 276Warum freuen Sie sich über einen rot-grünen Wahlsieg? [90]Immer höhnen, und dann jubeln: Ist das nicht inkonsequent?Videocast von Robert Misik - Folge 255Wenn die Innenministerin Geiseln nimmt [114]Report aus dem neuen Quartier der Votivkirchen-RefugeesVideocast von Robert Misik - Folge 274\"Schließt nicht Eure Augen, schließt nicht Eure Ohren!\" [302]Alle reden über die Flüchtlinge in der Votivkirche. FS Misik lässt die Flüchtlinge selbst sprechenVideocast von Robert Misik - Folge 273Lob der Freundlichkeit [30]Eine Hommage an drei bemerkenswerte Menschen, die vergangene Woche verstorben sindVideocast von Robert Misik - Folge 272Aufstand gegen Wasserprivatisierung - Alles nur Hysterie? [67]Die Bürger wollen nicht, dass alles der Markt regelt. Sie haben recht.Videocast von Robert Misik - Folge 271Haartestkandidat Nr. 1: Kurt Scheuch, Briefeschreiber [67]Extrem Exklusiv - Haiders Antwort: \"Ich lach mich tot\"Videocast von Robert Misik - Folge 270Weil es immer so war [105]Unter Geistesprinzen: Das Spindelegger-Prinzip & die Faymann-DoktrinVideocast von Robert Misik - Folge 269Nein, die Wehrpflichtdebatte war nicht blöd! [137]Sie war sogar streckenweise richtig prima.Ein Österreich (fast) ohne Armee [250]Die Irrtümer der Wehrpflicht-BefürworterVideocast von Robert Misik - Folge 267Geht doch nach Drüben! [133]Wer könnte Gerard Depardieu demnächst noch nach Russland folgen? Fröhlicher Staatsbürgertausch mit Putin!Videocast von Robert Misik - Folge 266Wird 2013 das Jahr der Merkel-Rezession? [50]Das zu Ende gehende Jahr war gar nicht gut - Das nächste wird womöglich noch schlechterVideocast von Robert Misik - Folge 265Warum die Wehrpflicht abgeschafft gehört [551]Weil es für sie einfach keine ausreichenden guten Gründe gibtVideocast von Robert Misik - Folge 264\"Finanzialisierung\" - Der eigentliche Grund des Salzburger Finanzskandals [74]Wie soll eine Politik die Märkte bändigen, wenn sie sich von ihnen abhängig macht?Videocast von Robert Misik - Folge 263Meeting Lula - Weltverbesserung ist möglich! [22]Lulas Brasilien zeigt: Mehr Gleichheit führt zu mehr ökonomischer ProsperitätFS Misik Folge 262Der Irrwitz in der Politik [51]Stronach, Strasser & Co.: Soll man sich ärgern, oder Mitleid haben? Kommentar postenPosting 1 bis 25 von 88«‹›»1 2 3 Bahnfahrer0+-0129.7.2008, 16:43antwortenpermalinkmeldenAuf der Suche nach dem ObamaeffektMisik ist bereits auf der Suche nach dem Obamaeffekt. (Erscheint voraussichtlich? 12/08) Dass er bei dieser Suche gleich allen mi(e)si(e)k(l)süchtigen eines überbrät ist gut für das Gemüt aber schlecht für das Denken. Dürfen wir jetzt nicht mehr Obama kritisch begleiten und programmatisch ein bisschen mehr fordern? Misik hat einst Blair, der Pudel von Bush, der mitverantwortlich ist, dass Tausende von unschuldigen Menschen im Irak und in Afgh. umgebracht wurden, zur neuen Lichtgestalt der Linken verklärt. Jetzt verklärt er Obama und plädiert für eine Politik der Gefühle. Ich habe jedoch eine leise Hoffnung, dass er vielleicht doch noch von der Politik der Gefühle zur Politik des Geistes changed. Yes, you can.Mika Eskimo1+-007.8.2008, 13:39antwortenpermalinkmeldenIch bin ein Obama Die linken Intellektuellen brauchen halt immer ihre Lichtgestalten.Sind halt wie die Lemminge die wollen auch immer jemanden nach dackeln. Ich fand die Obama Rede in Berlin sehr schwach. Das nachher alle gesagt haben ich bin ein Obama wundert doppelt. Muss wohl an Berlin liegen.Jürgen Mayer0+-1029.7.2008, 16:00antwortenpermalinkmeldenWie meistenseine authentisch wirkende und dabei doch auch enorm witzige Folge. Vor allem die Bonmots zum Idealismus haben mir ja außerordentlich gut gefallen. Muss weitgehend wirklich schön gewesen sein in Berlin, an diesem Wochenende.Bahnfahrer0+-1029.7.2008, 15:55antwortenpermalinkmeldenAuf der Suche nach dem ObamaeffektMisik ist schon auf der Suche nach dem Obamaeffekt. (Erscheint voraussichtlich? 12/08) Dass er im Rahmen dieser Suche gleich allen mi(e)si(e)k(l)süchtigen eines überbrät ist gut fürs Gemüt aber schlecht für das Denken. Dürfen wir jetzt nicht mehr Obama kritisch begleiten und programmatisch ein bisschen mehr fordern? Misik hat einst Blair, der Pudel von Bush, der mitverantwortlich ist für Tausende von unschuldigen Toten im Irak und Afgh., zur neuen Lichtgestalt der Linken verklärt. Jetzt verklärt er Obama und unterstützt eine Politik der Gefühle. Ich habe aber noch Hoffnung, dass er vielleicht doch noch von der Politik der Gefühle zur Politik des Geistes changed. Yes, you can.Bahnfahrer0+-1029.7.2008, 15:38antwortenpermalinkmeldenAuf der Suche nach dem Obama EffektMisik ist schon auf der Suche nach dem Obameffekt. (Erscheint voraussichtlich?Dez.08) Dass er im Rahmen dieser Suche allen mi(e)si(e)k(l)süchtigen eines überbratet ist gut fürs Gemüt aber schlecht für das Denken. Dürfen wir jetzt Obama nicht mehr kritisch begleiten und programmtisch etwas mehr verlangen? Misik hat einst Blair, der Pudel von Bush, der mitverantwortlich ist für Tausende von unschuldigen Toten im Irak und Afgh., zur neuen Lichtgestalt der Linken verklärt. Nun verklärt er wieder und wirbt für eine Politik der Gefühle. Ich habe aber noch Hoffnung, dass er vielleicht doch noch von der Politik der Gefühle zur Politik des Geistes changed. Yes, you can. STIHL 0260+-1229.7.2008, 09:30antwortenpermalinkmeldenverblüffend und schockierend zugleichfast wortgleich hat meine oma immer vom h!tler-besuch in klagenfurt erzählt.Jürgen Mayer0+-2029.7.2008, 15:56antwortenpermalinkmeldenWissen Sie eigentlich was Sie da sagen? Denken Sie einmal besser über Ihre \"Oma\" nach, bevor Sie einen solchen Kommentar abgeben. Ein gut gemeinter Rat, aus der SteiermarkSTIHL 0260+-1030.7.2008, 08:46antwortenpermalinkmeldenund weiß der misik nicht, was er da tut, wenn er hier in bestürzender naivität einem politiker huldigt, ohne im geringsten zu wissen, was der will und was der kann - außer nett und unverbindlich daherzureden. außerdem müsste er als halbwegs gebildeter mensch auch wissen, wie peinlich im lauf der geschichte die meisten intellektuellen und künstler auf die schnauze gefallen sind, die sich so lauthals irgendwelchen echten und vermeintlichen polit-lichtgestalten unterworfen haben. Jürgen Mayer0+-0030.7.2008, 14:01antwortenpermalinkmeldenHerr Misik sprach klar und deutlichauch von einer damit verbundenen Naivität. Hier geht es, so denke ich ganz in meinem Sinne, auch weniger um irgendwelche \"Lichtgestalten\" sondern Ideen und Ideale versus eines ständig nörgelnden Realismus. Einem Realismus, der wenn, dann bloß vorgibt aufgeklärt zu sein und bei allem Wirklichkeitssinn keine Chance mehr Möglichkeiten gibt, positiven Träumen, Fantasien keinen Raum zur Verfügung stellt - nein, diese gar noch diffamiert: mir persönlich ist der Obama ziemlich unsympathisch, zu glatt, ich halte ihn auch für einigermaßen bieder und elitistisch. Ähnlich wie Jack Kennedy übrigens. Aber wer sich in Amerika an dafür geeigneten, auch unvermuteten,Plätzen umhört,der wird schnell erkennen wofür er steht:nichts anderes dennHoffnung nämlichAva Tar0+-3229.7.2008, 04:47antwortenpermalinkmeldenkulturelle Frage, tief verwurzeltAlexis de Tocqueville, Begründer der vergleichenden Politikwissenschaften (1805–1859): \"Oft nennen Amerikaner das, was wir Gewinngier heissen, löblichen Fleiss, und ihnen erscheint als Zagheit des Herzens, was wir für Mässigung der Begierden halten.\" Naja, daran hat sich seit 150 Jahren nichts geändert. Ob Obama das wird ändern können ?Jürgen Mayer0+-0129.7.2008, 15:58antwortenpermalinkmeldenWissen Siewirklich wer De Tocqueville war? Oder was hat die europäische Aristokratie nicht alles bewirkt?Ava Tar0+-0129.7.2008, 19:32antwortenpermalinkmeldenJa wenn das alles ist, was Ihnen zu Tocqueville einfälltdann will ich Sie in Ihrem Bildungszappenduster nicht stören ;o)Brücke2+-1128.7.2008, 21:50antwortenpermalinkmeldenDer Hr. Obama ist ein PR Produkt . Wir können dem Hr. Obama trauen ,wie wir jedem guten Waschmittelverkäufer trauen können . gegen den Hr. Obama spricht ,daß ihn die Seilschaft um die Bilderberger zu \"Weltpräsident\" pushen /putschen will .Rudi P.0+-0228.7.2008, 20:16antwortenpermalinkmeldenAmerikanische Kommentatoren sahen Obamas Berlin Auftrittals das was es war: Eine schoene Kullisse fuer die Prime-Time Abendnachrichten in den USA. Obama repraesentiert die lang erhoffte Wende fuer Amerikaner doch hat er Europa nichts zu bieten. Seine Rede unterstrich das. Was hat Obama inhaltlich DEN EUROPAERN gesagt? Das er ein Buerger dieses Planeten ist! No-Na! Die Geschichtslektion ueber das Ende des 2. Weltkrieg? Very educational! Und er sprach in Halbsaetzen ueber Global Warming, das Drogenproblem, Atomwaffen in den Haenden von Terroristen. Der Rest der Rede waren Floskeln ueber die Notwendigkeit der Partnerschaft zwischen Amerika und Europa. Ja, natuerlich... Ja, klar ... Diese Rede hatte wenig Substanz, aber darum ging es doch Obama gar nicht. KULLISSE ... Peter980+-0028.7.2008, 17:50antwortenpermalinkmeldenAuch ich hatte Hoffnungen und wollte nicht schwarz sehen: Eurofighter, Studiengebühren....Nopsy0+-0128.7.2008, 17:21antwortenpermalinkmeldenUnd?Macht es irgend einen Unterschied wie wir das sehen?Idol der Massen3+-0128.7.2008, 17:19antwortenpermalinkmeldenIch trauer Obama nicht* Truppen weg aus dem Irak (nur die halbe Arbeit wurde getan); dafür Truppen in Afganisthan verstärken. * Raketenabwehrschild in Europa auf biegen und brechen. * Mehr Macht für Homeland-Security und grössere Datenvoratsspeicher. T´schuldigung, aber: Klingt so ein Pazifist?Nepal0+-11028.7.2008, 15:42antwortenpermalinkmeldenSchwarzseher?für mich geht es nicht um pessimismus, sondern mich wundert nur immer wieder, wie man einem politiker so zujubeln kann. das ist mir ein rätsel. xattheshowx0+-0028.7.2008, 17:39antwortenpermalinkmeldenstimmt, wobei mich wunderts gar nicht so. wie groß is die auflage der bild zeitung in d-land? wer unter die oberfläche blickt, ist selbst schuld. ist wohl bei weitem einfacher den ganzen \"rockstar bullsh*t\" mitzutragen als den auftritt kritisch zu betrachten und den rumel zu hinterfragen. imeEnrico Furioso6+-0528.7.2008, 15:25antwortenpermalinkmeldenIch habe im Bürogewettet, dass Obama die Nomierung gewinnen wird. Ich bin aber ebenso bereit zu wetten, dass Obama die amerikanische Politik nicht wird wirklich ändern können. Ich stelle sogar in Abrede, dass er ein solches Ziel hat. In den Methoden wird er sich von Bush teilweise unterscheiden. Aber nicht in den Zielen. Und es sind am Ende stets die Ziele, die die Mittel und Methoden zu deren Durchsetzung bestimmen. Auch ein Präsident Obama wird alles ihm mögliche tun, die bevorzugte Position der USA als alleinige Supermacht zu verteidigen. Er kann gar nicht anders handeln, andernfalls wäre er bald nach seiner Wahl eine lame duck.Seifenstein0+-3028.7.2008, 15:27antwortenpermalinkmeldenhaben sie damals auch gewettet, dass die Berliner Mauer fallen wird?nicht? da hättens viel gewinnen können!Enrico Furioso6+-0128.7.2008, 17:17antwortenpermalinkmeldenah jader Zusammenhang zwischen diesen beiden Ereignissen - der Nominierung zum Kandidat der Demokraten und dem Fall der Mauer - ist evident [nur zur Sicherheit: das war ironisch gemeint]Seifenstein0+-2128.7.2008, 15:25antwortenpermalinkmeldeneine leise aber haarscharfe Analyse von Misik!*trübe Stunden die vergehen, Glück kommt über Nacht - man muss die Welt nur anders sehen bis die Sonne lacht yes we can.......karl radek13+-1828.7.2008, 14:29antwortenpermalinkmeldenlasset uns sudern 200.000 kinder (oder schafe), die ihren erlöser erwarten. das war die säkularisierte form des papstbesuches: banale allgemeinplätze werden in dieser atmosphäre zu historischen ansagen, und kinder fallen in ohnmacht. urban-a4+-0728.7.2008, 14:23antwortenpermalinkmeldenes geht nicht um schwarz sehen. was stört ist der hype. keinem politiker sollte so zugejubelt werden, keine menschenmasse sollte sich so begeistern lasssen ... das macht blind und das volk sollte nie blind sein. auch nicht gegenüber obamaKommentar postenPosting 1 bis 25 von 88«‹›»1 2 3 Die Kommentare von Usern und Userinnen geben nicht notwendigerweise die Meinung der Redaktion wieder. Die Redaktion behält sich vor, Kommentare, welche straf- oder zivilrechtliche Normen verletzen, den guten Sitten widersprechen oder sonst dem Ansehen des Mediums zuwiderlaufen (siehe ausführliche Forenregeln), zu entfernen. Der/Die Benutzer/in kann diesfalls keine Ansprüche stellen. Weiters behält sich die derStandard.at GmbH vor, Schadenersatzansprüche geltend zu machen und strafrechtlich relevante Tatbestände zur Anzeige zu bringen.© derStandard.at GmbH 2013Alle Rechte vorbehalten. Nutzung ausschließlich für den privaten Eigenbedarf.Eine Weiterverwendung und Reproduktion über den persönlichen Gebrauch hinaus ist nicht gestattet.Impressum & OffenlegungderStandard.atdieStandard.at\n",
      "\n",
      "derStandardDigital.atFINDEN.atMageres Paszek-Comeback - Tennis - derStandard.at › SportderStandard.at›Sport›Mehr Sport›TennisSeite1InternationalEuropaEuropäische UnionAmerikaNahostAsien-PazifikAfrikaInlandWirtschaftUnternehmenFinanzen & BörseATXIndizesAktienFondsWährungenRohstoffeZinsenWatchlist & PortfolioWebInnovationenIT-BusinessTelekomNetzpolitikGamesWebmixSportFußballMotorsportFormel 1WintersportSkiEishockeyMehr SportTennisSporttabellenPanoramaÖsterreich-ChronikWienWelt-ChronikGesellschaftTiereUmweltWetterEtatOnlinePrintTVORFRadioWerbung & PRWerbepreiseKulturFilmKinoprogrammMusikBühneBildende KunstLiteraturKulturpolitikWissenschaftMenschNaturRaumTechnikWeltZeitZoomGesundheitVorsorgeKrankheitTherapieLebenServiceBildungSchuleUniFachhochschuleLehreBerufseinstiegReisenReisen aktuellUrlaub in ÖsterreichEuropa ReisenFernreisenReiseblogsSchulferienLifestyleEssen & TrinkenMode & BeautyDesign & InterieurSpielen & LesenGrün & ZeugFamilieBabyKindJugendPartnerschaftGenerationenQuax.atMeinungBlogsdieStandard.atdaStandard.atZuZweitGebrauchtwagenAutoMobilImmobilienKarrieresuchenWetter Wienanmeldenabmelden PostingsMitposterInnen, die ich lese:Alle meine PostingsaktualisierenExpressNachrichten in aller KürzeCommunityAlles zur CommunityNewsletterNachrichten, die zu Ihnen kommen: Newsletter, Feeds und SMSMobilAlles zu unseren mobilen Angeboten: Apps, Mobilversion und SMSTV/RadioUnsere Radio- und TV-AngeboteZeitungDie Zeitung im Internet: Abo, E-Paper, Anzeigen und mehrÜber unsAlles über die Redaktion von derStandard.atSalesAlles über Onlinewerbung, Stellenanzeigen und ImmobilieninserateMageres Paszek-Comeback1. Mai 2012, 17:08Österreichs Nummer eins schafft in Estoril bei ihrem ersten Match seit Mitte März gerade einmal drei Games Estoril - Tamira Paszek ist ihr Comeback nicht wirklich gelungen. Die\n",
      "\n",
      "die 21-jährige Hercog. (APA/red, 1.5. 2012) derStandard.at/Sport auf FacebookSport Newsletter abonnierenTwitterFeedbackArtikel mailenArtikel druckenFrench OpenAuch Meusburger in letzter Quali-RundeDreisatz-Niederlage für Martin Fischer gegen Polen Przysietzny Paszek prolongiert Negativserie [22]Glatte Niederlage gegen Wildcard-Spielerin Razzano in StraßburgRomFurioser Nadal deklassiert Federer [160]Spanier setzt sich im Finale von Rom gegen Roger Federer mit 6:1, 6:3 durch und fährt als Favorit nach Paris. Serena Williams ebenfalls erfolgreichFederer gegen Nadal in Rom [79]Klassiker im Finale in der ewigen Stadt - Williams trifft auf AsarenkaDjokovic kommt weiter nicht in Schwung [97]Die Nummer eins der Welt scheitert im Viertelfinale von Rom am Tschechen Tomas Berdych und zeigt sich kurz vor den French Open weiter nicht in BestformMuster warnt vor heimischer Tennis-Steinzeit [59]Österreichs Tennis-Ikone agiert weiter als kritischer Geist und fordert \"Bekenntnis zum Sport\"Weltrangliste: Murray neue Nummer zwei [91]Peya in Doppel-Jahreswertung bereits Zweiter - Melzer 35., Paszek 29.SandNadal holt in Madrid fünften Titel des Jahres [54]Mit seinem 40. Sandplatz-Titel zog der Spanier mit Thomas Muster gleichNächste PleiteAuch in Rom für Melzer kein Langzeitaufenthalt [6]Nur drei Games im Masters für Deutsch-Wagramer gegen Südafrikaner Anderson MünchenHaas erfüllte sich \"kleinen Traum\" [16]Erster Triumph in München 13 Jahre nach seinem ersten Endspiel in der bayrischen HauptstadtFed-CupRussland und Italien im FinaleItalienerinnen entthronen Tschechien - Australien siegt im \"Montag-Fed Cup\" in der SchweizMonte CarloDjokovic holt Fürst Nadal vom Thron [84]Erste Turniersieg in Monaco für Serben - Nadals unglaubliche Serie gestopptLeitgeb-Kritik-KonterPaszek will nicht als Verräterin gelten [95]Späte Reaktion auf Leitgeb-Kritik - \"Für mich stets eine Ehre, im Fed Cup für Österreich anzutreten\"DaviscupÖTV-Team im Play-off auswärts gegen Niederlande [34]Im September steht für Melzer und Co. die Zugehörigkeit zur Weltgruppe auf dem SpielViertelfinaleFerrer stoppt Melzer in Miami [109]Der spanische Weltranglisten-Fünfte musste im Viertelfinale gegen Österreichs Nummer eins nur den ersten Satz abgebenÜberraschungHaas lässt Djokovic keine Chance [63]Klarer Zweisatzsieg im Achtelfinale für den DeutschenPrackJennifer Capriati in den Schlagzeilen [25]Ex-Tennisspielerin muss vor Gericht, sie soll am Valentinstag auf ihren Ex-Freund eingeschlagen habenVamosNadal krönt perfektes Comeback [82]Titelgewinn in Indian Wells mit Dreisatz-Sieg über Del Potro - Scharapowa ohne Satzverlust zum ersten Titel seit French Open 2012ErfolgMelzer holt sich Challenger-Titel in Dallas [39]Jürgen Melzer gewinnt das Finale gegen den US-Amerikaner Denis Kudla 6:4, 2:6, 6:1TennisHingis in \"Hall of Fame\" aufgenommen [67]Auch Ion Tiriac, Indian-Wells-Veranstalter Charlie Pasarell, der erste ATP-Chef Cliff Drysdale und die 94-jährige Australierin Thelma Coyne Long offiziell aufgenommenWortstarkMelzer-Coach Waske: \"Jürgen hat sich bewaffnet\" [63]Trainer von Österreichs Nummer eins lässt nichts unversucht, um den Niederösterreicher wieder in höhere Sphären zu führenÖTV-TeamPaszeks Fed-Cup-Absage sorgt für Ärger [89]Vorarlbergerin hatte Teilnahme 2012 fix zugesagt - ÖTV-Präsident Leitgeb: \"Das Schlimmste, die Teamkameradinnen so im Stich zu lassen\"Australian OpenDjokovic triumphiert erneut in Melbourne [209]Serbe feiert seinen dritten Sieg in Folge mit einem Tänzchen - Vier-Satz-Sieg über Olympiasieger Andy MurrayZagrebMelzer im Finale ohne Auftrag gegen Cilic [22]Nur vier Games in 66 Minuten für Melzer gegen die Nr. 12 der Welt - Großer Ärger über LinienrichterEmpfehlungenElf heiße Tennis-Aktien 2013 [32]Die Giganten werden auch heuer ihre Trophäenschränke füllen. Hinter ihnen tummeln sich aber einige Kandidaten, die 2013 für Furore sorgen könntenKommentar posten14 PostingsMulder3+-013.5.2012, 08:43antwortenpermalinkmeldenKummer mit ihr sind wir schon gewohntAlso so gesehen keine neue MeldungAlBundyFan12+-112.5.2012, 10:25antwortenpermalinkmeldenes ist echt schade für sieseit jahren schleppt sie soch doch von einer verletzungspause zu nächsten und spielt dazwischen 2-3 turniere. ich denke ohne verletzungen wäre sie weit besser klassiert in der weltrangliste.Hupf Auf0+-042.5.2012, 09:44antwortenpermalinkmeldenMageres Comeback ??Also mir wäre nicht aufgefallen dass sie abgenommen hätte.lemming08152+-002.5.2012, 13:13antwortenpermalinkmeldendachte bei der überschrift auch daran...Ich bin Brian0+-032.5.2012, 09:23antwortenpermalinkmeldenGefühlsmäßig ist bei ihrjedes Match ein ComebackI8NY0+-022.5.2012, 00:36antwortenpermalinkmeldenes ist immer wieder frustrierend von ihren mäßigen ergebnissen zu lesen. vor allem, weil die liebe dame mmn das zeug dazu hätte, konstant top 30 zu sein. aber sie entwickelt sich schön langsam zu einem \"one hit wonder\". es begann alles vor 3,4 jahren (?) so verheißungsvoll.O537+-262.5.2012, 02:50antwortenpermalinkmeldenDas ist aber auch nicht überraschend. Es gibt viele Spieler und Spielerinnen die mit 17, 18 sehr gut sind aber den echten Durchbruch nie schaffen. Andererseits: Nur 49 Spielerinnen sind weltweit besser als Paszek, insofern ist sie ohnehin selbst in ihrer derzeitigen Form ein echter Weltstar.I8NY0+-002.5.2012, 11:32antwortenpermalinkmeldengebe ihnen an sich recht. nicht falsch verstehen. ich wünsche ihr, dass sie die top 30 knackt!! habe gestern ein bissi gegoogelt: sie war mit 16,17 auf 35 und ich glaube letztes jahr auch wieder. die konstanz ist bei ihr das problem. wann hat sie jemals länger als 3,4 monate eine gute phase gehabt?? na ja- madame ist noch recht jung und wird uns hoffentlich alle überraschen. top 50 ist natürlich auch ein wsinn!! keine frage.niki1231+-182.5.2012, 08:02antwortenpermalinkmeldenda sieht man wieder wie gering die dichte bei den damen ist.O537+-702.5.2012, 13:48antwortenpermalinkmeldenDas ist bei den Herren aber auch net anders - siehe Melzer.O537+-302.5.2012, 17:12antwortenpermalinkmeldenAn jene die mir argumentationslos rote Stricherl gegeben haben: Melzer ist Top 40 und hat wie man im Davis Cup gesehen hat gegen Top-10- und Top-20-Spieler keine Chance. Also genau dasselbe Phänomen wie bei den Damen: die Dichte ist sehr gering. Aber in Österreich ist es in Damentennis runterzumachen, deshalb wohl die roten Stricherl von diversen ahnungslosen Machos ;-)))juri chebesta9+-022.5.2012, 21:14antwortenpermalinkmeldenmelzer hat in den letzten jahren sowohl federer, djokovic als auch nadal geschlagen, du schlaumeier.forever520+-1151.5.2012, 17:50antwortenpermalinkmeldeneinfach aufhören......den Körper nicht mehr schinden !!!Captain Smoker18+-052.5.2012, 11:07antwortenpermalinkmeldenVielleicht nicht aufhören, aber auf jeden Fall mal eine ausreichend lange Pause machen um wieder fit und in Form zu kommen.Die Kommentare von Usern und Userinnen geben nicht notwendigerweise die Meinung der Redaktion wieder. Die Redaktion behält sich vor, Kommentare, welche straf- oder zivilrechtliche Normen verletzen, den guten Sitten widersprechen oder sonst dem Ansehen des Mediums zuwiderlaufen (siehe ausführliche Forenregeln), zu entfernen. Der/Die Benutzer/in kann diesfalls keine Ansprüche stellen. Weiters behält sich die derStandard.at GmbH vor, Schadenersatzansprüche geltend zu machen und strafrechtlich relevante Tatbestände zur Anzeige zu bringen.© derStandard.at GmbH 2013Alle Rechte vorbehalten. Nutzung ausschließlich für den privaten Eigenbedarf.Eine Weiterverwendung und Reproduktion über den persönlichen Gebrauch hinaus ist nicht gestattet.Impressum & OffenlegungderStandard.atdieStandard.at\n",
      "\n",
      "derStandardDigital.atFINDEN.atPflaster-Ablösen ohne Schmerz - Mensch - derStandard.at › WissenschaftderStandard.at›Wissenschaft›MenschSeite1InternationalEuropaEuropäische UnionAmerikaNahostAsien-PazifikAfrikaInlandWirtschaftUnternehmenFinanzen & BörseATXIndizesAktienFondsWährungenRohstoffeZinsenWatchlist & PortfolioWebInnovationenIT-BusinessTelekomNetzpolitikGamesWebmixSportFußballMotorsportFormel 1WintersportSkiEishockeyMehr SportTennisSporttabellenPanoramaÖsterreich-ChronikWienWelt-ChronikGesellschaftTiereUmweltWetterEtatOnlinePrintTVORFRadioWerbung & PRWerbepreiseKulturFilmKinoprogrammMusikBühneBildende KunstLiteraturKulturpolitikWissenschaftMenschNaturRaumTechnikWeltZeitZoomGesundheitVorsorgeKrankheitTherapieLebenServiceBildungSchuleUniFachhochschuleLehreBerufseinstiegReisenReisen aktuellUrlaub in ÖsterreichEuropa ReisenFernreisenReiseblogsSchulferienLifestyleEssen & TrinkenMode & BeautyDesign & InterieurSpielen & LesenGrün & ZeugFamilieBabyKindJugendPartnerschaftGenerationenQuax.atMeinungBlogsdieStandard.atdaStandard.atZuZweitGebrauchtwagenAutoMobilImmobilienKarrieresuchenWetter Wienanmeldenabmelden PostingsMitposterInnen, die ich lese:Alle meine PostingsaktualisierenExpressNachrichten in aller KürzeCommunityAlles zur CommunityNewsletterNachrichten, die zu Ihnen kommen: Newsletter, Feeds und SMSMobilAlles zu unseren mobilen Angeboten: Apps, Mobilversion und SMSTV/RadioUnsere Radio- und TV-AngeboteZeitungDie Zeitung im Internet: Abo, E-Paper, Anzeigen und mehrÜber unsAlles über die Redaktion von derStandard.atSalesAlles über Onlinewerbung, Stellenanzeigen und ImmobilieninseratePflaster-Ablösen ohne Schmerz30. Oktober 2012, 09:51vergrößern 800x533foto: brigham and women's hospitalKein Geschrei mehr beim Entfernen: Das Wunderpflaster besteht aus drei Lagen mit speziellen Eigenschaften.Dreilagenkonstruktion: Forscher entwickeln ein medizinisches Klebeband, das sich ganz leicht mit dem Finger abrollen lässtWashington/Wien - Der Schmerz, der sich beim Ablösen eines herkömmlichen Pflasters einstellt, ist meist schlimm genug. Bei Patienten mit besonders empfindlicher Haut - kleinen Babys oder ganz alten Menschen - kann die Entfernung des Wundklebeverbands noch schlimmere Folgen haben: Allein in den USA kommt es dadurch zu 1,5 Millionen Hautverletzungen.\n",
      "\n",
      "Wenn man ein Pflaster von der Haut eines Erwachsenen entfernt, bleiben dabei meist Partikel des Pflasters kleben, während die zarte Haut eines Säuglings durch das Ablösen selbst Schaden nimmt. Das neue Wunderding vermeidet genau das durch eine Verlagerung der \"Schnittstelle\" beim Ablösen auf das Pflaster selbst. Das wird durch eine Dreilagenkonstruktion erzielt und eine sogenannte anisotrope Schnittstelle zwischen der Klebefläche und der Oberfläche. Als anisotrop bezeichnet man die Richtungsabhängigkeit einer Eigenschaft - also dass zum Beispiel Holz fester entlang der Fasern ist. Ähnlich ist es beim neuen Pflaster, das fest klebt; wenn aber erst einmal die Oberfläche abgezogen ist, lässt sich die Klebefläche ganz leicht mit dem Finger abrollen. (tasch, DER STANDARD, 30.10.2012) Aktuelles Wetter in den USAderStandard.at/Wissenschaft auf Facebook Newsletter abonnierenTwitterFeedbackArtikel mailenArtikel druckenForschung in den USAErstmals menschliche Stammzellen durch Klonen erschaffen [362]Umstrittene Verwendung von Embryonen könnte abgelöst werden Biotop MenschWir haben viele verschiedene Pilze am Fuß [1]Forscher haben die Verteilung von Pilzen auf der Hautoberfläche untersuchtKognitionsforschungBabys haben ein ähnliches Bewusstsein wie Erwachsene [39]Forscher stellen anhand von neuronalen Markern bei Säuglingen ab fünf Monaten bewusste, wenn auch verlangsamte, Wahrnehmung festSchutzImpfstoffkandidaten aus Membranvesikel von Bakterien [2]Grazer Forscher: OMVs besitzen die Antigene in der natürlichen AnordnungMolekularbiologieEiweiß-Molekül hat die Form einer Spinne [10]Deutsche Forscher entschlüsseln die sehr stabile Struktur Proteins C4BP aus der menschlichen Immunabwehr\"Ausdauer-Eiweiß\"Mit dem Protein PGC-1α werden Mäuse zu Marathonläufern [13]Eiweiß stellt Stoffwechsel im Muskel um und verhindert Ansammlung von Laktat NachhilfeHirnscan könnte auf Erfolg von Mathematik-Unterricht hindeuten [3]US-Forscher: Größe und Vernetzung des Hippocampus geben über Mathe-Lernfortschritt AuskunftProteinfabrikenErste 3D-Darstellung von menschlichen Ribosomen [5]Untersuchung mit Kryo-Elektronenmikroskop zeigt: höhere Lebewesen haben auch komplexer aufgebaute ProteinfabrikenAuszeichnungAus Wien stammende MIT-Forscherin erhält Jung-Preis [29]Molekularbiologin Angelika Amon befasst sich mit zellulären Ursachen der Krebsentstehung - 300.000-Euro-Auszeichnung gemeinsam mit Ivan Dikic erhaltenExperimentWie Individualität entsteht [7]Interaktion mit der Umgebung formt das GehirnOrientierungWie das Gehirn eine \"innere Landkarte\" erstellt [7]US-Wissenschafter verglichen die neuronale Aktivität im Hippocampus von Ratten, die sich in der realen und einer virtuellen Welt fortbewegtenNeue Therapie-WegeAntikörper aus Lamas im Kampf gegen Lymphdrüsenkrebs [1]Forscher stellen mithilfe gentechnischer Methoden sogenannte Nanobodies her HypothalamusZentrale Steuerung für Altersprozess im Gehirn gefunden [32]Forscher konnten Alterung bei Mäusen beeinflussen ComputersimulationWiener Forscher berechnen Funktionsweise von Ionenkanälen [9]Öffnungs- und Schließmechanismus genauer untersucht - Ionenkanäle sind wichtige Angriffspunkte zahlreicher MedikamenteAllergienDie Milbe in meinem Bett [132]Kinder und Jugendliche sammeln Staub für die Wissenschaft - Salzburger Molekularbiologen wollen damit die Hintergründe für die Entstehung von Allergien untersuchenAlterserscheinungVersagt die Selbstreinigung von Zellen, entsteht MuskelschwächeSchweizer Forscher klären Mechanismus: Ist der Proteinkomplex mTORC1 dauerhaft aktiv, kommt es zur Erkrankung des MuskelsImmunbiologieDas Ende der Selbstheilung [22]Wiener Wissenschafter klärten Mechanismus auf, wie bakterielle Infektionen nach vorhergehender Ansteckung mit Viren fatale Auswirkungen haben könnenGlatter SchmelzDurch Fluorid verlieren Karies-Bakterien den Halt auf den Zähnen [10]Fluoridhaltige Zahnpasta kann auch die Kraft beeinflussen, mit der sich Erreger an Zahnschmelz-Oberflächen anheftenPhänomenZwei Fäuste fürs Vokabellernen [33]Forscher stellen bei Experiment fest: Ballt man die Hand zur Faust, kann das die Gedächtnisleistung verbessern - Links und rechts unterschiedlicher EffektZivilisationskrankheitZahnverschleiß bietet Schutz gegen Ermüdungsbruch [17]Schmelzabsprengungen nehmen zu, sagen Zahnmediziner - Schuld daran ist unser kaum abgenutztes GebissKrebstherapieRadioaktive Trojaner im Kampf gegen Metastasen [21]Listerien gelten normalerweise als gefährliche Erreger - Die Bakterien können aber auch genutzt werden, um eine Art nukleare Sprengköpfe in Krebszellen einzuschleusenBei VerletzungenBislang verkannte Zellen werden zu Helfern im Gehirn [1]Neue Erkenntnis über neuronale Prozesse nach Verletzungen\"Hedonische Hyperphagie\"Warum wir bei Chips & Co einfach weiter essen [66]Forscher kommen Ursachen des Kartoffelchips-Effektes näher - Snacks regen im Gehirn Areale an, die für Belohnung und für Sucht zuständig sindGrazForschung zu seltenem Tumor privat unterstützt [2]Udo Saldow fördert die Erforschung der endometrialen Stromasarkome an der Med-Uni GrazMenschliches VerhaltenWarum wir uns Musik kaufen [62]Forscher identifizieren die entscheidende Hirnregion: Der Nucleus accumbens gehört zum Belohnungszentrum des GehirnsKommentar postenPosting 1 bis 25 von 38«‹›»1 2 meineMeinung19692+-1010.11.2012, 16:01antwortenpermalinkmeldenAlle ...... rosa Watte packen, damit ja nichts weh tun kann ... mMUlrike Reiter6+-0430.10.2012, 17:03antwortenpermalinkmeldenDie selbstklebende Binde – ein HochgenussFür alle, die auf Pflaster-evozierte Schmerzen stehen: Probiert es mal mit einer selbstklebenden elastischen Binden (wie sie bei Sehnenscheidenentzündungen verwendet werden). Die kann man nämlich nicht in einem Rutsch herunterreißen. Wenn es rasch geht, dauert die Prozedur drei Minuten. Das sind 180 unvergessliche Sekunden.ashera0+-0130.10.2012, 16:45antwortenpermalinkmeldenfauch fürs waxing?I can no more - I break equal together...22+-1230.10.2012, 16:28antwortenpermalinkmeldenFad.Mr. Bubbles15+-11530.10.2012, 14:25antwortenpermalinkmelden1st world problemsJoe - Mitarbeiter des Tages! (bis zur Jause)3+-21830.10.2012, 12:41antwortenpermalinkmeldengeh bitte, seid doch nicht solche mädchen ... vielleicht mal wieder kalt duschen? oder was.fauxish0+-10930.10.2012, 13:53antwortenpermalinkmeldengeh bitte, sei doch nicht so gender-stereotype... Maedchen (Frauen) haben eine viel hoehere Schmerzschwelle als Maenner. Kalt geduscht oder nicht.datenPunk4+-2230.10.2012, 20:24antwortenpermalinkmeldenunsere tägliche, sinnfreie genderdiskussion gebe uns heute ... ihre sorgen möchten wir haben.prusiner2+-21530.10.2012, 14:00antwortenpermalinkmeldenfalschFrauen haben eine niedrigere Schmerzschwelle als Männer und brauchen z.B. höhere Dosen Schmerzmittel, um Schmerzfreiheit zu erreichen das mit der höheren Schmerzschwelle bei Frauen (wg. Geburt und so ..) ist eine Legendefauxish0+-2130.10.2012, 14:12antwortenpermalinkmeldenhm, tatsaechlich, das ist eigentlich gar nicht wahr... Obwohl das Gegenteil auch nicht so ganz erwiesen ist, was ich so schnell erlesen konnte. Zumindest ist unklar ob die hoehere Schmerzschwelle bei Maennern nicht nur mit dem maennlichen Sozialbild zusammenhaengt. Gute Seite (ausser Wikipedia): http://www.rps.psu.edu/probing/p... shold.htmlreservenick238740+-0030.10.2012, 20:20antwortenpermalinkmeldenkann höchstens expertenmeinung sein, keine referenzen, nada...Krizzodil1+-11630.10.2012, 13:30antwortenpermalinkmeldenArtikel gelesen? Stichwörter; Säuglinge, alte Menschen, Hautverletzungen?BK W. Shoyssel3+-8730.10.2012, 12:22antwortenpermalinkmeldenalsoWarmduscher, Beckenrandschwimmer, Schattenparker, .... und demnächst auch: Dreilagenpflasterbenutzer. Nichts für Chuck Norris. btw: bei \"Drei-Lagen\" denke ich übrigens unwillkürlich an das \"wunderbar weich\" eines anderen Produktes. Ja, wir sind alle Opfer der Werbung.Got Your Nose!31+-0330.10.2012, 13:17antwortenpermalinkmeldenich hab shcon sehr scheußliche verletzungen durch pflasterabreissen gesehen. für einige macht das sehr viel sinn.Martin Rosenkranz13+-002.11.2012, 14:47antwortenpermalinkmeldenJaja....wenns einem mit dem Pfalster das Fleisch von den Knochen reisst.Gegen Lepra hilft halt kein Pflaster.....Got Your Nose!31+-012.11.2012, 18:19antwortenpermalinkmeldengehen sie in ein beliebiges pflegeheim und fragen sie, ob es dort bewohner gibt, denen schon beim pulloverausziehen die haut bis auf die muskeln abgeht. die chancen stehen gut, welche zu finden. in komination mit was gerinnungshemmendes übrigens besonders unangenehm, weil man dann z.t. handtellergroße wunden hat, die stundenlang bluten. sehen sies ein, sie haben noch nicht viel zeit in einem gesundheitsberuf verbracht. nein, bürojob im gesundheitsministerium zählt nicht.Steak vom Milchlamm20+-0030.10.2012, 11:39antwortenpermalinkmeldenDa wird sichMagnum aber freuen.Grusoleum0+-0230.10.2012, 10:56antwortenpermalinkmeldenleicht mit dem Finger abrollen...und wie krieg ich den finger wieder rauf ?astemp7913+-26030.10.2012, 10:52antwortenpermalinkmeldenDie meisten Pflaster bleiben schon lange nicht mehr pickenund die, die picken bleiben, tun es dann, wenn man sie 1. zu lange drauf lässt und 2. zu sehr Druck und Wärme (Füße) aussetzt. Und Schmerzen beim Ablösen verursachen Pflaster seit Ewigkeiten nicht mehr. Also wieder mal eine unnötige, aber dafür sicher teure Angelegenheit.Tomee3+-1330.10.2012, 15:01antwortenpermalinkmeldenwow! gottseidanksind sie der protoyp-mensch und was für sie gilt, gilt für uns alle. danke für ihr beitrag, jetzt sind wir alle erleuchtert! gott, sind wir alle wappler, danke lieber gott für astemp79!GrafBobby2+-0230.10.2012, 11:49antwortenpermalinkmeldenAlso mir tun sie manchmal auch weh, auch wenn meine Haut nicht beschädigt ist. Was oft hilft, aber nicht immer geht (wenn z.B. die Wunder nicht nass werden darf ...), ist das ganze mit Wasser abzulösen.Wienbär5+-11630.10.2012, 11:13antwortenpermalinkmeldenNur weil Sie das Problem beschädigter Haut beim Ablösen von Pflastern nicht haben, hat es kein anderer? Seltsame egoistische Denkweise.Michael B10+-13330.10.2012, 00:50antwortenpermalinkmeldenDie Pflaster bleiben an den HAAREN kleben,nicht auf der Haut!T. Lurker0+-0130.10.2012, 11:52antwortenpermalinkmeldenFull Ack !Ich kann nur zustimmen - nach einem Eingriff im Bauchraum war der Verbandswechsel alle zwei Tage ein voller \"Genuss\", Epilation inbegriffen ... ! T.L.Got Your Nose!31+-0030.10.2012, 09:46antwortenpermalinkmeldenDa hab ich anderes verbinden dürfenKommentar postenPosting 1 bis 25 von 38«‹›»1 2 Die Kommentare von Usern und Userinnen geben nicht notwendigerweise die Meinung der Redaktion wieder. Die Redaktion behält sich vor, Kommentare, welche straf- oder zivilrechtliche Normen verletzen, den guten Sitten widersprechen oder sonst dem Ansehen des Mediums zuwiderlaufen (siehe ausführliche Forenregeln), zu entfernen. Der/Die Benutzer/in kann diesfalls keine Ansprüche stellen. Weiters behält sich die derStandard.at GmbH vor, Schadenersatzansprüche geltend zu machen und strafrechtlich relevante Tatbestände zur Anzeige zu bringen.© derStandard.at GmbH 2013Alle Rechte vorbehalten. Nutzung ausschließlich für den privaten Eigenbedarf.Eine Weiterverwendung und Reproduktion über den persönlichen Gebrauch hinaus ist nicht gestattet.Impressum & OffenlegungderStandard.atdieStandard.at\n",
      "\n",
      "derStandardDigital.atFINDEN.atVeränderte Kinderbücher: Gurkenkönige und anderes Lesefutterzeugs - Literatur - derStandard.at › KulturderStandard.at›Kultur›LiteraturSeite1InternationalEuropaEuropäische UnionAmerikaNahostAsien-PazifikAfrikaInlandWirtschaftUnternehmenFinanzen & BörseATXIndizesAktienFondsWährungenRohstoffeZinsenWatchlist & PortfolioWebInnovationenIT-BusinessTelekomNetzpolitikGamesWebmixSportFußballMotorsportFormel 1WintersportSkiEishockeyMehr SportTennisSporttabellenPanoramaÖsterreich-ChronikWienWelt-ChronikGesellschaftTiereUmweltWetterEtatOnlinePrintTVORFRadioWerbung & PRWerbepreiseKulturFilmKinoprogrammMusikBühneBildende KunstLiteraturKulturpolitikWissenschaftMenschNaturRaumTechnikWeltZeitZoomGesundheitVorsorgeKrankheitTherapieLebenServiceBildungSchuleUniFachhochschuleLehreBerufseinstiegReisenReisen aktuellUrlaub in ÖsterreichEuropa ReisenFernreisenReiseblogsSchulferienLifestyleEssen & TrinkenMode & BeautyDesign & InterieurSpielen & LesenGrün & ZeugFamilieBabyKindJugendPartnerschaftGenerationenQuax.atMeinungBlogsdieStandard.atdaStandard.atZuZweitGebrauchtwagenAutoMobilImmobilienKarrieresuchenWetter Wienanmeldenabmelden PostingsMitposterInnen, die ich lese:Alle meine PostingsaktualisierenExpressNachrichten in aller KürzeCommunityAlles zur CommunityNewsletterNachrichten, die zu Ihnen kommen: Newsletter, Feeds und SMSMobilAlles zu unseren mobilen Angeboten: Apps, Mobilversion und SMSTV/RadioUnsere Radio- und TV-AngeboteZeitungDie Zeitung im Internet: Abo, E-Paper, Anzeigen und mehrÜber unsAlles über die Redaktion von derStandard.atSalesAlles über Onlinewerbung, Stellenanzeigen und ImmobilieninserateVeränderte Kinderbücher: Gurkenkönige und anderes LesefutterzeugsRonald Pohl, 28. Jänner 2013, 18:17foto:apa/leonhardtChristine Nöstlinger plädiert für Gelassenheit. Christine Nöstlinger und die \"Correctness\"-Frage Wien - In der Debatte um den politisch korrekten Wortlaut kinderliterarischer Texte hat sich Christine Nöstlinger (76) zu Wort gemeldet. Die Wiener Kinderbuchautorin nannte das Umschreiben von Kinderbuchklassikern im Berliner \"Tagesspiegel\" einen \"Unfug\". In Erwachsenenliteratur würde man, so Nöstlinger, \"nie so reinpfuschen. Das zeigt, dass Kinderliteratur für viele nicht mehr ist als eine Pädagogikpille, eingewickelt in Geschichterlpapier.\"\n",
      "\n",
      "Bereits in der Hamburger \"Zeit\" hatte die hochdekorierte Autorin von rund 100 Jugendbüchern Bedenken in Sachen Textbereinigung erkennen lassen. Nöstlinger geht es augenscheinlich um die Autonomie der kindlichen Urteilsbildung. Kinderbuchautoren seien \"ja nun daran gewöhnt, dass ihre Texte nicht nur von den jungen Lesern, für die sie geschrieben wurden, beurteilt werden, sondern auch von jeder Menge erwachsener Leute, die zu wissen meinen, welche Lektüre 'kindgerecht' sei\".\n",
      "\n",
      "\"Kumi-Ori\" soll aber auch \"Jerusalem\" bedeuten. In Germanist Quinkensteins Lesart nimmt sich der gurkenkönigliche Buchtitel (\"Wir pfeifen auf Jerusalem\") wie die Überschrift eines antisemitischen Machwerks aus. Nöstlinger, die in ihrem Werk wiederholt unmissverständlich gegen die Nazis Stellung bezogen hat: \"Das ist so was von lächerlich.\"\n",
      "\n",
      "Nöstlinger: \"Mit Kindern kann man sehr vernünftig reden.\" Mitunter reiche \"ein Sternchen beim 'Neger' und dazu der Hinweis, dass dieser Ausdruck vor 30 Jahren nicht als diskriminierend galt\". Schwerer dürfte da schon die Entsorgung ganzer Völkerschaften von Menschenfressern und \"Wilden\" fallen, die dem kolonialen Elitebewusstsein der Europäer im 19. Jahrhundert entsprungen sind. (Ronald Pohl, DER STANDARD, 29.1.2013) Aktuelles Wetter in PolenderStandard.at/Kultur auf FacebookKultur Newsletter abonnierenTwitterFeedbackArtikel mailenArtikel druckenLiteraturfestivalAlles über Begley in Heidenreichstein Der New Yorker Bestsellerautor kommt zum Festival \"Literatur im Nebel\" im Waldviertel Literatur-PreiseInternational Man Booker Prize an Lydia DavisUS-Kurzgeschichten-Autorin für ihr Gesamtwerk gewürdigtVerteilung im SeptemberT. C. Boyles \"América\" wird Wiener Gratisbuch 2013 [9]Zwölfte Ausgabe der Aktion \"Eine Stadt. Ein Buch\"Staatspreis für \"Schönstes Buch Österreichs\" an Salzburger DruckereiDruckerei Samson für Fotoband \"Das Bild der Anderen\" von Vera Brandner ausgezeichnet - Mit 3.000 Euro dotiert 1935-2013Deutsche Schriftstellerin Sarah Kirsch gestorben [1]Die vielfach ausgezeichnete Lyrikerin wurde nach ihrer Ausbürgerung aus der DDR 1977 in Schleswig-Holstein heimischBuchbrancheVerlegerin Elisabeth Ruge verlässt Hanser BerlinNachfolger Karsten Kredel wechselt von wird SuhrkampAnsichtssacheHarry-Potter-Erstausgabe für 176.000 Euro versteigert [66]Buch mit Anmerkungen der Autorin erzielt Rekord bei Sotheby's-Auktion in London37. Bachmann-PreisNur zwei Österreicherinnen bei Bachmann-Wettlesen [3]Cordula Simon und Nadine Kegele unter den 14 nominierten AutorenBuchneuerscheinungVon der Wahrhaftigkeit des DaseinsUnter dem Titel \"Ich fiel in eine Welt\" gesammelte Gespräche von Thomas Trenkler mit Kulturschaffenden über die Kunst und das LebenBuchneuerscheinungKonzentration auf die Hölle [14] Kommende Woche erscheint Dan Browns neuer Roman FundstückUnspezifisches im Besonderen des AlltäglichenIn \"Schöne Schilder\" dokumentiert Thomas Rottenberg seine Blütenlese kollektiver sowie subjektiver MissverständnisseBuchneuerscheinungHochadliger Kommunismus [1]Die farbigen, kuriosen, sprachlich glanzvollen Lebenserinnerungen der Jessica MitfordLiteraturfest SalzburgLeben und überleben mit LiteraturDas sechste Literaturfest Salzburg mit Lesungen von Ruth Klüger, Eckhard Henscheid und Eva MenasseBuchneuerscheinungGeometrie eines SommersGefangen im Netz: In Deborah Levys Roman \"Heim schwimmen\" schleicht sich ein blinder Passagier in eine BeziehungLiteraturDaniel Glattauer: Das Beste aus 15 Jahren beim Standard [8]Der Autor bringt im Stadtsaal \"einen richtigen Mix aus 15 Jahren dag im Standard\" zu GehörPEN-DeutschlandJosef Haslinger zum neuen Präsidenten gewählt [7]Tagung des deutschen PEN-Zentrums bis SonntagNeues zu Thomas BernhardEndlich ist das Gesäusel weg [7]Mit zwei erstmals greifbaren Fragmenten zu Thomas Bernhards \"Frost\" wird ein geheimnisvoller Bruch im Schreiben des Autors sichtbar1927-2013Viviane Forrester 87-jährig gestorbenFranzösische Schriftstellerin, Gründungsmitglied von Attac1947 - 2013Schweizer Schriftsteller Jürg Amann 65-jährig gestorben [1]Gewann 1982 den Bachmann-Preis - Zahlreiche Bücher im Innsbrucker Haymon Verlag erschienenDigitalisierungNationalbibliothek stellt 100.000 Bücher ins Netz [7]Erste Tranche des Google-Digitalisierungsprojekts ist onlineWienEhrentafel an ehemaligem Wohnhaus von Josef Winkler enthüllt [9]Autor wohnte Anfang der 90er Jahre in Hietzing und nimmt das ungewöhnliche Geschenk gerne anBuchneuerscheinungZangenangriff auf die DiktaturWilliam T. Vollmann und sein fiktives Geschichtspanorama \"Europe Central\"Literaturhaus GrazDas Erbe der heimlichen LiteraturhauptstadtDas Literaturhaus Graz verdankt seine Existenz der Kulturhauptstadt 2003. Zum Zehn-Jahr-Jubiläum gelangten zehn Szenen zur UraufführungBuchneuerscheinungWorte, Bilder, gedankliche FlaschenpostMachtlose Erwartung und vereinsamte Trostlosigkeit: Armin Baumgartners Prosaband \"Die Wucht des Banalen\"Rede zur GegenwartThomas Glavinic: \"Von der Bollidigg brauch i nix\" [71]Die Merkel, der Putin, der Stronach, die EU: Was von den Mächtigen zu halten ist. Monolog eines Polit-Kenners vor der \"Zeit im Bild\"Kommentar postenPosting 326 bis 375 von 590«‹›»1 2 3 4 5 6 7 8 9 10 11 12 13 mad_scientist9+-2029.1.2013, 13:28antwortenpermalinkmelden\"Negro\" wurde im 16. Jahrhundert von portugiesischen Sklavenhändlern als Bezeichnung für Ware (in etwa wie \"Schwarze Ware\") bzw. als Bezeichnung für Vülker, aus denen diese Menschen verschleppt wurden, eingeführt. Schlauer?anders and32+-0129.1.2013, 14:19antwortenpermalinkmeldenVielleicht haben Sie sogar recht!Nur: wie wurden die dunkelhäutigen Menschen aus Afrika genannt, die auf spanischen Schiffen als Fachkräfte arbeiteten und sich durch besondere Leistungen die Freiheit erwarben? Oder Abraham Petrowitsch Hannibal? Die frühe Neuzeit ist nicht so linear und eindeutig, wie Sie das schildern. Erst mit der Aufklärung erfolgte die Einteilung in bessere und schlechtere Rassen, in denen die Menschen unentrinnbar gefangen werden. Wenn man gegen Neger ist, dann weil es ein Begriff der Aufklärung ist, der damals seine eindeutige Wertung erhielt. Nur wird sich kaum jemand finden, der etwas gegen die Aufklärer sagen möchte.mad_scientist9+-0029.1.2013, 15:59antwortenpermalinkmeldenDie frühe Neuzeit ist nicht so linear und eindeutig, wie Sie das schildern.Klar, die Anzahl an Zeichen ist ja auch beschränkt.. ;-) Danke für die diese Ergänzung!Der Unkurze7+-2229.1.2013, 14:13antwortenpermalinkmeldenNun, dummerweise sprachen die Portugiesen des 16.Jhd. kein Deutsch sondern... Portugisisch Wodurch ihre Aussage für diese Diskussion Gegenstandslos ist.mad_scientist9+-1029.1.2013, 15:58antwortenpermalinkmeldenAch wirklich? Portugiesen sprechen Portugiesisch? Und Rot ist...Rot? Relevanz dieser Aussage?Der Unkurze7+-1129.1.2013, 16:33antwortenpermalinkmeldendas die portugische sprache nicht die deutsche ist, worte somit anders verwendet werden und die argumentation damit ein kompletter fehlschlag ist, was ich dir voraugen führen wollte.naderlump28+-1129.1.2013, 14:39antwortenpermalinkmeldenwow, ist das ein schlechtes posting... gratuliere, sie koennten den tagesrekord brechenDer Unkurze7+-2029.1.2013, 15:27antwortenpermalinkmeldenbin ich wirklich so knapp an ihnen dran? das ist hart.. btw haben sie eigentlich bisher irgendwo ein argument gebracht?elef10+-11129.1.2013, 12:09antwortenpermalinkmeldenMan erinnere sich an die „10 kleinen Negerlein“. Ich habe dieses Buch geliebt und auch der Ausdruck dafür war liebevoll.Lectrice84+-0129.1.2013, 12:46antwortenpermalinkmeldenJa - ich kann mich auch erinnern, dass ich ganz stolz war mit den Zahlen umgehen zu können, auch der seitliche \"Raster\" um die jeweilige Zahl zu finden hat mich fasziniert und habe weder wertend noch sonst irgendwie gedacht. Was da heute reininterpretiert wird ist sagenhaft.Resident Evil2+-7429.1.2013, 11:51antwortenpermalinkmeldenund \"Schwarzer\", \"Afrikaner\" nicht?herbert10010+-5029.1.2013, 11:37antwortenpermalinkmeldenfamilie rockt auch ohne `neger´-musikauf familierockt ist gester zum thema eine glosse erschienen, die ich gut finde. Konklusio: Viele von uns wollen nicht dass aus nöstlingers Büchern das Wort gestrichen wird, weil dann quasi schwarz auf weiß steht, dass unsere Übermutter einen Fehler gemacht hat. Dabei ist doch allen klar, dass sie es damals nicht rassistisch gemeint hat, aber das Wort ist eben mittlerweile total rassistisch konnotiert - also wenn sie nicht falsch verstanden werden will, sollte sie es einfach löschen und weitergehen. http://www.familierockt.com/blog/maga... gen/neger/ridentem dicere verum17+-0129.1.2013, 12:49antwortenpermalinkmeldenrichtig argumentiert,dann aber den falscen schluß gezogen gerade weil da nix rassistisch intendiert war, braucht auch nix rückwirkend geändert zu werden weils eben heute rassistisch konnotiert wird, wird auch fr. n in ihren neuen büchern andere begriffe verwenden (bis die dann auch wieder ... usw.)Resident Evil2+-12129.1.2013, 11:34antwortenpermalinkmeldenEs gibt leider viele Kleingeister, die intolerant und unreflektiert sofort andere anprangern, wenn sie sich nicht ihrem kleinen ach-so-sauberen Weltbild unterordnen. Diese Antisemitismus / Rassismus\"debatte\" ist absolut laecherlich. Jene Leute, sie sofort mit diesen Ausdruecken herumschmeissen und ueberall einen \"Skandal\" wittern, wo keiner ist, wissen garnicht, was fuer einen Baerendienst sie erweisen. Denn so werden diese Ausdruecke \"antisemitisch / rassistisch\" abgenutzt, entwertet, und laecherlich gemacht. Ich pflichte Noestlinger bei: warum nicht einfach eine Fussnote mit erklaerendem Text bei veralteten Ausdruecken hinzufuegen?Ben Hemmens4+-6429.1.2013, 12:01antwortenpermalinkmeldenNöstlinger, wie andere schon angemerkt haben,ist offenbar einem Irrtum unterlegen. Sie scheint, davon auszugehen, dass Ottfried Preußlers Werke ohne seine Zustimmung geändert wurden. Das ist aber unrichtig. Wenn der Autor der Änderung zustimmt, wozu braucht man noch eine Fußnote?Florian Zellmayer10+-2929.1.2013, 11:47antwortenpermalinkmeldenSie haben ganz Recht. Umso weiter man Begriffe wie \"Rassismus\" oder \"Diskriminierung\" ausdehnt, desto mehr verwässert und verallgemeinert sich ihre Bedeutung. Sie verlieren immer mehr ihre Kernbedeutung und verkommen dadurch zu einer mehr oder weniger inhaltslosen Phrase. \"Invalidenstrasse\" diskriminiert Behinderte. Der Legobausatz \"Jabbas Palast\" diskriminiert Muslime. Sprachfördernde Vorschulklassen diskriminieren Migrantenkinder mit defiztären Deutschkenntnissen. \"Hexe\" diskriminiert selbstbewusste Frauen. Die Liste liesse sich beliebig erweitern.der Rufer in der Wüste1+-1429.1.2013, 11:58antwortenpermalinkmeldenWildschütz diskriminiert Goiserer.Florian Zellmayer10+-2929.1.2013, 11:26antwortenpermalinkmeldenZu der ganzen Kinderbuchthematik gibt es einiges zu sagen:Erstens muss der Kontakt eines Kindes mit Worten wie \"Neger\" nicht zwingend dazu führen, dass das Kind sie später selbst verwendet. Ich z.B. habe in meiner Kindheit viele von meinen Eltern und Grosseltern vererbte ältere Kinderbücher gelesen und verwende solche Ausdrücke heute eigentlich nicht. Zweitens haben besorgte Eltern ja immer die Möglichkeit, die Kinder beim Lesen zu begleiten und im Zweifelsfall Erklärungen anbieten. Drittens wird sich gerade in bildungsfernen Schichten, wo Kinder, wenn überhaupt, alleine lesen und nicht vorgelesen wird, der Kontakt mit derartigen Ausdrücke ohnehin nicht vermeiden lassen, da sie dort oft zum allgemeinen Sprachgebauch gehören.Schlevian2+-03529.1.2013, 10:51antwortenpermalinkmelden\"\"Kumi-Ori\" soll aber auch \"Jerusalem\" bedeuten\"oh mein gott!!!! was bedeutet dann erst \"dschi dschej wischer\"?Udjat0+-0029.1.2013, 12:29antwortenpermalinkmeldenDschi-Dschey steht für Popschi...?Resident Evil2+-01029.1.2013, 11:36antwortenpermalinkmeldenTel Aviv! Wussten Sie das nicht?acca acca1+-0429.1.2013, 11:26antwortenpermalinkmeldenJetzt hab ich mir grad wieder den Wischer gegeben müssen. Schön. http://www.youtube.com/watch?v=Ac4NZ0KbZQwnorma443+-0030.1.2013, 08:53antwortenpermalinkmelden\"wischer \" ist dochDer unbestechliche Akupunkteur1+-22429.1.2013, 10:47antwortenpermalinkmeldenDanke, Frau Nöstlinger!Das Problem ist nämlich nicht, dass \"politisch unkorrekte\" (allein diese Wortschöpfung bereitet mir schon Brechdurchfall) Bezeichnungen in Kinderbüchern stehen, sondern dass sich Eltern nicht mit ihren Kindern hinsetzen und über diese Bücher und deren Inhalte sprechen. Erst die kritische Auseinandersetzung macht Kinder zu denkenden Menschen, Bücher ALLEINE sicher nicht!john player2+-12629.1.2013, 10:14antwortenpermalinkmelden10 kleine stark pigmentierte Kinderleinund alle sind zufrieden!Ben Hemmens4+-7129.1.2013, 12:07antwortenpermalinkmeldenNein, man kann das Lied einfach sein lassen.Es ist durch und durch rassistisch. Wer braucht das noch? Ähnliche Zähl-Lieder gibt's, vermute ich, überall. Bei uns zuhause waren es Ten Green Bottles. Oder Ten Men Went to Mow (wovon es in Schottland noch diese Abwandlung gibt: http://www.songmeanings.net/songs/vie... 858536676/ )Der unbestechliche Akupunkteur1+-0030.1.2013, 11:57antwortenpermalinkmeldenTen Green Bottles?Ich soll mein Kind also zum Alkoholiker erziehen? Dann doch lieber zu jemandem, der gern auch mit Schokokindern spielt...Jonathan Moebius0+-0029.1.2013, 18:35antwortenpermalinkmeldenam besten die Version der zehn kleinen Jägermeister von den Toten Hosen :-)Lectrice84+-1429.1.2013, 13:00antwortenpermalinkmeldenWie der Schelm denkt, so ist er offenbar. Ich habe das Buch geliebt und in mir hat es den Wunsch geweckt, mal mit diesen Kindern zu spielen, aber keine rassistischen. Ich fühlte mich denen näher als so manchem Bauernkind für das schon das übenächste Dorf die fremde weite Welt war. Warum wohl, weil ich offene, geistvolle Eltern hatte. Gerade hier kann man bei einem der ärgsten Verfechter schön nachlesen, wie er ja sooooo politisch korrekt ist und unrasistisch, aber alle anderen gleich ins Rechte Eck stellt.e6d419e0-182b-4fda-8c14-e9212797ba300+-0129.1.2013, 12:47antwortenpermalinkmeldenman könnte sehr vieles sein lassen was irgendwann einmaldiskriminierend verwendet oder von jemandem so empfunden wurde. aber würde das auch nur ein einziges der darunter liegenden probleme lösen? und im deutschen sprachraum hätten wir mit dieser strategie ein größeres problem, weil unsere gesamte sprache von den nazis vergewaltigt wurde... wäre es nicht besser solchen begriffen wie \"neger\" einen anderen spin zu geben, anstatt in einer holpertatschigen betroffenheitspose zu verharren und sich vor einem wort, das per se ja weder gut noch böse ist, zu fürchten? so nach dem motto \"ich bin neger und ich bin stolz drauf\"?Ben Hemmens4+-0029.1.2013, 14:35antwortenpermalinkmelden\"wäre es nicht besser ...\"naja, das sollen vielleicht die derart angesprochenen leute tun. sie und ich haben darüber nicht zu befinden.Candide0+-0029.1.2013, 20:19antwortenpermalinkmeldensie und ich haben darüber nicht zu befindenStimmt, aber das ist ja eben auch schon ein Kernproblem dieser Debatte. Denn Witze über Juden dürfen nur Juden machen. Ist man keiner, dann ist man sehr schnell ein Antisemit. Nennt Nöstlinger einen Tyrannen nach einem alttestamentarischen Tyrannen, dann wird ihr Antisemitismus vorgeworfen. Schriebe ein Jude ein Kinderbuch mit Kum-Ori als Tyrannen, würden wieder ein paar Rechte den neu aufkeimenden Zionismus beschwören. Also wenn Rapper sich gegenseitig als Nigger bezeichnen ist das ok, aber der Lingrensche Negerkönig soll die Denkbahnen unserer Kinder in Richtung Rassimus lenken? Ich glaube so eine Fußnote wäre in manchen Kinderbüchern durchaus sinnvoll, am wichtigsten bleiben die Eltern, die mit den Kindern die Bücher lesen und besprechenaderlump28+-34329.1.2013, 10:57antwortenpermalinkmeldenihre schmaeh...... müffeln nach nassgeregneten loden mit einem hauch von bierduft und kaltem aschenbecher aromaDer unbestechliche Akupunkteur1+-3829.1.2013, 12:00antwortenpermalinkmeldenWo ist Ihr Problem?als Kind nicht genug liebgehabt worden?dandelion0+-0329.1.2013, 10:46antwortenpermalinkmeldenbei Amazon gibts beideshttp://www.amazon.de/10-kleine... im_sbs_b_1 ..fragt sich nur wie langc92932a9-05aa-4e06-9c5a-ed28a6ab2d580+-0129.1.2013, 11:44antwortenpermalinkmeldenDanke für den Tip!Hab grad bestellt und zur Sicherheit auch noch die Klassiker von Grimm und Andersen... Meine Tochter ist jetzt 17 Monate und ich will ihr das nicht vorenthalten.Mirstetta Toni16+-1429.1.2013, 10:29antwortenpermalinkmeldenhttp://www.weltbild.at/3/1558848... rlein.htmlPoldi Fesch76+-01129.1.2013, 10:41antwortenpermalinkmeldenwelch Glueck,dasz wir noch ausreichend viele Originale haben, die vererbbar sindPAPA SMURF0+-01829.1.2013, 10:41antwortenpermalinkmelden\"Mama!! warum sind die \" kinderlein\" denn alle schwarz?\" ich vermute in dem politisch korrigierten buch, sterben die \"10 kleinen kinderlein\" auch nicht, sondern kommen nur gewaltlos abhandenLectrice84+-0229.1.2013, 14:02antwortenpermalinkmeldenund finden sich zum Schluss wieder.PAPA SMURF0+-0029.1.2013, 20:09antwortenpermalinkmeldenich habe noch aus dem nachlass meinr großmutter ein bilderbuch aus anfang des 20.Jh, das heisst \"12 keine negerlein\" die werden alles so nach und nach von krokodilen und nilpferden gegessen,oder bleiben im sumpf stecken, und zum schluss bleibt nur eines übrig, und weint bittere schwarze \"negertränen\" aber als es in den himmel kommt, treffen sie sich wieder uns sind alle zu \"negerengeln\" mit weissen flügerl gewordenLectrice84+-0129.1.2013, 21:42antwortenpermalinkmeldenDa es ein Zahlenreim ist dürfte es so ähnlich wie bei den Märchen sein - es wurde in verschiedenen Versionen weitergegeben. Ist interessant und sagt immer etwas über die Zeit aus.naderlump28+-26229.1.2013, 10:47antwortenpermalinkmeldensind die fruehschoppenschmaeh bei euch nicht normalerweise erst am sonntag, nach der kirche und dem 3. bier drann?ridentem dicere verum17+-0529.1.2013, 12:53antwortenpermalinkmeldenwenn sie das traditionell so handhaben,dann hats aber einiges an reparaturbier gebraucht, um sich den fetzen bis heute zu erhaltennaderlump28+-0029.1.2013, 13:49antwortenpermalinkmeldensie waren eh nicht angesprochen...... so freiheitliche vom ganz alten schlag sind noch stramm antiklerikalSusanne. Das genügt.1+-01129.1.2013, 09:59antwortenpermalinkmeldenwenn's doch rundherum auch so \"korrekt\" zuginge...Solange (ja, auch!) Kinder z.B. hetzerische, abwertende F-Plakate sehen, aber zu wenig Leute, die das stört, braucht niemand wegen ein paar unkorrekten Worten Aufregung zu konstruieren. Was wird damit gezeigt - dass sonst eh alles in Ordnung ist?!?naderlump28+-16129.1.2013, 10:13antwortenpermalinkmeldendas ist jetzt so eine art...\"wie kann man nur daran denken altersheime zu bauen, solange es zuwenige kinderkrankenhaeuser gibt\" argumentBustardo1+-04029.1.2013, 09:57antwortenpermalinkmeldenAls Kind las meine Mutter mir regelmäßig aus Mecki Büchern vor, welche noch aus ihrer Kindheit stammten. Der drollige Igel besuchte Eskimos, böse Chinesen und Negerlein. Doch damit nicht genug, er raucht regelmäßig und in den Büchern betrinken sich Charaktere auch. Besonders in Erinnerung blieb mir der Opiumrausch bei den Chinesen, in kreativer Form illustriert. http://farm6.staticflickr.com/5284/5363... e212_z.jpg Alle Newspeak-Verfechter seien darauf hingewiesen, dass aus mir ein Erwachsener Mensch wurde, der kein rassistisches Gedankengut gutheißt und auch nicht drogenabhängig ist. Wie kann das sein, wo doch Sprache angeblich Wahrheit schafft?WeissBart0+-0029.1.2013, 12:39antwortenpermalinkmeldenund dazu gab es auch noch die rauchende Mecki-Puppe ;-)naderlump28+-21029.1.2013, 10:10antwortenpermalinkmeldenhmmmpff...*raeusper*Kommentar postenPosting 326 bis 375 von 590«‹›»1 2 3 4 5 6 7 8 9 10 11 12 13 Die Kommentare von Usern und Userinnen geben nicht notwendigerweise die Meinung der Redaktion wieder. Die Redaktion behält sich vor, Kommentare, welche straf- oder zivilrechtliche Normen verletzen, den guten Sitten widersprechen oder sonst dem Ansehen des Mediums zuwiderlaufen (siehe ausführliche Forenregeln), zu entfernen. Der/Die Benutzer/in kann diesfalls keine Ansprüche stellen. Weiters behält sich die derStandard.at GmbH vor, Schadenersatzansprüche geltend zu machen und strafrechtlich relevante Tatbestände zur Anzeige zu bringen.© derStandard.at GmbH 2013Alle Rechte vorbehalten. Nutzung ausschließlich für den privaten Eigenbedarf.Eine Weiterverwendung und Reproduktion über den persönlichen Gebrauch hinaus ist nicht gestattet.Impressum & OffenlegungderStandard.atdieStandard.at\n",
      "\n",
      "Jetzt schon an den Sommer denken und mit regelmäßigem Sport beginnen – Flexibel an einem Ort nach Wahl trainieren – Erspart den Gang ins stickige und überfüllte Fitness-Studio – Mit nur einem Gerät die verschiedenen Muskelgruppen stimulieren Noch bleibt ja etwas Zeit bis zum Somme...\n",
      "\n",
      "Jetzt schon an den Sommer denken und mit regelmäßigem Sport beginnen – Flexibel an einem Ort nach Wahl trainieren – Erspart den Gang ins stickige und überfüllte Fitness-Studio – Mit nur einem Gerät die verschiedenen Muskelgruppen stimulieren Noch bleibt ja etwas Zeit bis zum Sommer – und damit auch die Möglichkeit, noch etwas an der eigenen Traumfigur zu arbeiten, auf dass der Bikini am Ende wieder ordentlich passt. Damit die kostbare Zeit dafür nicht im Fitness-Studio verbracht werden muss, gibt’s mit dem heutigen Deal das innovative Trainingsgerät für zu Hause: Power Maxx, bekannt aus der TV-Werbung, ermöglicht es, verschiedene Muskelpartien ohne sperrige Hantelbank und teuren Stepper zu stimulieren. Ob auf der Terrasse oder vor dem Fernseher, mit dem handlichen Gerät kann man überall und jeder Zeit sehr flexibel sporteln und somit auf den Sommer hinarbeiten. Der Weg in Richtung Traumfigur führt über den Online-Shop isimax, wo mit diesem Coupon ein formschöner Rabatt von 75% wartet. (juwi)\n",
      "\n",
      "Coupons von Groupon | Shopping | Sport | Sportartikel | Shopping Shopping | Sportartikel ShoppingWeitere Gutscheine aus dieser Kategorie1. 19,50 statt 39,00 € - Ausgewogener Top-Brunch inkl. reichhaltigem Angebot an biologischen Produkten plus 1 Heißgetränk, Sekt und Orangensaft im Hill Mumok2. 45 statt 96 € - Dinieren wie ein Kaiser: 4-Gänge-Menü mit Wiener Spezialitäten und internationaler Küche inkl. Rinderfilet, Jakobsmuscheln und mehr im Restaurant Himmelpforte im 1. Bezirk3. Muttertags-Special: 9 statt 18 € - 1 Jahr WIENERIN oder MISS - Auch im Doppelpack möglich!4. 99 statt 215 € - Kärnten/Lavanttal: Extravagantes Wochenende für Zwei im exklusiven 4-Sterne-Design-Hotel Lichtenegger Reart inklusive Frühstück, Prosecco, orientalischem Wellnessbereich und hauseigenem Kino5. 27,50 statt 55,60 € - Ohne Terminstress: Yoga, Tanzen, Wing Chun und Golf einfach von Zuhause lernen mit dem DVD-Paket von Yalster OnlineWeitere Gutscheine aus dieser Stadt1. 249 statt 699 € - Luxus-Komfort-7-Zonen-Kaltschaum-Matratze mit Aloe-Vera-Gesundheitsbezug inkl. 10 Jahren Garantie und Versand bei perfekt-schlafen.de2. 19,99 statt 99,90 € - Ausdrucksstarker Blick mit revolutionärem Wimpernwachstums- Serum Eyelash Conditioner Boturine-Lashes3. 44,95 statt 69,99 € - Bratmaxx-Keramik-Pfannen-Set in Grün mit 2-facher Versiegelung für vitaminschonendes Braten inklusive Spritzschutzdeckel4. 10 statt 20 € - Wertgutschein für fruchtige Erfrischungen mit 100% natürlichen Bio- Saftkonzentraten in vielen leckeren Sorten von MyDrink5. 16,99 statt 49,90 € - Sportliche Slazenger Baumwoll-T-Shirts mit Rundhals und großem Logodruck in 5 coolen FarbenWeitere Gutscheine aus Österreich1. 34 statt 72 € - Exklusives 7-Gänge-Degustationsmenü für Zwei inkl. freier Wahl zwischen Fisch und Fleisch sowie Wein, köstlichem Dessert und mehr bei Sale e Pepe2. 49 statt 130 € - Gesünder in den Frühling: Lebensmittelunverträglichkeitstest inkl. persönlicher Beratung im Institut Martina Lehrl3. Muttertags-Special: 19 statt 50 € - Alles, was das Haar begehrt: Neuer Schnitt, Färben, Strähnchen und vieles mehr bei Kopf und Quer4. 34 statt 69 € - 4-Gänge-Grillkochkurs im Gourmet Restaurant Wagner’s Wirtshaus5. 10 statt 22 € - 2 oder 3 Stunden Kegelspaß satt für bis zu 10 Personen bei Cafe MacaoWeitere Gutscheine aus einer anderen Kategorie1. 6 statt 12 € - Pizza, Pasta, Sushi und andere internationale Spezialitäten direkt nach Hause bestellen bei lieferando.at2. 24,99 statt 70 € - Saubere Wäsche mit frischem Duft: Markenwaschmittel von Persil im praktischen Vorratspack3. 9,95 statt 39,95 € - 1, 2 oder 3 Zahnweißstifte für ein strahlendes Lächeln bei Brilliant Smiles4. 44,90 statt 159,70 € - Edles Frottier-Set von VILLEROY & BOCH: 4 Handtücher, 2 Gästehandtücher und 2 Gästewaschlappen in Blau oder Weiß5. 14,90 statt 35 € - 1 Home-Set für French Manicure zum Selbstmachen inklusive Nagelpolitur, selbstklebenden Guide Strips für Finger- und Fußnägel von Casada Trade isimax\n",
      "\n",
      "Groupon bietet jeden Tag mehrere unterschiedliche Deals in vielen Großstädten Österreichs an. Ein Deal ist dabei ein unschlagbar günstiges Angebot von einem angesagten Geschäft oder Anbieter in deiner Nähe aus den Kategorien Wellness, Shopping, Restaurants, Freizeit, Service, Beauty, Gesundheit, Reisen und Tickets mit 50 bis 70% Rabatt. Alle vergangenen Deals kann man sich noch mal im Archiv für die Gutscheine ansehen. Dort bekommst Du eine tolle Übersicht über all die Schnäppchen, die Groupon dir bietet.\n",
      "\n",
      "Jetzt schon an den Sommer denken und mit regelmäßigem Sport beginnen – Flexibel an einem Ort nach Wahl trainieren – Erspart den Gang ins stickige und überfüllte Fitness-Studio – Mit nur einem Gerät die verschiedenen Muskelgrup...\n",
      "\n",
      "1. März 2012 Ein Kaninchenpaar wird von mehreren Hunden durch Feld und Flur gehetzt. Im letzten Augenblick flüchten sie in ein Erdloch. “Und was nun?”, jammert sie. Er: “Das ist doch ganz einfach, Liebling, wir warten hier so lange, bis wir ihnen zahlenmäßig überlegen sind!”\n",
      "\n",
      "Ich tauche ein in die Farben, die ich am liebsten mag und die mir meinen Tag erhellen. Ein sonniges Gelb, Himmelblau und Rosenrot, ganz wie es mir gefällt Und alles rundherum wird plötzlich gar so freundlich, angenehm und leicht. Ich male mir meinen Tag in bunten Farben und stelle zufrieden fest: So darf es sein, so kann es bleiben Es ist gut so, sehr gut sogar. Gut genug ♥ Zufriedenheit stellt sich ein, ein tiefes, wohliges Seufzen macht die Brust weit und lässt die Luft in die Lungen strömen ~ so kann der Tag gut beginnen, sehr gut sogar!\n",
      "\n",
      "Daraufhin suchte er lange nach einem geeigneten Marmorblock. Nach einer Weile fand er in einer Seitenstraße einen fast vollkommen von Unkraut überwucherten Block, der dort vergessen worden war. Diesen Marmorblock ließ Michelangelo von seinen Arbeitern in sein Atelier bringen.\n",
      "\n",
      "Dann begann er damit, die Statue des David aus dem Stein zu hauen. Dafür brauchte er zwei ganze Jahre. Und zwei weitere Jahre dauerte es, bis die Statue durch Schleifen und Polieren fertig war.\n",
      "\n",
      "Der Meister sprang auf, packte den jungen Mann am Genick, zerrte ihn zum Fluss und stieß seinen Kopf unter Wasser. Nach einer Weile ließ er den jungen Mann los und zog ihn aus dem Fluss. Der junge Mann spie das Wasser aus, das er geschluckt hatte, und fing an zu husten. Ein wenig später hatte er sich beruhigt.\n",
      "\n",
      "17. Januar 2012 Möge dein Arm nicht erlahmen, wenn du die Hand zur Versöhnung ausstreckst. Möge dein Fuß nie müde werden, wenn du auf deinen Widersacher zugehst. Mögen dir Flügel eines Engels wachsen, wenn du von diesem Gang zurückkehrst. Irischer Segen\n",
      "\n",
      "13. Januar 2012 Ein altes Ehepaar feierte nach langen Ehejahren seine goldene Hochzeit. Während sie am Frühstückstisch saßen, dachte die Frau: „ Schon seit 50 Jahren nehme ich immer Rücksicht auf meinen Mann und gebe ihm den knusprigsten Teil des Brötchens. Heute möchte ich endlich auch einmal diese Delikatesse genießen.“ Sie strich auf den oberen Teil des Brötchens Butter und gab die untere Hälfte ihrem Mann. Entgegen all ihren Erwartungen war er sehr erfreut, küsste ihre Hand und sagte: „Mein Schatz, du hast mir gerade die größte Freude dieses Tages gemacht. Schon 50 Jahre lang habe ich die untere Hälfte eines Brötchens nicht mehr gegessen, obwohl ich sie am liebsten mag. Ich dachte immer, dass du sie haben darfst, weil du sie so gerne isst.“\n",
      "\n",
      "9. November 2011 Wenn der Teich austrocknet und die Fische auf dem Trockenen liegen, genügt es nicht, sie mit dem eigenen Atem zu befeuchten oder mit Speichel zu benetzen. Man muss sie zurückwerfen in den See.\n",
      "\n",
      "Sich weiterzubilden macht Sinn. Doch eine Ausbildung nach der anderen verhindert, dass wir unser Leben tatsächlich LEBEN. Wir haben den Glauben verloren, dass alles, was wir wissen müssen, bereits in uns liegt und dass wir wundervolle Wesen sind, die ihr Potenzial leben wollen.\n",
      "\n",
      "Sein Vater gab ihm einen Beutel voll mit Nägeln und bat ihn, jedesmal dann einen Nagel in den Gartenzaun zu schlagen, wenn er seine Geduld verliert und/oder mit jemandem in Streit geraten ist. Am ersten Tag schlug der Junge 37 Nägel in den Gartenzaun. In den folgenden Wochen lernte der Junge, sich zu beherrschen und die Zahl der Nägel, die er in den Zaun schlug, wurde immer weniger. Der Junge merkte, dass es einfacher ist, sich zu beherrschen, als Nägel in den Zaun zu hämmern. Schließlich kommt der Tag, an dem der Junge keinen Nagel in den Gartenzaun schlägt. Er geht zu seinem Vater und erklärt ihm, dass er heute keinen Nagel in den Gartenzaun geschlagen hat. Da sagt sein Vater zu ihm, er soll jeden Tag wieder einen Nagel aus dem Zaun entfernen, an dem er sein Temperament erfolgreich unter Kontrolle halten kann. Viele Tage vergingen, bis der Junge seinem Vater erzählen kann, dass er alle Nägel aus dem Zaun gezogen hat.\n",
      "\n",
      "Der Vater geht mit seinem Sohn zu dem Zaun und erklärt ihm: „Mein Sohn, du hast dich in letzter Zeit gut benommen, aber schau wie viele Löcher du in dem Zaun hinterlassen hast. Er wird nie mehr der gleiche sein. Jedes Mal, wenn du Streit mit jemandem hast und ihn beleidigst, bleiben Wunden wie diese Löcher im Zaun. Jedes Mal, wenn du jemanden mit einem Messer stichst und es wieder herausziehst, bleibt so eine Wunde. Ganz egal, wie oft du dich entschuldigst, die Wunde wird bleiben. Eine Wunde, die du durch Worte erzeugst tut genauso weh, wie eine körperliche Wunde.“\n",
      "\n",
      "10. August 2011 Ein Motorradfahrer, stolzer Besitzer einer schweren Maschine, hielt während einer Fahrt an einem Parkplatz und entdeckte am Auspuff einen kleinen Fleck. Er nahm einen Lappen und wischte ihn liebevoll weg. Einer, der dabeistand, sagte: “Wenn du sie sorgsam pflegst, wird sie dich segnen.”\n",
      "\n",
      "Ausgezeichnet mit dem H�lderlin-Preis 2011�Arno Geiger hat ein tief ber�hrendes Buch �ber seinen Vater geschrieben, der trotz seiner Alzheimerkrankheit mit Vitalit�t, Witz und Klugheit beeindruckt. Die Krankheit l�st langsam seine Erinnerung und seine Orientierung in der Gegenwart auf, l�sst sein Leben abhandenkommen. Arno Geiger erz�hlt, wie er nochmals Freundschaft mit seinem Vater schlie�t und ihn viele Jahre begleitet. In nur scheinbar sinnlosen und oft so wunderbar poetischen S�tzen entdeckt er, dass es auch im Alter in der Person des Vaters noch alles gibt: Charme, Witz, Selbstbewusstsein und W�rde. Arno Geigers Buch ist lebendig, oft komisch. In seiner tief ber�hrenden Geschichte erz�hlt er von einem Leben, das es immer noch zutiefst wert ist, gelebt zu werden.\n",
      "\n",
      "Arno Geiger, geboren 1968 in Bregenz, lebt in Wien und Wolfurt/Vorarlberg. Studium der Germanistik, vergleichenden Literaturwissenschaft und Alten Geschichte. Seit 1986 Videotechniker bei den Bregenzer Festspielen. Ab 1993 freiberuflicher Schriftsteller. 1996 und 2004 Teilnahme am Klagenfurter Ingeborg-Bachmann-Wettbewerb. 1997 Publikation des Romanerstlings �Kleine Schule des Karussellfahrens�. 1998 wurde ihm der New Yorker Abraham Woursell Award verliehen. 2005 erh�lt er den ersten Deutschen Buchpreis f�r seinen Roman �Es geht uns gut�. Arno Geiger lebt in Wolfurt und Wien.\n",
      "\n",
      "Arno Geiger erzählt poetisch und mit großer Behutsamkeit die Lebensgeschichte seines an Demenz erkrankten Vaters. Besonders berührend fand ich, dass August Geiger, der in gesunden Tagen seine Gefühle nicht zeigen konnte, plötzlich beginnt, seine Empfindungen mitzuteilen. Ein ganz besonderes Buch, das als Huldigung an das Alter gesehen werden darf. Unbedingt selber lesen! Der alte König bleibt ein König!\n",
      "\n",
      "Arno Geiger schreibt ein berührendes, tief bewegendes und einfach wunderschönes Buch über die Demenz- bzw. Alzheimererkrankung seines Vaters. Ein würdevolles Buch über die Annäherung an die Krankheit und die späte, wiedergefundene Freundschaft zum Vater. Es ist aber nicht nur ein Roman über Alzheimer, sondern ein Roman über das Alter und Familie. Dabei nähert er sich mit viel Verständnis an die neue Wahrnehmung des Vaters an und kommt immer wieder zum Schluss, dass das Leben lebenswert ist. Auf Grund der poetischen und wunderschönen Sprache ist Geigers Buch trotz des ernsten Themas ein wunderschönes Buch, das man immer wieder lesen will.\n",
      "\n",
      "Arno Geiger erzählt einfühlsam von seinem Vater und der unaufhaltsam daherschleichenden Alzheimererkrankung. Die Auszüge und Passagen des Vaters berühren und muten gleichzeitig schön und traurig an. Ganz natürlich fühlt es sich an, wie die Vater-Sohn-Beziehung mit der Krankheit inniger und freundschaftlicher wird. Und macht die Krankheit den alten König heimatlos und entwurzelt, besticht er dennoch mit Witz und Scharfblick.\n",
      "\n",
      "Arno Geiger hat in seinem neuen Buch über ein Thema geschrieben, das uns alle betrifft. Wir alle haben Eltern, die eines Tages alt sein werden und von Alzheimer oder Demenz betroffen sein können. Und dann wünschen wir unseren Eltern, dass wir so mit ihnen umgehen können wie Arno Geiger es hier beschreibt. Wenn der Vater nicht mehr in unsere Welt kommen kann, müssen wir bereit sein seine Welt zu betreten meint Arno Geiger. In diesem Buch liegt so viel Gefühl, Bereitschaft zu Versöhnung und Anteilnahme. Dank an Arno Geiger für dieses Buch. Ergreifende Geschichte\n",
      "\n",
      "Arno Geiger geht offensiv mit der Tatsache um, dass sein Vater einen Teil seines Gedächtnisses verliert. Mit viel Liebe und Würde wird der Lebensabschnitt beschrieben, der so schmerzhaft für die Angehören verläuft. Ein Appell an die Angehörigen Zeit mit den Betroffenen zu verbringen, zuzuhören und dankbar zu sein- für die Zeit die sie miteinander hatten aber auch für die Zeit die noch verbleibt.\n",
      "\n",
      "Arno Geiger lernt seinen Vater auf eine völlig neue Weise kennen und schätzen. Es ist tiefgründig und ins Herz gehend. Ein Leitfaden für den Umgang mit den Menschen, denen wir viel verdanken und die immer in unsere Erinnerung leben.\n",
      "\n",
      "Arno Geigers neues Buch ist etwas ganz Besonderes. Ergreifend und einfühlsam erzählt er über die Erkrankung seines Vaters an Alzheimer und seinem Umgang mit der Krankheit. Anfänglich reagiert die Familie mit Unverständnis auf die veränderten Verhaltensweisen des Vaters. Die Alzheimer Krankheit und andere Formen der Demenz halten oft schleichend ihren Einzug in betroffene Familien. Das Besondere dieses Buche ist, dass es sich um eine authentische Vater-Sohn-Geschichte handelt-mit hohen moralischen Aspekten. Geiger verschweigt aber auch nicht die schmerzhaften Momente, in denen der Vater verwirrt reagiert oder Familienmitglieder verwechselt. Er lernt das Leben seines Vaters mit anderen Augen zu sehen. So entstehen bei aller Tragik komische Dialoge, sowie wertvolle Gedankenansätze für ihn selbst. So sagt Arno Geiger: \"Die objektive Wahrheit kam oft unter die Räder, es kümmerte mich nicht, denn sie war wertlos\". Ich empfehle jedem dieses großartige Buch, auch denen, die noch nichts mit dieser Krankheit zu tun haben. Es überzeugt durch seine hohe literarische Qualität und seine tiefe Menschlichkeit. Hat Ihnen diese Rezension geholfen?\n",
      "\n",
      "Arno Geiger beschreibt in diesem Buch, wie sein Vater sich immer mehr aus der Wirklichkeit verabschiedet und in der Alzheimer Krankheit verschwindet. Wie geht man damit als Familie um? Am Anfang war es dem Autor und seinen Geschwistern gar nicht klar, dass der Vater krank ist. Sie haben ihn sogar häufig verbal angegriffen und gesagt, er solle sich doch endlich zusammenreißen Doch irgendwann dämmerte es ihnen, dass der Vater entweder dement wird oder an der Alzheimer Krankheit erkrankt ist. Er beschreibt, wie die Familie mit der Situation umgegangen ist und wie unterschiedlich die einzelnen Familienmitglieder damit klargekommen sind. Er stellt sogar die sehr interessante These auf, dass diese Krankheit sogar eine Chance für das Familienverhältnis sein kann. Eingeflochten in diese Krankengeschichte sind Erinnerungen an die Kindheit und Jugend des Vaters als auch eigene Erinnerungen an das Familienleben. Ich finde es sehr mutig, dass der Autor uns so an seiner Familiengeschichte teilhaben lässt. Es ist ein sehr persönliches Buch und eigentlich gar kein Roman, aber man kann es sehr gut als einen solchen lesen. Und trotz der sehr traurigen Ausgangslage kann man sogar immer mal wieder lachen über die absurden Situationen und Unterhaltungen, die der Autor und sein Vater erleben.\n",
      "\n",
      "Auf Distanz,fast gefühlskalt geschrieben Beschreibung einer fortschreitenden Krankheit, die vom Rest der Familie (wegen der Distanz ?!) erst gar nicht wahgenommen wird. Erschreckend alleine die Titulierung \"der Vater\" die sich durch das ganze Buch zieht, während Geschwister mit Namen genannt werden. Zu verschiedenen Schilderungen oder Begebenheiten fehlen Details, sodass es schwer ist, den Dingen auf den Grund zu gehen. Insgesamt eine nüchterne Beschreibung ohne die angekündigte Wärme, die sich angeblich entwickelt hat. Erstaunlich, was man so alles als Buch verkaufen kann. Hier hat wohl der Name des Autors geholfen !?\n",
      "\n",
      "Mein Schwiegervater hat diese Krankheit. Durch Arno Geiger habe ich bemerkt wie zeitig diese Krankheit eigentlich bei meinem Schwiegervater aufgetreten ist. Ich habe mit Arno Geiger und seinen Vater gefühlt, geweint und gelacht und wie in einen Spiegel geblickt. Das Buch war im Nu ausgelesen - Danke für diese Erzählung!\n",
      "\n",
      "Ein sehr literarisches, sehr bewegendes Buch hat Arno Geiger hier verfasst. Über seinen Vater, den alten König, der Alzheimer hat. Und darüber, wie alle Beteiligten mit der Veränderung des Vaters in Folge der Krankheit umgehen. Von den guten und den schlechten Momenten, die Arno Geiger und sein Vater zusammen erleben. Es ist ein persönliches, ergreifendes, intensives Werk, welches mich nachdenklich gemacht hat. Lebhaft konnte ich mir vorstellen, wie schwierig der Umgang mit der fortschreitenden Krankheit für die Familie war. Dennoch kommen auch die schönen Augenblicke zur Geltung, wenn sich Vater und Sohn trotz oder gerade aufgrund der Krankheit wieder näherkommen. Auch überraschen die doch vielen Lichtblicke und zuweilen eine gewisse Komik. Sehr empfehlenswert!\n",
      "\n",
      "Auf einem schmalen Grad ist man unterwegs beim Lesen dieses Buches  zwischen Hoffnung und Ausweglosigkeit, Freude über kleine Erfolge und Mitleid. Eine berührende Vater-Sohn-Geschichte, die uns Arno Geiger erzählt, seine eigene. Und damit noch viel intensiver. In einer wundervollen, unverkennbaren und klaren Sprache schildert er den Beginn der Demenz seines Vaters und den für alle Beteiligten nicht leichten Verlauf der Krankheit. Ein wunderbares Buch, das Sie in diesem Frühjahr nicht verpassen sollten!\n",
      "\n",
      "Ich gebe es zu, zuerst habe ich mich nicht getraut, dieses Buch zu lesen. Zu emotional, zu bedrückend, aber nein: Arno Geiger beschreibt ganz wunderbar, wie er sich seinem an Alzheimer erkrankten Vater August annähert und wie die beiden Männer eine völlig neue Beziehung aufbauen. Ich finde jeder sollte dieses schmale Buch lesen, denn es macht Mut und man lernt sehr viel über den Umgang mit dementen Menschen. Arno und August Geiger haben mich sehr berührt und ich bin froh, mich doch getraut zu haben.\n",
      "Man muss auch das Allgemeinstepers�nlich darstellen. (S. 7-8)HokusaiAls ich sechs Jahre alt war, h�rte mein Gro�vater auf, mich zu erkennen. Er wohnte im Nachbarhaus unterhalb unseres Hauses, und weil ich seinen Obstgarten als Abk�rzung auf dem Weg zur Schule benutzte, warf er mir gelegentlich ein Scheit Holz hinterher, ich h�tte in seinen Feldern nichts verloren. Manchmal jedoch freute ihn mein Anblick, er kam auf mich zu und nannte mich Helmut. Das war ebenfalls nichts, womit ich etwas anfangen konnte. Der Gro�vater starb. Ich verga� diese Erlebnisse – bis die Krankheit bei meinem Vater losging.In Russland gibt es ein Sprichwort, dass nichts im Leben wiederkehrt au�er unseren Fehlern. Und im Alter verst�rken sie sich. Da der Vater schon immer einen Hang zum Eigenbr�tlerischen hatte, erkl�rten wir uns seine bald nach der Pensionierung auftretenden Aussetzer damit, dass er jetzt Anstalten machte, jegliches Interesse an seiner Umwelt zu verlieren. Sein Verhalten erschien typisch f�r ihn. Also gingen wir ihm etliche Jahre mit Beschw�rungen auf die Nerven, er solle sich zusammenrei�en.Heute bef�llt mich ein stiller Zorn �ber diese Vergeudung von Kr�ften; denn wir schimpften mit der Person und meinten die Krankheit. �Lass dich bitte nicht so gehen!�, sagten wir hundertmal, und der Vater nahm es hin, geduldig und nach dem Motto, dass man es am leichtesten hat, wenn man rechtzeitig resigniert. Er wollte dem Vergessen nicht trotzen, verwendete nie auch nur die geringsten Ged�chtnisst�tzen und lief daher auch nicht Gefahr, sich zu beklagen, jemand mache Knoten in seine Taschent�cher. Er leistete sich keinen hartn�ckigen Stellungskrieg gegen seinen geistigen Verfall, und er suchte nicht ein einziges Mal das Gespr�ch dar�ber, obwohl er – aus heutiger Sicht – sp�testens Mitte der neunziger Jahre um den Ernst der Sache gewusst haben muss. Wenn er zu einem seiner Kinder gesagt h�tte, tut mir leid, mein Gehirn l�sst mich im Stich, h�tten alle besser mit der Situation umgehen k�nnen. So jedoch fand ein jahrelanges Katz-und-Maus-Spiel statt, mit dem Vater als Maus, mit uns als M�usen und mit der Krankheit als Katze.\n",
      "\n",
      "Hier finden Sie die derzeit erhältlichen Ausstellungskataloge und Publikationen des Wien Museums. Um einen gewünschten Artikel zu finden, wählen Sie entweder den Ausstellungsort oder das Erscheinungsjahr. Darüber hinaus ist auch die Suche nach bestimmten Titeln oder Stichwörtern möglich.Katalog suchenOrt: Alle StandorteAusgrabungen MichaelerplatzBeethoven EroicahausBeethoven PasqualatihausBeethoven Wohnung HeiligenstadtHaydnhausHermesvillaJohann Strauß WohnungModesammlungMozartwohnungNeidhart FreskenOtto Wagner Hofpavillon HietzingOtto Wagner Pavillon KarlsplatzPratermuseumRömermuseumRömische Baureste Am HofSchubert GeburtshausSchubert SterbewohnungUhrenmuseumVirgilkapelleWien Museum KarlsplatzJahr: 20132012201120102009200820072006200520042003200220012000199919981997199619951994199319921991199019891988198719861985198419831982198119801979197819771976197519741973197219711970Text: Wien Außen - Ein Fotoprojekt von Didi SattmannFarb- und Schwarzweißabbildungen,\n",
      "\n",
      "Produziert zum 150. Geburtstag der Tageszeitung . Die Presse\", Systemvoraussetzungen: 386/25-Prozessor oder schneller einschließlich Pentium-Prozessor, Windows 95, NT 3.5.1, 3.1 oder höher, Sound-Blaster-16-kompatible Soundkarte, VGA oder SVGA-Grafikkarte mit mindestens 256 Farben (gültig für PC und Kompatible), 68040-Prozessor oder schneller, einschließlich PowerMacintosh, Macintosh OS 7.1 oder höher (gültig für Apple Macintosh)Erhältlich in: deutsch€ 1.50 statt [ € 5.50 ]\n"
     ]
    }
   ],
   "source": [
    "fname = \"S:msommer\\CC-MAIN-2013-20\\\\at\\CC-MAIN-20130516112802-00088-ip-10-60-113-184.ec2.internal-text.txt\"\n",
    "final_fname = fname.replace(\"text.txt\", \"FINAL.txt\")\n",
    "min_stopwords = 10\n",
    "with open(final_fname, 'wt', encoding=\"utf-8\") as f:\n",
    "    #for fname in glob.glob(\"*-text.txt\"):\n",
    "    iter = 0\n",
    "    with open(fname, \"rt\", encoding=\"utf-8\", errors='replace') as file:\n",
    "        for line in file:\n",
    "            # if a line consists of several stopwords, it is considered as real text\n",
    "            # this is also kind of language detection\n",
    "            #check_sw = not any(word for word in line.split() if word in stop_words)\n",
    "            sw_cnt = sum(word in stop_words for word in line.split())\n",
    "            comma_cnt = line.count(',')\n",
    "            if sw_cnt < min_stopwords or line.count('.') < 3 or len(line) < 100 or comma_cnt/sw_cnt > 1:\n",
    "                continue\n",
    "            f.write(line)\n",
    "            print(line)\n",
    "            iter += 1\n",
    "            \n",
    "            #print(len(line))\n",
    "            #if iter > 35:\n",
    "             #   break\n",
    "            "
   ],
   "metadata": {
    "collapsed": false,
    "ExecuteTime": {
     "end_time": "2024-03-11T21:40:33.616471900Z",
     "start_time": "2024-03-11T21:40:33.130464200Z"
    }
   },
   "id": "c710c985e04e0e2b",
   "execution_count": 20
  },
  {
   "cell_type": "markdown",
   "source": [
    "https://stackoverflow.com/questions/34612691/how-can-one-extract-every-payload-from-warc-wet-gz\n",
    "\n",
    "The code extracts the first 100 text \"payloads\" from the .warc.wet.gz file. The 100 created text files have shortened names which correspond to their associated url in the warc.wet.gz file. Many of the urls are too long to be used as as convenient names. The file wet_list_out.txt is generated and provides the correspondence between the shortened .txt file names and the associated urls.\n",
    "The code works. Of course you need to replace warc_wet_gz with the full path name of your own .warc.wet.gz file. If you want all the payloads, not just the first 100, set num to a very large number. Variable num was tacilty assumed to be 100 in the initial post. Why was it rated as not useful? The problem is solved. If you find issues with it please make specific suggestions. "
   ],
   "metadata": {
    "collapsed": false
   },
   "id": "c4223fd069ad78e8"
  },
  {
   "cell_type": "code",
   "outputs": [],
   "source": [
    "import requests\n",
    "from warcio.archiveiterator import ArchiveIterator\n",
    "from requests_file import FileAdapter\n",
    "def print_f_records(fpath,f_out,num):\n",
    "    record_count = 0\n",
    "    conversion_count = 0\n",
    "    header_count = 0\n",
    "    splitter = \"://\"\n",
    "    mx = num\n",
    "    s = requests.session()\n",
    "    s.mount('file://',FileAdapter())\n",
    "    resp = s.get(fpath, stream=True)\n",
    "    for record in ArchiveIterator(resp.raw, arc2warc=True):\n",
    "        record_count +=1\n",
    "        if record.rec_type == 'warcinfo':\n",
    "            print(record.raw_stream.read())\n",
    "        elif record.rec_type == 'conversion':\n",
    "            conversion_count +=1\n",
    "            if record.raw_stream.read is not None:\n",
    "                if record.rec_headers.get_header('Content-Type') == 'text/plain':\n",
    "                    header_count +=1\n",
    "                    if header_count > mx:\n",
    "                        continue\n",
    "                    print(\"\\n text/plain header no: \", header_count)\n",
    "                    prefix = f\"a{header_count}_\"        # filenames will begin with a<header_count>\n",
    "                    fname1 = (record.rec_headers.get_header('WARC-Target-URI'))\n",
    "                    fname = fname1.split(splitter)[1]   # get the name part which follows ://\n",
    "                    fname = prefix + fname[:22] + '.txt'    # keep entire file name to 32 characters or less\n",
    "                    fname = fname.replace(\"/\", \"_\")\n",
    "                    content = record.content_stream().read()\n",
    "                    f = open(fname, 'wb')               # note the wb; write in binay mode because the content is characters\n",
    "                    f.write(content)\n",
    "                    f.close()\n",
    "                    line = f'{fname1},{fname}' + \"\\n\" # keep a record of the url translations\n",
    "                    f_out.write(line)\n",
    "                    print(\"created text file: \", fname)\n",
    "                    if header_count == mx:\n",
    "                        print(f\"\\n... completed {mx} txt files ... \\n\")\n",
    "    print(\"Number of records: \", record_count)\n",
    "    print(\"Number of conversion types: \", conversion_count)\n",
    "    print(\"Number of text/plain http_headers: \", header_count)\n",
    "    print(\"\\nFINISHED\")\n",
    "warc_wet_gz ='file:////home/psl/CCrawl/text_extraction/text_from_wet/CC-MAIN-20230928063033-20230928093033-00593.warc.wet.gz'\n",
    "print(f'\\n warc.wet.gz file is {warc_wet_gz}')\n",
    "num=100\n",
    "f_out=open(\"wet_list_out.txt\", 'w')\n",
    "print_f_records(warc_wet_gz, f_out, num)\n",
    "f_out.close()"
   ],
   "metadata": {
    "collapsed": false
   },
   "id": "28765879e5d3b39c"
  },
  {
   "cell_type": "code",
   "outputs": [
    {
     "name": "stderr",
     "output_type": "stream",
     "text": [
      "[nltk_data] Downloading package punkt to\n",
      "[nltk_data]     C:\\Users\\e11778902\\AppData\\Roaming\\nltk_data...\n",
      "[nltk_data]   Unzipping tokenizers\\punkt.zip.\n"
     ]
    },
    {
     "data": {
      "text/plain": "True"
     },
     "execution_count": 19,
     "metadata": {},
     "output_type": "execute_result"
    }
   ],
   "source": [
    "from nltk.tokenize import word_tokenize\n",
    "nltk.download('punkt')"
   ],
   "metadata": {
    "collapsed": false,
    "ExecuteTime": {
     "end_time": "2024-03-12T11:55:16.144635700Z",
     "start_time": "2024-03-12T11:55:14.994564800Z"
    }
   },
   "id": "50c5a03aa5521df3",
   "execution_count": 19
  },
  {
   "cell_type": "code",
   "outputs": [
    {
     "name": "stdout",
     "output_type": "stream",
     "text": [
      "5 6\n"
     ]
    }
   ],
   "source": [
    "line = \"Das ist ein Beispiel ? Satz für ?? viele Anwendungen, wie der Zählung von Funktionswörtern!\"\n",
    "pct_cnt, sw_cnt = count_pct_and_stopwords(line, stop_words)\n",
    "print(pct_cnt, sw_cnt)\n",
    "if pct_cnt / sw_cnt > 1:\n",
    "    print(\"rm!\")"
   ],
   "metadata": {
    "collapsed": false,
    "ExecuteTime": {
     "end_time": "2024-03-12T12:01:14.291707100Z",
     "start_time": "2024-03-12T12:01:14.219132300Z"
    }
   },
   "id": "51018ba7d6f33d45",
   "execution_count": 28
  },
  {
   "cell_type": "code",
   "outputs": [],
   "source": [
    "    nlp = spacy.load(\"de_core_news_sm\")\n",
    "    words = set(nlp.vocab.strings)\n",
    "    word = 'anlangen'\n",
    "    print(f\"Is '{word}' a German word: {word in words}\")"
   ],
   "metadata": {
    "collapsed": false
   },
   "id": "38ec30cd534f6ff7"
  }
 ],
 "metadata": {
  "kernelspec": {
   "display_name": "Python 3",
   "language": "python",
   "name": "python3"
  },
  "language_info": {
   "codemirror_mode": {
    "name": "ipython",
    "version": 2
   },
   "file_extension": ".py",
   "mimetype": "text/x-python",
   "name": "python",
   "nbconvert_exporter": "python",
   "pygments_lexer": "ipython2",
   "version": "2.7.6"
  }
 },
 "nbformat": 4,
 "nbformat_minor": 5
}
